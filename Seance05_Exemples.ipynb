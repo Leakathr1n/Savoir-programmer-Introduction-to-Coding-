{
 "cells": [
  {
   "cell_type": "markdown",
   "id": "aacc29c7",
   "metadata": {},
   "source": [
    "# Question 1 - Échauffements"
   ]
  },
  {
   "cell_type": "markdown",
   "id": "9c3af10d",
   "metadata": {},
   "source": [
    "## Question 1.A\n",
    "Écrire un programme qui demande un nombre à l’utilisateur, et l'informe ensuite si ce nombre est positif ou négatif. (Aux fins du présent exercice, le nombre zéro est considéré comme étant positif)."
   ]
  },
  {
   "cell_type": "code",
   "execution_count": 10,
   "id": "9cbc360a",
   "metadata": {},
   "outputs": [
    {
     "name": "stdout",
     "output_type": "stream",
     "text": [
      "Entrenez un nombre:10\n",
      "Le nombre 10 est positif\n"
     ]
    }
   ],
   "source": [
    "nombre = input(\"Entrenez un nombre:\")\n",
    "#il es tplus facile quand j'ai un variable en string\n",
    "nombre = int(nombre)\n",
    "#c'est la meme chose comme: nb=int(input(\"Entrenez un nombre:\"))\n",
    "\n",
    "if nombre >=0:\n",
    "    print (f\"Le nombre {nombre} est positif\")\n",
    "else :\n",
    "     print (f\"Le nombre {nombre} est negatif\")"
   ]
  },
  {
   "cell_type": "code",
   "execution_count": 14,
   "id": "9d46d5cf",
   "metadata": {},
   "outputs": [
    {
     "name": "stdout",
     "output_type": "stream",
     "text": [
      "Entrenez un nombre:20\n",
      "Le nombre 20 est positif.\n"
     ]
    }
   ],
   "source": [
    "nb=int(input(\"Entrenez un nombre:\")) \n",
    "\n",
    "if nombre >=0:\n",
    "    signe = \"positif\"\n",
    "else :\n",
    "     signe = \"negativ\"\n",
    "        \n",
    "print(f\"Le nombre {nb} est {signe}.\")"
   ]
  },
  {
   "cell_type": "markdown",
   "id": "2b0ccc0e",
   "metadata": {},
   "source": [
    "## Question 1.B\n",
    "Écrire un programme qui lit trois nombres entiers nb1, nb2 et nb3, et affiche selon le cas, l’un des trois messages ci-dessous :\n",
    "- Les nombres sont en ordre croissant\n",
    "- Les nombres sont en ordre décroissant\n",
    "- Les nombres sont en désordre\n",
    "\n",
    "aux fins du présent exércice, ne considérons pas l'éventualité où les valeurs de nb1, nb2 et nb3 puissent être égales les unes aux autres."
   ]
  },
  {
   "cell_type": "code",
   "execution_count": 22,
   "id": "871ed916",
   "metadata": {},
   "outputs": [
    {
     "name": "stdout",
     "output_type": "stream",
     "text": [
      "nb1: 1\n",
      "nb2: \n",
      "nb3: 2\n",
      "Les nombres 1,  et 2 sont en en désordre\n"
     ]
    }
   ],
   "source": [
    "#technique 1 \n",
    "# nb1 < nb2  and nb2 < nb3: ordre croissant\n",
    "# nb3 < nb 2 and nb2 < nb1: orde décroissant\n",
    "#est si ca n'est pas ca, on a un ordre désordre\n",
    "\n",
    "nb1= input(\"nb1: \")\n",
    "nb2= input(\"nb2: \")\n",
    "nb3= input(\"nb3: \")\n",
    "\n",
    "if nb1 < nb2 and nb2 < nb3: \n",
    "    msg = \"en ordre croissant\"\n",
    "elif nb3 < nb2 and nb2 < nb1: \n",
    "    msg= \"en ordre décroissant\"\n",
    "else : \n",
    "    msg = \"en désordre\"\n",
    "    \n",
    "print(f\"Les nombres {nb1}, {nb2} et {nb3} sont en {msg}\")\n"
   ]
  },
  {
   "cell_type": "code",
   "execution_count": 32,
   "id": "800138c7",
   "metadata": {},
   "outputs": [
    {
     "name": "stdout",
     "output_type": "stream",
     "text": [
      "nb1: 4\n",
      "nb2: 3\n",
      "nb3: 2\n",
      "Les nombres 4, 3 et 2 sont en ordre décroissant.\n"
     ]
    }
   ],
   "source": [
    "#technqiue 2 (arbre)\n",
    "# si nb1 < nb2\n",
    "# - 1 oui: nb2 < nb3\n",
    "#- 2 oui: ordre croissant\n",
    "#- 2 non: ordre désordre\n",
    "# - 1 non: nb2 < nb3 1\n",
    "# - 2: oui: désordre\n",
    "# - 2: non: ordre décroissant\n",
    "\n",
    "nb1= input(\"nb1: \")\n",
    "nb2= input(\"nb2: \")\n",
    "nb3= input(\"nb3: \")\n",
    "\n",
    "if nb1 < nb2:\n",
    "    if nb2<nb3: \n",
    "        msg = \"en ordre croissant\"\n",
    "    else: \n",
    "        msg = \"en ordre désordre\" \n",
    "else: \n",
    "    if nb2<nb3: \n",
    "        msg = \"en ordre désordre \"\n",
    "    else: \n",
    "        msg = \"en ordre décroissant\" \n",
    "   \n",
    "\n",
    "print(f\"Les nombres {nb1}, {nb2} et {nb3} sont {msg}.\")"
   ]
  },
  {
   "cell_type": "markdown",
   "id": "5dcb884a",
   "metadata": {},
   "source": [
    "## Question 1.C\n",
    "Écrire un programme qui permet de calculer le résultat de la division de deux nombre entiers nb1 et nb2. Attention lorsque l'utilisateur introduit la valeur 0 pour nb2, on affiche « infini »."
   ]
  },
  {
   "cell_type": "code",
   "execution_count": 49,
   "id": "7377501a",
   "metadata": {},
   "outputs": [
    {
     "name": "stdout",
     "output_type": "stream",
     "text": [
      "1/0 = infini \n"
     ]
    }
   ],
   "source": [
    "nb1 = 1\n",
    "nb2 = 0\n",
    "\n",
    "if nb2 == 0: \n",
    "    resultat = \"infini\"\n",
    "else:\n",
    "    resulat = nb1/nb2\n",
    "\n",
    "print(f\"{nb1}/{nb2} = {resultat} \")"
   ]
  },
  {
   "cell_type": "markdown",
   "id": "296b388f",
   "metadata": {},
   "source": [
    "## Question 1.D\n",
    "Écrire le programme qui après lecture du montant TTC de l'addition, déterminera et affichera le montant du pourboire accordé à un serveur dans un restaurant. Le pourboire doit être de 15% sur le montant HT de l’addition. Le montant du pourboire ne peut être inférieur à 1$.\n",
    "\n",
    "Note : TPS = 5%, TVQ = 9.975%"
   ]
  },
  {
   "cell_type": "code",
   "execution_count": 66,
   "id": "bd5df5bd",
   "metadata": {},
   "outputs": [
    {
     "name": "stdout",
     "output_type": "stream",
     "text": [
      "Montant TTC svp:150\n",
      "Le montant du pourboire serait de 19.57.\n",
      "Le montant du pourboire serait de 19.57.\n",
      "Le montant du pourboire avec tous les decimales serait de 19.569471624266143.\n"
     ]
    }
   ],
   "source": [
    "TAUX_TPS = 0.05\n",
    "TAUX_TVQ = 0.09975\n",
    "TAUX_PB = .15\n",
    "SEUIL_MIN_PB = 1 \n",
    "\n",
    "montantTTC= float(input(\"Montant TTC svp:\"))\n",
    "montantHT = montantTTC / (1+TAUX_TPS+TAUX_TVQ)\n",
    "\n",
    "pourboire = montantHT*TAUX_PB \n",
    "\n",
    "if pourboire < 1:\n",
    "    pourboire = SEUIL_MIN_PB\n",
    "\n",
    "#f = float\n",
    "# .2 = je veux decimales\n",
    "print(f\"Le montant du pourboire serait de {pourboire:.2f}.\")\n",
    "\n",
    "\n",
    "#pour n'avoir pas des decimales quand le PB est vraiment egal a un integer\n",
    "print(f\"Le montant du pourboire serait de {round(pourboire,2)}.\")\n",
    "\n",
    "#tester PB\n",
    "print(f\"Le montant du pourboire avec tous les decimales serait de {pourboire}.\")"
   ]
  },
  {
   "cell_type": "markdown",
   "id": "4e22b0ab",
   "metadata": {},
   "source": [
    "# Question 2"
   ]
  },
  {
   "cell_type": "markdown",
   "id": "dabecc8e",
   "metadata": {},
   "source": [
    "Écrire le programme qui déterminera le total en dollars (arrondi) des clés USB commandées. Chaque clé USB coûte 15 dollars. Si on commande plus de 25 clés USB le prix est alors de 12.70 dollars chacune.\n",
    "On lit le nombre de clés USB, calculons et affichons le prix total."
   ]
  },
  {
   "cell_type": "code",
   "execution_count": 77,
   "id": "15e17894",
   "metadata": {},
   "outputs": [
    {
     "name": "stdout",
     "output_type": "stream",
     "text": [
      "Vous avez commandé combien des clés USB?:26\n",
      "Vous devez payer 330.2. Chaque clé USB a un prix de 12.70 dollars.\n"
     ]
    }
   ],
   "source": [
    "commandé = int(input(\"Vous avez commandé combien des clés USB?:\"))\n",
    "\n",
    "#prix = p par chaque clé \n",
    "if commandé>25:\n",
    "    p = 12.70\n",
    "else: \n",
    "    p = 15\n",
    "\n",
    "prix = commandé * p\n",
    "\n",
    "print(f\"Vous devez payer {prix}. Chaque clé USB a un prix de {p:.2f} dollars.\")"
   ]
  },
  {
   "cell_type": "markdown",
   "id": "2e172ce7",
   "metadata": {},
   "source": [
    "# Question 3"
   ]
  },
  {
   "cell_type": "markdown",
   "id": "424d3cea",
   "metadata": {},
   "source": [
    "Modifier le programme 1.D pour qu’en plus, on demande à l’utilisateur son degré de satisfaction, on calcule et affiche le pourboire selon le barème suivant :\n",
    "\n",
    "| Valeur saisie pour le degré de satisfaction |degré de satisfaction correspondant| Pourboire accordé|\n",
    "|---:|:---:|---:|\n",
    "|0|médiocre|10%|\n",
    "|1|moyen|15%|\n",
    "|2|satisfaisant|20%|\n",
    "|3|exceptionnel|25%|\n"
   ]
  },
  {
   "cell_type": "code",
   "execution_count": 1,
   "id": "c0b969f9",
   "metadata": {
    "scrolled": true
   },
   "outputs": [
    {
     "name": "stdout",
     "output_type": "stream",
     "text": [
      "Sur une échelle de 0(=médiocre) à 3 (=exceptionnel), quel est votre degré de satisfaction par rapport au service \n",
      " d'aujourd'hui ?  Veuillez saisir uniquement des chiffres complets. \n",
      " 0 = médiocre \n",
      " 1 = moyen \n",
      " 2= satisfaisant \n",
      " 3 = exceptionel \n",
      " Votre satisfaction: 2\n",
      "Montant TTC svp:200\n",
      "\n",
      "Le montant du pourboire serait de 34.79.\n",
      "Le montant du pourboire serait de 34.79.\n",
      "Le montant du pourboire avec tous les decimales serait de 34.79017177647315.\n"
     ]
    }
   ],
   "source": [
    "TAUX_TPS = 0.05\n",
    "TAUX_TVQ = 0.09975\n",
    "SEUIL_MIN_PB = 1 \n",
    "\n",
    "#                     0           1           2             3\n",
    "deg_satisfaction = [\"médiocre\",\"moyen\", \"satisfaisant\", \"exceptionnel\"]\n",
    "ratioPourboire = [           .1,    .15,            .2,            .25]\n",
    "\n",
    "\n",
    "while True: \n",
    "    \n",
    "    satisfaction = input(\"Sur une échelle de 0(=médiocre) à 3 (=exceptionnel), quel est votre degré de satisfaction par rapport au service \\n d'aujourd'hui ?  Veuillez saisir uniquement des chiffres complets. \\n 0 = médiocre \\n 1 = moyen \\n 2= satisfaisant \\n 3 = exceptionel \\n Votre satisfaction: \")\n",
    "    satisfaction = float(satisfaction)\n",
    "    if satisfaction == 0:\n",
    "        TAUX_PB = .10\n",
    "        break\n",
    "    elif satisfaction == 1:\n",
    "        TAUX_PB = .15\n",
    "        break\n",
    "    elif satisfaction == 2:\n",
    "        TAUX_PB = .2\n",
    "        break\n",
    "    elif satisfaction == 3:\n",
    "        TAUX_PB = .25\n",
    "        break\n",
    "    else: \n",
    "        print()\n",
    "        print(\"Vous n'avez pas introduit un numéro valide. Veuillez saisir 0, 1, 2 ou 3.\")\n",
    "\n",
    "\n",
    "montantTTC= float(input(\"Montant TTC svp:\"))\n",
    "montantHT = montantTTC / (1+TAUX_TPS+TAUX_TVQ)\n",
    "\n",
    "pourboire = montantHT*TAUX_PB \n",
    "\n",
    "if pourboire < 1:\n",
    "    pourboire = SEUIL_MIN_PB\n",
    "\n",
    "   \n",
    "print()\n",
    "#f = float\n",
    "# .2 = je veux decimales\n",
    "print(f\"Le montant du pourboire serait de {pourboire:.2f}.\")\n",
    "\n",
    "\n",
    "#pour n'avoir pas des decimales quand le PB est vraiment egal a un integer\n",
    "print(f\"Le montant du pourboire serait de {round(pourboire,2)}.\")\n",
    "\n",
    "#tester PB\n",
    "print(f\"Le montant du pourboire avec tous les decimales serait de {pourboire}.\")"
   ]
  },
  {
   "cell_type": "code",
   "execution_count": 2,
   "id": "e84dd701",
   "metadata": {},
   "outputs": [
    {
     "name": "stdout",
     "output_type": "stream",
     "text": [
      "Montant TTC svp:200\n",
      "Votre degré de satisfaction:\n",
      "\t0: médiocre\n",
      "\t1: moyen\n",
      "\t2: satisfaisant\n",
      "\t3: exceptionnel\n",
      "Choisissez un numéro correspondant à votre satisfaction (0, 1, 2, ou 3): 3\n",
      "Le montant du pourboire est de 43.49 CAD.\n"
     ]
    }
   ],
   "source": [
    "TAUX_TPS = 0.05\n",
    "TAUX_TVQ = 0.09975\n",
    "SEUIL_MIN_PB = 1\n",
    "montantTTC = float(input(\"Montant TTC svp:\"))\n",
    "montantHT = montantTTC / (1 + TAUX_TPS + TAUX_TVQ)\n",
    "\n",
    "deg_satisfaction = [\"médiocre\", \"moyen\", \"satisfaisant\", \"exceptionnel\"]\n",
    "ratioPourboire = [0.1, 0.15, 0.2, 0.25]\n",
    "\n",
    "# options de satisfaction\n",
    "message_invite = \"Votre degré de satisfaction:\"\n",
    "for i, s in enumerate(deg_satisfaction):\n",
    "    message_invite += \"\\n\\t\" + str(i) + \": \" + s\n",
    "\n",
    "#asking until we got a valid number\n",
    "while True:\n",
    "    try:\n",
    "        satisfaction = int(input(message_invite + \"\\nChoisissez un numéro correspondant à votre satisfaction (0, 1, 2, ou 3): \"))\n",
    "        if satisfaction in [0, 1, 2, 3]:\n",
    "            break\n",
    "        else:\n",
    "            print(\"Veuillez choisir un numéro valide (0, 1, 2, ou 3).\")\n",
    "    except ValueError:\n",
    "        print(\"Veuillez choisir un numéro valide (0, 1, 2, ou 3).\")\n",
    "\n",
    "pourboire = montantHT * ratioPourboire[satisfaction]\n",
    "\n",
    "print(f\"Le montant du pourboire est de {pourboire:.2f} CAD.\")\n"
   ]
  },
  {
   "cell_type": "markdown",
   "id": "0c0507da",
   "metadata": {},
   "source": [
    "# Solutions (notes pour moi-meme): \n",
    "Il y a d'autres façons de faire cet exercice - vérifiez-les !"
   ]
  },
  {
   "cell_type": "markdown",
   "id": "12fd79ef",
   "metadata": {},
   "source": [
    "# Question 4"
   ]
  },
  {
   "cell_type": "markdown",
   "id": "d8ef7de9",
   "metadata": {},
   "source": [
    "Vous avez une liste de noms d'étudiants : `['bob', 'mary', 'jane', 'rick', 'peter', 'marge']`.  \n",
    "\n",
    "Votre tâche consiste à demander à l'utilisateur de rentrer un nom, puis vérifier si ce nom est présent dans la liste d'étudiants. \n",
    "\n",
    "Si le nom est présent dans la liste, vous devez écrire le message suivant dans un fichier texte nommé `prenoms.txt` en utilisant la commande `with open` :\n",
    "> \"Le nom `<nom_utilisateur>` est présent dans la liste d'étudiants\"\n",
    "\n",
    "Si le nom n'est pas présent dans la liste, vous devez écrire le message suivant dans `prenoms.txt`:\n",
    "> \"Le nom `<nom_utilisateur>` n'est pas présent dans la liste d'étudiants\"\n",
    "\n",
    "**Indice**: Il peut etre judicieux de mettre le nom de l'utilisateur en minuscule pour uniformiser la casse."
   ]
  },
  {
   "cell_type": "code",
   "execution_count": 4,
   "id": "b7ab13b0",
   "metadata": {},
   "outputs": [
    {
     "name": "stdout",
     "output_type": "stream",
     "text": [
      "Entrez un nom : Lea\n",
      "Opération terminée. Vérifiez le fichier prenoms.txt.\n"
     ]
    }
   ],
   "source": [
    "# Liste des noms d'étudiants\n",
    "etudiants = ['bob', 'mary', 'jane', 'rick', 'peter', 'marge']\n",
    "\n",
    "# Demander à l'utilisateur de rentrer un nom\n",
    "nom_utilisateur = input(\"Entrez un nom : \")\n",
    "\n",
    "# Convertir le nom en lettres minuscules\n",
    "nom_utilisateur = nom_utilisateur.lower()\n",
    "\n",
    "# Vérifier si le nom est présent dans la liste d'étudiants\n",
    "if nom_utilisateur in etudiants:\n",
    "    message = f\"Le nom {nom_utilisateur} est présent dans la liste d'étudiants\"\n",
    "else:\n",
    "    message = f\"Le nom {nom_utilisateur} n'est pas présent dans la liste d'étudiants\"\n",
    "\n",
    "# Écrire le message dans le fichier prenoms.txt\n",
    "with open(\"prenoms.txt\", \"w\", encoding=\"UTF-8\") as fichier:\n",
    "    fichier.write(message)\n",
    "\n",
    "print(\"Opération terminée. Vérifiez le fichier prenoms.txt.\")"
   ]
  },
  {
   "cell_type": "markdown",
   "id": "ff74dae4",
   "metadata": {},
   "source": [
    "# Question 5"
   ]
  },
  {
   "cell_type": "markdown",
   "id": "bea20eae",
   "metadata": {},
   "source": [
    "Vous disposez des trois listes de données suivantes : \n",
    "- `first_names` contenant des prénoms, \n",
    "- `last_names` contenant des noms de famille,\n",
    "- `positions` contenant des positions. \n",
    "\n",
    "Votre tâche consiste à créer une boucle qui parcourt ces trois listes simultanement et affiche les informations de chaque joueur dans le format suivant:\n",
    "\n",
    "> Description du Joueur :  \n",
    "> Prénom : `<prenom>`  \n",
    "> Nom de Famille : `<noms_de_famille>`  \n",
    "> Position : `<positions>`  \n",
    "> `--------`\n",
    "    \n",
    "    \n",
    "Voici le code de départ que vous pouvez utiliser pour résoudre cet exercice :"
   ]
  },
  {
   "cell_type": "code",
   "execution_count": 7,
   "id": "c28c7c37",
   "metadata": {},
   "outputs": [
    {
     "name": "stdout",
     "output_type": "stream",
     "text": [
      "Description du Joueur :\n",
      "Prénom : bob\n",
      "Nom de Famille : marley\n",
      "Position : chanteur\n",
      "--------\n",
      "Description du Joueur :\n",
      "Prénom : mary\n",
      "Nom de Famille : poppins\n",
      "Position : actrice\n",
      "--------\n",
      "Description du Joueur :\n",
      "Prénom : jane\n",
      "Nom de Famille : berkin\n",
      "Position : creatrice\n",
      "--------\n",
      "Description du Joueur :\n",
      "Prénom : rick\n",
      "Nom de Famille : morti\n",
      "Position : dessinateur\n",
      "--------\n",
      "Description du Joueur :\n",
      "Prénom : peter\n",
      "Nom de Famille : pan\n",
      "Position : plombier\n",
      "--------\n",
      "Description du Joueur :\n",
      "Prénom : marge\n",
      "Nom de Famille : simpson\n",
      "Position : femme au foyer\n",
      "--------\n"
     ]
    }
   ],
   "source": [
    "first_names = ['bob'     , 'mary'   , 'jane'     , 'rick'       , 'peter'   , 'marge'         ]\n",
    "last_names =  ['marley'  ,'poppins' ,'berkin'    , 'morti'      , 'pan'     , 'simpson'       ]\n",
    "position =    ['chanteur', 'actrice', 'creatrice', 'dessinateur', 'plombier', 'femme au foyer']\n",
    "\n",
    "# Vérifie que les 3 listes ont le même nombre d'éléments\n",
    "len(first_names) == len(last_names) == len(position)\n",
    "\n",
    "# Itere sur les listes et imprimme le message adequat.\n",
    "for chiffre in range(min(len(first_names), len(last_names), len(position))):\n",
    "    print(f\"Description du Joueur :\\nPrénom : {first_names[chiffre]}\\nNom de Famille : {last_names[chiffre]}\\nPosition : {position[chiffre]}\")\n",
    "    print(\"--------\")"
   ]
  },
  {
   "cell_type": "markdown",
   "id": "025d7ee6",
   "metadata": {},
   "source": [
    "# Question 6:"
   ]
  },
  {
   "cell_type": "markdown",
   "id": "b52d68ec",
   "metadata": {},
   "source": [
    "Un fichier (`data.txt`) vous est fourni. Votre tâche consiste à ouvrir le fichier à l'aide de la fonction `with open` en mode `lecture` puis transformer les données qui s'y trouvent sous format `texte` (qui dit `texte` dit éléments de type `string`...) en une liste  que vous nommerez `list_of_integers`. \n",
    "\n",
    "`list_of_integers` ne doit contenir que des chiffres (éléments de type `int`)."
   ]
  },
  {
   "cell_type": "code",
   "execution_count": 142,
   "id": "7bd37b82",
   "metadata": {},
   "outputs": [
    {
     "data": {
      "text/plain": [
       "[1, 2, 3, 4, 5, 6, 7, 8, 9, 10, 11, 12, 13, 14, 15, 16, 17, 18, 19, 20]"
      ]
     },
     "execution_count": 142,
     "metadata": {},
     "output_type": "execute_result"
    }
   ],
   "source": [
    "fichier = open(\"data.txt\", \"r\", encoding = \"UTF-8\")\n",
    "\n",
    "lignes = fichier.readlines()\n",
    "\n",
    "list_of_integers = []\n",
    "\n",
    "for i in range(len(lignes)):\n",
    "    list_of_integers.append(int(lignes[i].strip()))\n",
    "\n",
    "fichier.close()\n",
    "\n",
    "list_of_integers"
   ]
  },
  {
   "cell_type": "code",
   "execution_count": 141,
   "id": "3074b726",
   "metadata": {},
   "outputs": [
    {
     "data": {
      "text/plain": [
       "[1, 2, 3, 4, 5, 6, 7, 8, 9, 10, 11, 12, 13, 14, 15, 16, 17, 18, 19, 20]"
      ]
     },
     "execution_count": 141,
     "metadata": {},
     "output_type": "execute_result"
    }
   ],
   "source": [
    "fichier = open(\"data.txt\", \"r\", encoding = \"UTF-8\")\n",
    "\n",
    "lignes = fichier.readlines()\n",
    "\n",
    "list_of_integers = [int(ligne.strip()) for ligne in lignes]\n",
    "\n",
    "fichier.close()\n",
    "\n",
    "list_of_integers"
   ]
  },
  {
   "cell_type": "markdown",
   "id": "70a2d14b",
   "metadata": {},
   "source": [
    "# Question 7:\n",
    "\n",
    "Un texte (`string`) vous est fourni ci-dessous, portant sur des nouvelles financières. Votre tâche consiste à compter le nombre d'occurrences de chaque mot unique dans le texte et à stocker ces informations dans un dictionnaire. Les clés du dictionnaire doivent être les mots et les valeurs associées doivent être le nombre d'occurrences de chaque mots unique dans le texte.\n",
    "\n",
    "**Remarque** :\n",
    "il faut enlever les symboles suivants du texte avant de compter les occurences:\n",
    "- les apostrophes `'`, \n",
    "- les virgules `,`\n",
    "- les points `.`"
   ]
  },
  {
   "cell_type": "code",
   "execution_count": 154,
   "id": "a76e9210",
   "metadata": {},
   "outputs": [
    {
     "ename": "TypeError",
     "evalue": "object of type 'builtin_function_or_method' has no len()",
     "output_type": "error",
     "traceback": [
      "\u001b[1;31m---------------------------------------------------------------------------\u001b[0m",
      "\u001b[1;31mTypeError\u001b[0m                                 Traceback (most recent call last)",
      "Cell \u001b[1;32mIn[154], line 9\u001b[0m\n\u001b[0;32m      1\u001b[0m texte \u001b[38;5;241m=\u001b[39m \u001b[38;5;124m\"\"\"\u001b[39m\u001b[38;5;124mLes marchés boursiers ont enregistré une forte hausse aujourd\u001b[39m\u001b[38;5;124m'\u001b[39m\u001b[38;5;124mhui,\u001b[39m\n\u001b[0;32m      2\u001b[0m \u001b[38;5;124m        avec des gains dans le secteur de la technologie et de l\u001b[39m\u001b[38;5;124m'\u001b[39m\u001b[38;5;124ménergie. \u001b[39m\n\u001b[0;32m      3\u001b[0m \u001b[38;5;124m        Les investisseurs surveillent de près les rapports trimestriels des grandes entreprises. \u001b[39m\n\u001b[0;32m      4\u001b[0m \u001b[38;5;124m        Les analystes prévoient des fluctuations des taux de change dans les prochaines semaines. \u001b[39m\n\u001b[0;32m      5\u001b[0m \u001b[38;5;124m        La Banque Centrale a annoncé une réduction de son taux directeur pour stimuler l\u001b[39m\u001b[38;5;124m'\u001b[39m\u001b[38;5;124méconomie.\u001b[39m\u001b[38;5;124m\"\"\"\u001b[39m\n\u001b[0;32m      7\u001b[0m mots \u001b[38;5;241m=\u001b[39m texte\u001b[38;5;241m.\u001b[39mreplace(\u001b[38;5;124m\"\u001b[39m\u001b[38;5;124m'\u001b[39m\u001b[38;5;124m\"\u001b[39m, \u001b[38;5;124m\"\u001b[39m\u001b[38;5;124m \u001b[39m\u001b[38;5;124m\"\u001b[39m)\u001b[38;5;241m.\u001b[39msplit\n\u001b[1;32m----> 9\u001b[0m \u001b[38;5;28;01mfor\u001b[39;00m i \u001b[38;5;129;01min\u001b[39;00m \u001b[38;5;28mrange\u001b[39m(\u001b[38;5;28mlen\u001b[39m(mots)):\n\u001b[0;32m     10\u001b[0m     mots[i] \u001b[38;5;241m=\u001b[39m mots[i]\u001b[38;5;241m.\u001b[39m strip (\u001b[38;5;124m\"\u001b[39m\u001b[38;5;124m,.\u001b[39m\u001b[38;5;124m\"\u001b[39m)\n",
      "\u001b[1;31mTypeError\u001b[0m: object of type 'builtin_function_or_method' has no len()"
     ]
    }
   ],
   "source": [
    "texte = \"\"\"Les marchés boursiers ont enregistré une forte hausse aujourd'hui,\n",
    "        avec des gains dans le secteur de la technologie et de l'énergie. \n",
    "        Les investisseurs surveillent de près les rapports trimestriels des grandes entreprises. \n",
    "        Les analystes prévoient des fluctuations des taux de change dans les prochaines semaines. \n",
    "        La Banque Centrale a annoncé une réduction de son taux directeur pour stimuler l'économie.\"\"\"\n",
    "\n",
    "mots = texte.replace(\"'\", \" \").split\n",
    "\n",
    "for i in range(len(mots)):\n",
    "    mots[i] = mots[i]. strip (\",.\")\n",
    "    \n",
    "    #fix!!!!!!!!!!!"
   ]
  },
  {
   "cell_type": "code",
   "execution_count": 143,
   "id": "ef4bb939",
   "metadata": {},
   "outputs": [
    {
     "ename": "NameError",
     "evalue": "name 'texte' is not defined",
     "output_type": "error",
     "traceback": [
      "\u001b[1;31m---------------------------------------------------------------------------\u001b[0m",
      "\u001b[1;31mNameError\u001b[0m                                 Traceback (most recent call last)",
      "Cell \u001b[1;32mIn[143], line 1\u001b[0m\n\u001b[1;32m----> 1\u001b[0m texte\n",
      "\u001b[1;31mNameError\u001b[0m: name 'texte' is not defined"
     ]
    }
   ],
   "source": []
  },
  {
   "cell_type": "code",
   "execution_count": 10,
   "id": "703d462e",
   "metadata": {},
   "outputs": [
    {
     "name": "stdout",
     "output_type": "stream",
     "text": [
      "{'de': 5, 'des': 4, 'Les': 3, 'une': 2, 'dans': 2, 'l': 2, 'les': 2, 'taux': 2, 'marchés': 1, 'boursiers': 1, 'ont': 1, 'enregistré': 1, 'forte': 1, 'hausse': 1, 'aujourd': 1, 'hui': 1, 'avec': 1, 'gains': 1, 'le': 1, 'secteur': 1, 'la': 1, 'technologie': 1, 'et': 1, 'énergie': 1, 'investisseurs': 1, 'surveillent': 1, 'près': 1, 'rapports': 1, 'trimestriels': 1, 'grandes': 1, 'entreprises': 1, 'analystes': 1, 'prévoient': 1, 'fluctuations': 1, 'change': 1, 'prochaines': 1, 'semaines': 1, 'La': 1, 'Banque': 1, 'Centrale': 1, 'a': 1, 'annoncé': 1, 'réduction': 1, 'son': 1, 'directeur': 1, 'pour': 1, 'stimuler': 1, 'économie': 1}\n"
     ]
    }
   ],
   "source": [
    "# Ordonner les reponses (bonus question possible si le temps permet)\n"
   ]
  },
  {
   "cell_type": "markdown",
   "id": "8a57f04a",
   "metadata": {},
   "source": [
    "## Question 8:\n",
    "\n",
    "Giovani est un étudiant astucieux en informatique de l'université de Montréal. Afin de sauver un peu de sous, il met à profit ses connaissances algorithmiques en pariant avec ses amis qu'il peut deviner n'importe quel nombre aléatoire, choisi par eux, dans une fourchette allant de 1 à 1 000 000, en utilisant un maximum de 20 essais seulement.\n",
    "\n",
    "Le secret de l'astuce de Giovani réside dans l'application d'un procédé ingénieux qui lui permet de réduire le nombre d'essais nécessaires pour deviner le nombre choisi par ses amis (la `cible`), parmi tous les nombres possible entre 1 et 1 000 000 (la `plage`)\n",
    "\n",
    "Les regles du pari sont les suivantes :\n",
    "\n",
    "1. Les ami(e)s de Giovanni choisissent un chiffre aléatoire (`cible`) entre 1 et 1 000 000 (`plage`).\n",
    "2. Giovanni essaie de deviner la cible (il à 20 essais maximum) de la manière suivante :\n",
    "\n",
    "- Si l'élément du milieu de la `plage` est égal à la `cible`, nous avons trouvé le chiffre.\n",
    "- Si l'élément du milieu de la `plage` est plus petit que la `cible`, ses amis lui indique que la `cible` est plus grande que l'élément choisi et on élimine la moitié gauche de la liste pour se concentrer sur la moitié droite.\n",
    "- Si l'élément du milieu de la `plage` est plus grand que la `cible`, ses amis lui indique que la `cible` est plus petite que l'élément choisi et on élimine la moitié droite de la liste pour se concentrer sur la moitié gauche.\n",
    "\n",
    "En divisant constamment la liste en deux et en comparant l'élément du milieu de la `plage` avec la `cible`, Giovanni réduit considérablement le nombre de comparaisons nécessaires pour trouver le numéro cible. \n",
    "\n",
    "Codons maintenant cette astuce en partant du code suivant:\n"
   ]
  },
  {
   "cell_type": "code",
   "execution_count": 11,
   "id": "356bdc90",
   "metadata": {},
   "outputs": [],
   "source": [
    "def split_inteligent(plage, cible):\n",
    "    left, right = 0, len(plage) - 1\n",
    "    count = 0\n",
    "    while left <= right:\n",
    "        count += 1\n",
    "        mid = (left + right) // 2\n",
    "        \n",
    "        if plage[mid] == cible:\n",
    "            return plage[mid], mid, count\n",
    "        elif plage[mid] < cible:\n",
    "            left = mid + 1\n",
    "        else:\n",
    "            right = mid - 1\n",
    "    \n",
    "    return None, -1, count  # Si element non trouvé"
   ]
  },
  {
   "cell_type": "code",
   "execution_count": 44,
   "id": "839507d8",
   "metadata": {},
   "outputs": [
    {
     "name": "stdout",
     "output_type": "stream",
     "text": [
      "Le chiffre a trouver est 82549\n",
      "82549 trouvé à l'index 82548 : True. Il a fallu 15 itérations pour trouver l'élément.\n"
     ]
    }
   ],
   "source": []
  },
  {
   "cell_type": "markdown",
   "id": "50b1dd96",
   "metadata": {},
   "source": [
    "# Bonus! (a faire a la maison).\n",
    "## Question 4 (v2)"
   ]
  },
  {
   "cell_type": "markdown",
   "id": "8dc6029b",
   "metadata": {},
   "source": [
    "Vous avez une liste de noms d'étudiants : `['Bob', 'Mary', 'Jane', 'Rick', 'Peter', 'Marge']`.\n",
    "\n",
    "Votre tâche consiste à utiliser une boucle while pour permettre à l'utilisateur d'essayer autant de fois qu'il le souhaite de rentrer un nom. Vous devez vérifier si le nom entré par l'utilisateur est présent dans la liste d'étudiants (**Attention** : `bob` et `Bob` sont considéré comme étant le même nom, `Mary` et `mary` aussi...). \n",
    "\n",
    "Si le nom est présent dans la liste, vous devez écrire le message suivant dans un fichier texte nommé `prenoms.txt` en utilisant la commande with open :\n",
    "> \"Le nom `<nom_utilisateur>` est présent dans la liste d'étudiants\"\n",
    "\n",
    "Si le nom n'est pas présent dans la liste, vous devez écrire le message suivant dans `prenoms.txt`:\n",
    "> \"Le nom `<nom_utilisateur>` n'est pas présent dans la liste d'étudiants\"\n",
    "\n",
    "Finalement, demandez à l'utilisateur s'il souhaite essayer un autre nom. Si oui, continuez la boucle, sinon quittez la boucle.\n",
    "\n",
    "Vous devez écrire sur le fichier `prenoms.txt` de tel sorte à garder l'historique des messages de toutes les tentatives."
   ]
  },
  {
   "cell_type": "code",
   "execution_count": null,
   "id": "ef791e83",
   "metadata": {},
   "outputs": [],
   "source": []
  }
 ],
 "metadata": {
  "kernelspec": {
   "display_name": "Python 3 (ipykernel)",
   "language": "python",
   "name": "python3"
  },
  "language_info": {
   "codemirror_mode": {
    "name": "ipython",
    "version": 3
   },
   "file_extension": ".py",
   "mimetype": "text/x-python",
   "name": "python",
   "nbconvert_exporter": "python",
   "pygments_lexer": "ipython3",
   "version": "3.11.4"
  }
 },
 "nbformat": 4,
 "nbformat_minor": 5
}
