{
 "cells": [
  {
   "cell_type": "markdown",
   "id": "d8d4533f",
   "metadata": {},
   "source": [
    "# Séance 1"
   ]
  },
  {
   "cell_type": "code",
   "execution_count": 1,
   "id": "7f118dcd",
   "metadata": {},
   "outputs": [
    {
     "data": {
      "text/plain": [
       "25"
      ]
     },
     "execution_count": 1,
     "metadata": {},
     "output_type": "execute_result"
    }
   ],
   "source": [
    "#a bit of math\n",
    "10+15"
   ]
  },
  {
   "cell_type": "code",
   "execution_count": 22,
   "id": "a8335fb4",
   "metadata": {},
   "outputs": [
    {
     "name": "stdout",
     "output_type": "stream",
     "text": [
      "40\n"
     ]
    }
   ],
   "source": [
    "#putting some numbers\n",
    "\n",
    "print (40)"
   ]
  },
  {
   "cell_type": "code",
   "execution_count": 21,
   "id": "76758ca5",
   "metadata": {
    "scrolled": true
   },
   "outputs": [
    {
     "name": "stdout",
     "output_type": "stream",
     "text": [
      "Hello world\n"
     ]
    }
   ],
   "source": [
    "#putting in some text\n",
    "\n",
    "print (\"Hello world\")"
   ]
  },
  {
   "cell_type": "markdown",
   "id": "4b75c8db",
   "metadata": {},
   "source": [
    "# S01_02_Instructions_Base_1"
   ]
  },
  {
   "cell_type": "code",
   "execution_count": 23,
   "id": "2243aebb",
   "metadata": {},
   "outputs": [
    {
     "data": {
      "text/plain": [
       "11.4975"
      ]
     },
     "execution_count": 23,
     "metadata": {},
     "output_type": "execute_result"
    }
   ],
   "source": [
    "#une opération mathématique simple\n",
    "\n",
    "10 + 10 * 0.05 + 10 * 0.09975"
   ]
  },
  {
   "cell_type": "code",
   "execution_count": 29,
   "id": "36b4d3f4",
   "metadata": {},
   "outputs": [
    {
     "data": {
      "text/plain": [
       "11.0"
      ]
     },
     "execution_count": 29,
     "metadata": {},
     "output_type": "execute_result"
    }
   ],
   "source": [
    "#deux operations - fais attention! Ca ne marche pas! \n",
    "\n",
    "10+20\n",
    "66/6"
   ]
  },
  {
   "cell_type": "code",
   "execution_count": 36,
   "id": "ce063450",
   "metadata": {},
   "outputs": [
    {
     "data": {
      "text/plain": [
       "11.0"
      ]
     },
     "execution_count": 36,
     "metadata": {},
     "output_type": "execute_result"
    }
   ],
   "source": [
    "#get both results\n",
    "results = 10+20\n",
    "66/6"
   ]
  },
  {
   "cell_type": "code",
   "execution_count": 38,
   "id": "8623740b",
   "metadata": {},
   "outputs": [
    {
     "data": {
      "text/plain": [
       "30"
      ]
     },
     "execution_count": 38,
     "metadata": {},
     "output_type": "execute_result"
    }
   ],
   "source": [
    "results"
   ]
  },
  {
   "cell_type": "code",
   "execution_count": 45,
   "id": "ef54c90a",
   "metadata": {},
   "outputs": [
    {
     "name": "stdout",
     "output_type": "stream",
     "text": [
      "35\n"
     ]
    }
   ],
   "source": [
    "result = result +1\n",
    "print (result) \n",
    "#it is important how often you have executed it before! If I only execute one, I will get 31, if twice, I will get 32"
   ]
  },
  {
   "cell_type": "markdown",
   "id": "8f04edea",
   "metadata": {},
   "source": [
    "# Types of numbers/input"
   ]
  },
  {
   "cell_type": "code",
   "execution_count": 46,
   "id": "58df5e72",
   "metadata": {
    "scrolled": true
   },
   "outputs": [
    {
     "name": "stdout",
     "output_type": "stream",
     "text": [
      "10\n",
      "<class 'int'>\n",
      "du texte!\n",
      "<class 'str'>\n",
      "10.3\n",
      "<class 'float'>\n"
     ]
    }
   ],
   "source": [
    "#I use the type so that python tells me what kind of input it got\n",
    "# une première variable\n",
    "x = 10\n",
    "print(x)\n",
    "print(type(x))\n",
    "\n",
    "# une deuxième variable\n",
    "y = \"du texte!\"\n",
    "print(y)\n",
    "print(type(y))\n",
    "\n",
    "# une troisième variable\n",
    "z = 10.3\n",
    "print(z)\n",
    "print(type(z))\n"
   ]
  },
  {
   "cell_type": "code",
   "execution_count": 47,
   "id": "dd3911af",
   "metadata": {},
   "outputs": [],
   "source": [
    "# int --> integer/integral\n",
    "# str --> string variables (just text)\n",
    "# float --> not an integer "
   ]
  },
  {
   "cell_type": "code",
   "execution_count": 57,
   "id": "45b00ff5",
   "metadata": {},
   "outputs": [
    {
     "name": "stdout",
     "output_type": "stream",
     "text": [
      "10\n",
      "<class 'int'>\n",
      "10.3\n",
      "<class 'float'>\n"
     ]
    }
   ],
   "source": [
    "#demosntrating that python does not keep the same x \"forever\"\n",
    "\n",
    "x = 10\n",
    "print(x)\n",
    "print(type(x))\n",
    "\n",
    "x=10.3\n",
    "print(x)\n",
    "print(type(x))"
   ]
  },
  {
   "cell_type": "markdown",
   "id": "d9e6f328",
   "metadata": {},
   "source": [
    "# Functions"
   ]
  },
  {
   "cell_type": "code",
   "execution_count": 63,
   "id": "560e98b4",
   "metadata": {
    "scrolled": true
   },
   "outputs": [
    {
     "name": "stdout",
     "output_type": "stream",
     "text": [
      "la variable x a pour valeur 10 et pour type <class 'int'>\n",
      "la variable y a pour valeur du texte! et pour type <class 'str'>\n",
      "la variable z a pour valeur 10.3 et pour type <class 'float'>\n"
     ]
    }
   ],
   "source": [
    "# une première variable using format!\n",
    "x = 10\n",
    "print(\"la variable x a pour valeur {0} et pour type {1}\".format(x, type(x)))\n",
    "\n",
    "# une deuxième variable\n",
    "y = \"du texte!\"\n",
    "print(\"la variable y a pour valeur {0} et pour type {1}\".format(y, type(y)))\n",
    "\n",
    "# une troisième variable\n",
    "z = 10.3\n",
    "print(\"la variable z a pour valeur {0} et pour type {1}\".format(z, type(z)))"
   ]
  },
  {
   "cell_type": "markdown",
   "id": "90b094fa",
   "metadata": {},
   "source": [
    "# S01_03_Instructions_Base 2 Quelques erreurs communes\n"
   ]
  },
  {
   "cell_type": "code",
   "execution_count": null,
   "id": "fdfcc099",
   "metadata": {},
   "outputs": [],
   "source": [
    "#look at the correponding file because it is just examples"
   ]
  },
  {
   "cell_type": "code",
   "execution_count": null,
   "id": "f3bc25b0",
   "metadata": {},
   "outputs": [],
   "source": [
    "#find exercises to practive here!! "
   ]
  },
  {
   "cell_type": "markdown",
   "id": "46c973d1",
   "metadata": {},
   "source": [
    "# S01_04_Input_output_Base"
   ]
  },
  {
   "cell_type": "code",
   "execution_count": 64,
   "id": "937f0ef2",
   "metadata": {},
   "outputs": [
    {
     "name": "stdout",
     "output_type": "stream",
     "text": [
      "f\n"
     ]
    },
    {
     "data": {
      "text/plain": [
       "'f'"
      ]
     },
     "execution_count": 64,
     "metadata": {},
     "output_type": "execute_result"
    }
   ],
   "source": [
    "input ()"
   ]
  },
  {
   "cell_type": "code",
   "execution_count": 67,
   "id": "dbcd9477",
   "metadata": {
    "scrolled": true
   },
   "outputs": [
    {
     "ename": "KeyboardInterrupt",
     "evalue": "Interrupted by user",
     "output_type": "error",
     "traceback": [
      "\u001b[1;31m---------------------------------------------------------------------------\u001b[0m",
      "\u001b[1;31mKeyboardInterrupt\u001b[0m                         Traceback (most recent call last)",
      "Cell \u001b[1;32mIn[67], line 2\u001b[0m\n\u001b[0;32m      1\u001b[0m \u001b[38;5;66;03m# ici, on va demander le nom de l'utilisateur et stocker la valeur dans une variable appelée user_name.\u001b[39;00m\n\u001b[1;32m----> 2\u001b[0m user_name \u001b[38;5;241m=\u001b[39m \u001b[38;5;28minput\u001b[39m(\u001b[38;5;124m\"\u001b[39m\u001b[38;5;124mEntrez votre nom:\u001b[39m\u001b[38;5;124m\"\u001b[39m)\n\u001b[0;32m      3\u001b[0m \u001b[38;5;66;03m#creating a variable\u001b[39;00m\n\u001b[0;32m      4\u001b[0m \u001b[38;5;28mprint\u001b[39m(\u001b[38;5;124m\"\u001b[39m\u001b[38;5;124mBonjour \u001b[39m\u001b[38;5;132;01m{0}\u001b[39;00m\u001b[38;5;124m!\u001b[39m\u001b[38;5;124m\"\u001b[39m\u001b[38;5;241m.\u001b[39mformat(user_name))\n",
      "File \u001b[1;32m~\\anaconda3\\Lib\\site-packages\\ipykernel\\kernelbase.py:1175\u001b[0m, in \u001b[0;36mKernel.raw_input\u001b[1;34m(self, prompt)\u001b[0m\n\u001b[0;32m   1171\u001b[0m \u001b[38;5;28;01mif\u001b[39;00m \u001b[38;5;129;01mnot\u001b[39;00m \u001b[38;5;28mself\u001b[39m\u001b[38;5;241m.\u001b[39m_allow_stdin:\n\u001b[0;32m   1172\u001b[0m     \u001b[38;5;28;01mraise\u001b[39;00m StdinNotImplementedError(\n\u001b[0;32m   1173\u001b[0m         \u001b[38;5;124m\"\u001b[39m\u001b[38;5;124mraw_input was called, but this frontend does not support input requests.\u001b[39m\u001b[38;5;124m\"\u001b[39m\n\u001b[0;32m   1174\u001b[0m     )\n\u001b[1;32m-> 1175\u001b[0m \u001b[38;5;28;01mreturn\u001b[39;00m \u001b[38;5;28mself\u001b[39m\u001b[38;5;241m.\u001b[39m_input_request(\n\u001b[0;32m   1176\u001b[0m     \u001b[38;5;28mstr\u001b[39m(prompt),\n\u001b[0;32m   1177\u001b[0m     \u001b[38;5;28mself\u001b[39m\u001b[38;5;241m.\u001b[39m_parent_ident[\u001b[38;5;124m\"\u001b[39m\u001b[38;5;124mshell\u001b[39m\u001b[38;5;124m\"\u001b[39m],\n\u001b[0;32m   1178\u001b[0m     \u001b[38;5;28mself\u001b[39m\u001b[38;5;241m.\u001b[39mget_parent(\u001b[38;5;124m\"\u001b[39m\u001b[38;5;124mshell\u001b[39m\u001b[38;5;124m\"\u001b[39m),\n\u001b[0;32m   1179\u001b[0m     password\u001b[38;5;241m=\u001b[39m\u001b[38;5;28;01mFalse\u001b[39;00m,\n\u001b[0;32m   1180\u001b[0m )\n",
      "File \u001b[1;32m~\\anaconda3\\Lib\\site-packages\\ipykernel\\kernelbase.py:1217\u001b[0m, in \u001b[0;36mKernel._input_request\u001b[1;34m(self, prompt, ident, parent, password)\u001b[0m\n\u001b[0;32m   1214\u001b[0m             \u001b[38;5;28;01mbreak\u001b[39;00m\n\u001b[0;32m   1215\u001b[0m \u001b[38;5;28;01mexcept\u001b[39;00m \u001b[38;5;167;01mKeyboardInterrupt\u001b[39;00m:\n\u001b[0;32m   1216\u001b[0m     \u001b[38;5;66;03m# re-raise KeyboardInterrupt, to truncate traceback\u001b[39;00m\n\u001b[1;32m-> 1217\u001b[0m     \u001b[38;5;28;01mraise\u001b[39;00m \u001b[38;5;167;01mKeyboardInterrupt\u001b[39;00m(\u001b[38;5;124m\"\u001b[39m\u001b[38;5;124mInterrupted by user\u001b[39m\u001b[38;5;124m\"\u001b[39m) \u001b[38;5;28;01mfrom\u001b[39;00m \u001b[38;5;28;01mNone\u001b[39;00m\n\u001b[0;32m   1218\u001b[0m \u001b[38;5;28;01mexcept\u001b[39;00m \u001b[38;5;167;01mException\u001b[39;00m:\n\u001b[0;32m   1219\u001b[0m     \u001b[38;5;28mself\u001b[39m\u001b[38;5;241m.\u001b[39mlog\u001b[38;5;241m.\u001b[39mwarning(\u001b[38;5;124m\"\u001b[39m\u001b[38;5;124mInvalid Message:\u001b[39m\u001b[38;5;124m\"\u001b[39m, exc_info\u001b[38;5;241m=\u001b[39m\u001b[38;5;28;01mTrue\u001b[39;00m)\n",
      "\u001b[1;31mKeyboardInterrupt\u001b[0m: Interrupted by user"
     ]
    }
   ],
   "source": [
    "# ici, on va demander le nom de l'utilisateur et stocker la valeur dans une variable appelée user_name.\n",
    "user_name = input(\"Entrez votre nom:\")\n",
    "#creating a variable\n",
    "print(\"Bonjour {0}!\".format(user_name))\n",
    "\n",
    "# la deuxième façon/ second way of doing it\n",
    "print(\"Bonjour \" + user_name + \"!\")"
   ]
  },
  {
   "cell_type": "markdown",
   "id": "0a372dcb",
   "metadata": {},
   "source": [
    "# S01_05_Input_Output_Avance"
   ]
  },
  {
   "cell_type": "code",
   "execution_count": 7,
   "id": "d623f76d",
   "metadata": {
    "scrolled": true
   },
   "outputs": [
    {
     "name": "stdout",
     "output_type": "stream",
     "text": [
      "Bienvenue au cours de programmation!\n",
      "Voici une ligne de texte.\n",
      "Et en voici une autre!\n",
      "Bienvenue au cours de programmation!\n",
      "Voici une ligne de texte.\n",
      "Et en voici une autre!\n",
      "Bienvenue au cours de programmation!\n",
      "Voici une ligne de texte.\n",
      "Et en voici une autre!\n"
     ]
    }
   ],
   "source": [
    "with open (\"fichier_simple.txt\",\"r\") as text_file:\n",
    "    file_contents = text_file.read()\n",
    "    print(file_contents)\n",
    "    \n",
    "with open(\"fichier_simple.txt\",\"r\") as text_file:\n",
    "    print(text_file.read())\n",
    "    \n",
    "fichier = open (\"fichier_simple.txt\",\"r\")\n",
    "print(fichier.read())\n",
    "fichier.close()\n",
    "#it is important to close the fichier! "
   ]
  },
  {
   "cell_type": "code",
   "execution_count": null,
   "id": "086d012f",
   "metadata": {},
   "outputs": [],
   "source": [
    "#check how you get the mode overview again!!\n",
    "#shift and tab!!! "
   ]
  },
  {
   "cell_type": "code",
   "execution_count": null,
   "id": "8819a17f",
   "metadata": {},
   "outputs": [],
   "source": [
    "# écriture dans un fichier texte\n",
    "user_name = input(\"Quel est votre nom? \")\n",
    "\n",
    "\n",
    "with open(\"user_name.txt\",\"w\") as text_file:\n",
    "    text_file.write(user_name)"
   ]
  },
  {
   "cell_type": "code",
   "execution_count": 9,
   "id": "565de402",
   "metadata": {},
   "outputs": [
    {
     "name": "stdout",
     "output_type": "stream",
     "text": [
      "Quel est votre nom (première fois)? Lea\n",
      "Quel est votre nom (deuxième fois)? Kathrin\n"
     ]
    }
   ],
   "source": [
    "# première étape, je vais vider le contenu de mon fichier. \n",
    "# pour cela, je l'ouvre en écriture mais je n'écris rien dedans.\n",
    "with open(\"user_name.txt\",\"w\") as text_file:\n",
    "    text_file.write(\"\")\n",
    "\n",
    "# maintenant je vais demander un premier nom et l'ajouter à mon fichier.\n",
    "# noter ici le symbole \\n quand on fait le write().\n",
    "user_name = input(\"Quel est votre nom (première fois)? \")\n",
    "with open(\"user_name.txt\",\"a\") as text_file:\n",
    "    text_file.write(user_name + \"\\n\")\n",
    "    \n",
    "user_name = input(\"Quel est votre nom (deuxième fois)? \")\n",
    "with open(\"user_name.txt\",\"a\") as text_file:\n",
    "    text_file.write(user_name + \"\\n\")"
   ]
  },
  {
   "cell_type": "code",
   "execution_count": null,
   "id": "7e088382",
   "metadata": {},
   "outputs": [],
   "source": [
    "#cellule pour exercise 5\n",
    "\n",
    "import random\n",
    "\n",
    "#first time\n",
    "random_number = random.randrange(1,16)\n",
    "\n",
    "guess = int(input(\"What is your guess?\"))\n",
    "\n",
    "comparison = (\"Choix {0} - résultat  {1}\".format(guess, random_number))\n",
    "\n",
    "with open(\"jeu_nombre.txt\",\"w\") as text_file:\n",
    "    text_file.write(comparison + \"\\n\")\n",
    "    \n",
    " #second time\n",
    "\n",
    "random_number = random.randrange(1,16)\n",
    "\n",
    "guess = int(input(\"What is your guess?\"))\n",
    "\n",
    "comparison = (\"Choix {0} - résultat  {1}\".format(guess, random_number))\n",
    "\n",
    "with open(\"jeu_nombre.txt\",\"a\") as text_file:\n",
    "    text_file.write(comparison + \"\\n\")\n",
    "    \n",
    "    \n",
    "#third time\n",
    "\n",
    "random_number = random.randrange(1,16)\n",
    "\n",
    "guess = int(input(\"What is your guess?\"))\n",
    "\n",
    "comparison = (\"Choix {0} - résultat  {1}\".format(guess, random_number))\n",
    "\n",
    "with open(\"jeu_nombre.txt\",\"a\") as text_file:\n",
    "    text_file.write(comparison + \"\\n\")\n"
   ]
  },
  {
   "cell_type": "code",
   "execution_count": null,
   "id": "086efa3d",
   "metadata": {},
   "outputs": [],
   "source": []
  }
 ],
 "metadata": {
  "kernelspec": {
   "display_name": "Python 3 (ipykernel)",
   "language": "python",
   "name": "python3"
  },
  "language_info": {
   "codemirror_mode": {
    "name": "ipython",
    "version": 3
   },
   "file_extension": ".py",
   "mimetype": "text/x-python",
   "name": "python",
   "nbconvert_exporter": "python",
   "pygments_lexer": "ipython3",
   "version": "3.11.4"
  }
 },
 "nbformat": 4,
 "nbformat_minor": 5
}
