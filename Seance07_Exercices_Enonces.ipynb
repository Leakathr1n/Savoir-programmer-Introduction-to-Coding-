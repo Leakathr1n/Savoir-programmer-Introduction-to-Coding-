{
 "cells": [
  {
   "cell_type": "markdown",
   "metadata": {},
   "source": [
    "# Séance 7 - Exercices\n",
    "\n",
    "- Avant de réaliser les exercices suivants, assurez-vous d'avoir bien assimilé la matière présentée en cours.\n",
    "- Il est possible que votre solution soit différente de celle d'un(e) collègue ou de l'enseignant(e).\n",
    "- __Attention__ : Avant de vous lancer dans l'écriture du code, prenez quelques minutes pour réfléchir à la façon dont vous attaqueriez le problème, ce qui veut dire entre autres que vous devez choisir le bon type de données à utiliser en fonction de ce que vous devez faire (et non pas le premier type qui vous vient à l'esprit).\n",
    "\n",
    "## Exercice 1 - Valider un générateur de nombres aléatoires\n",
    "On vous demande de valider que la fonction `random.choices` produit effectivement la distribution désirée. Cette fonction reçoit en paramètre la liste des valeurs possibles et optionnellement les poids associés à ces valeurs (paramètre `weights`) ainsi que le nombre de valeurs à générer. Le résultat est un tableau contenant `k` éléments.\n",
    "\n",
    "Pour réaliser la validation, utiliser les données suivantes :\n",
    "\n",
    "| Valeur | Poids     |\n",
    "| ------ | ------:  |\n",
    "| A      | 0,2      |\n",
    "| B      | 0,6      |\n",
    "| C      | 0,1      |\n",
    "| D      | 1,1      |\n",
    "\n",
    "- Pour ce faire, écrivez un script Python qui produit 100 valeurs aléatoires et placez-les dans un DataFrame pandas pour afficher la fréquence de chaque valeur. Comment auriez-vous fait sans pandas?\n",
    "\n",
    "- Par la suite, comparez la fréquence obtenue avec la distribution que l'on devrait avoir en théorie (en valeur absolue et en pourcentage). Calculez le pourcentage d'erreurs. Que se passe-t-il avec le pourcentage d'erreur si on produit 100 000 valeurs aléatoires ? 1 000 000 valeurs ?"
   ]
  },
  {
   "cell_type": "code",
   "execution_count": 43,
   "metadata": {},
   "outputs": [
    {
     "name": "stdout",
     "output_type": "stream",
     "text": [
      "['A', 'D', 'D', 'B', 'B', 'B', 'B', 'D', 'B', 'B', 'D', 'D', 'D', 'D', 'D', 'B', 'B', 'D', 'B', 'D', 'D', 'D', 'D', 'B', 'A', 'D', 'B', 'B', 'D', 'B', 'D', 'B', 'D', 'B', 'D', 'D', 'D', 'D', 'D', 'B', 'B', 'B', 'D', 'B', 'D', 'D', 'D', 'B', 'B', 'B', 'A', 'B', 'A', 'D', 'D', 'B', 'D', 'B', 'D', 'D', 'B', 'D', 'B', 'C', 'B', 'C', 'B', 'D', 'D', 'D', 'D', 'D', 'D', 'A', 'D', 'D', 'B', 'B', 'D', 'D', 'B', 'B', 'B', 'D', 'B', 'D', 'B', 'D', 'D', 'B', 'A', 'B', 'B', 'A', 'D', 'C', 'D', 'D', 'B', 'B']\n"
     ]
    }
   ],
   "source": [
    "#Cellulce Exercise 1\n",
    "\n",
    "#Générer les données aléatoires pour un cas de tests\n",
    "#importer random\n",
    "import random\n",
    "\n",
    "# Obtenir les données de la table de l'excersie\n",
    "population = [ 'A', 'B', 'C', 'D']\n",
    "poids = [ 0.2, 0.6, 0.1, 1.1]\n",
    "\n",
    "\n",
    "# Recevoir des lettres au hasard\n",
    "random_numbers = random.choices(population, weights=poids, k=100)\n",
    "\n",
    "print(random_numbers)"
   ]
  },
  {
   "cell_type": "code",
   "execution_count": 44,
   "metadata": {},
   "outputs": [
    {
     "name": "stdout",
     "output_type": "stream",
     "text": [
      "{'B': 26, 'D': 56, 'A': 12, 'C': 6}\n"
     ]
    }
   ],
   "source": [
    "# Compiler les statistiques des données obtenues\n",
    "# metter les resultats dans une dictionnaire \n",
    "resultats = {}\n",
    "\n",
    "for val in random.choices(population, weights=poids, k=100):\n",
    "    # si la valeur existe deja, on ajoute un 1 pour le décompte\n",
    "    if (val in resultats):\n",
    "        resultats[val] = resultats[val]+1\n",
    "    # si la valeur n'est pas la, on commence à compter\n",
    "    else:\n",
    "        resultats[val] = 1\n",
    "\n",
    "print(resultats)"
   ]
  },
  {
   "cell_type": "code",
   "execution_count": 46,
   "metadata": {},
   "outputs": [
    {
     "name": "stdout",
     "output_type": "stream",
     "text": [
      "         test\n",
      "valeurs      \n",
      "A           6\n",
      "B          29\n",
      "C           7\n",
      "D          58\n"
     ]
    }
   ],
   "source": [
    "# on le met dans une DataFrame\n",
    "\n",
    "import seaborn as sns\n",
    "\n",
    "table = pd.DataFrame({'valeurs' : random.choices(population, weights=poids, k=100), 'test' : 1})\n",
    "\n",
    "resultats = table.groupby('valeurs').count()\n",
    "print(resultats)"
   ]
  },
  {
   "cell_type": "code",
   "execution_count": 49,
   "metadata": {},
   "outputs": [
    {
     "name": "stdout",
     "output_type": "stream",
     "text": [
      "A : 14 / 10 / 4.0 / 4.0 %\n",
      "B : 21 / 30 / 9.0 / 9.0 %\n",
      "C : 3 / 5 / 2.0 / 2.0 %\n",
      "D : 62 / 55 / 7.0 / 7.000000000000001 %\n"
     ]
    }
   ],
   "source": [
    "# Établir la différence entre le résultat obtenu et le résultat attendu\n",
    "import math\n",
    "\n",
    "population = [ 'A', 'B', 'C', 'D']\n",
    "poids = [ 0.2, 0.6, 0.1, 1.1]\n",
    "\n",
    "resultats = {}\n",
    "\n",
    "for val in random.choices(population, weights=poids, k=100):\n",
    "    if (val in resultats):\n",
    "        resultats[val] = resultats[val]+1\n",
    "    else:\n",
    "        resultats[val] = 1\n",
    "\n",
    "\n",
    "for index, key in enumerate(population):\n",
    "    attendu = int(poids[index]/sum(poids) * 100)\n",
    "    diff = math.fabs(attendu-resultats[key])\n",
    "    print(\"{0} : {1} / {2} / {3} / {4} %\".format(key, resultats[key], attendu, diff, 100*(diff/100)))"
   ]
  },
  {
   "cell_type": "code",
   "execution_count": 50,
   "metadata": {},
   "outputs": [
    {
     "name": "stdout",
     "output_type": "stream",
     "text": [
      "\n",
      "Test avec 100 valeurs aléatoires\n",
      "A : 6 / 10 / 4.0 / 4.0 %\n",
      "B : 23 / 30 / 7.0 / 7.000000000000001 %\n",
      "C : 6 / 5 / 1.0 / 1.0 %\n",
      "D : 65 / 55 / 10.0 / 10.0 %\n",
      "\n",
      "Test avec 100000 valeurs aléatoires\n",
      "A : 9974 / 10000 / 26.0 / 0.026 %\n",
      "B : 30134 / 30000 / 134.0 / 0.134 %\n",
      "C : 5090 / 5000 / 90.0 / 0.09 %\n",
      "D : 54802 / 55000 / 198.0 / 0.198 %\n",
      "\n",
      "Test avec 1000000 valeurs aléatoires\n",
      "A : 100113 / 100000 / 113.0 / 0.0113 %\n",
      "B : 300445 / 300000 / 445.0 / 0.0445 %\n",
      "C : 50015 / 50000 / 15.0 / 0.0015 %\n",
      "D : 549427 / 550000 / 573.0 / 0.057300000000000004 %\n"
     ]
    }
   ],
   "source": [
    "#executer des tests\n",
    "\n",
    "nb_tests = [ 100, 100000, 1000000 ]\n",
    "\n",
    "for nb in nb_tests:\n",
    "    resultats = {}\n",
    "    print(\"\\nTest avec {0} valeurs aléatoires\".format(nb))\n",
    "    for val in random.choices(population, weights=poids, k=nb):\n",
    "        if (val in resultats):\n",
    "            resultats[val] = resultats[val]+1\n",
    "        else:\n",
    "            resultats[val] = 1\n",
    "\n",
    "    for index, key in enumerate(population):\n",
    "        attendu = int(poids[index]/sum(poids) * nb)\n",
    "        diff = math.fabs(attendu-resultats[key])\n",
    "        print(\"{0} : {1} / {2} / {3} / {4} %\".format(key, resultats[key], attendu, diff, 100*(diff/nb)))"
   ]
  },
  {
   "cell_type": "markdown",
   "metadata": {},
   "source": [
    "## Exercice 2 - Trouver un nombre au hasard"
   ]
  },
  {
   "cell_type": "markdown",
   "metadata": {},
   "source": [
    "Écrivez un programme qui génère un nombre aléatoire entre 0 et 1 000 000 dans un premier temps et qui tente dans un deuxième temps de trouver cette valeur de façon systématique en utilisant le moins de comparaisons possibles. À chaque tentative, vous pouvez vérifier si la valeur tentée est :\n",
    "\n",
    "- plus petite ou égale à la valeur générée,\n",
    "- plus grande ou égale à la valeur générée.\n",
    "\n",
    "Chaque test ainsi effectué correspond à une comparaison.\n",
    "\n",
    "Quelle serait la pire façon de procéder?\n",
    "\n",
    "Comme faire en sorte de limiter le nombre de comparaisons?"
   ]
  },
  {
   "cell_type": "code",
   "execution_count": 40,
   "metadata": {},
   "outputs": [
    {
     "name": "stdout",
     "output_type": "stream",
     "text": [
      "La valeur à trouver est 97238\n",
      "je tente 500000 > valeur recherchée\n",
      "je tente 250000 > valeur recherchée\n",
      "je tente 125000 > valeur recherchée\n",
      "je tente 62500 < valeur recherchée\n",
      "je tente 93750 < valeur recherchée\n",
      "je tente 109375 > valeur recherchée\n",
      "je tente 101562 > valeur recherchée\n",
      "je tente 97656 > valeur recherchée\n",
      "je tente 95703 < valeur recherchée\n",
      "je tente 96679 < valeur recherchée\n",
      "je tente 97167 < valeur recherchée\n",
      "je tente 97411 > valeur recherchée\n",
      "je tente 97289 > valeur recherchée\n",
      "je tente 97228 < valeur recherchée\n",
      "je tente 97258 > valeur recherchée\n",
      "je tente 97243 > valeur recherchée\n",
      "je tente 97235 < valeur recherchée\n",
      "je tente 97239 > valeur recherchée\n",
      "je tente 97237 < valeur recherchée\n",
      "je tente 97238 = valeur recherchée\n",
      "Nombre de comparaisons effectuées 29\n"
     ]
    }
   ],
   "source": [
    "import random\n",
    "\n",
    "min = 1\n",
    "max = 1000000\n",
    "\n",
    "valeur_a_trouver = random.randrange(min, max+1)\n",
    "print(\"La valeur à trouver est {0}\".format(valeur_a_trouver))\n",
    "\n",
    "comparaisons = 0\n",
    "trouvé = False\n",
    "\n",
    "while not trouvé :\n",
    "    milieu = (min + max)//2\n",
    "    if valeur_a_trouver < milieu :\n",
    "        affichage = \">\"\n",
    "        max = milieu-1\n",
    "        comparaisons += 1\n",
    "    elif valeur_a_trouver > milieu :\n",
    "        affichage = \"<\"\n",
    "        min = milieu+1\n",
    "        comparaisons += 2\n",
    "    else :\n",
    "        affichage = \"=\"\n",
    "        trouvé = True\n",
    "        comparaisons += 2\n",
    "    \n",
    "    print(\"je tente {0} {1} valeur recherchée\".format(milieu, affichage))\n",
    "print(\"Nombre de comparaisons effectuées {0}\".format(comparaisons))"
   ]
  }
 ],
 "metadata": {
  "kernelspec": {
   "display_name": "Python 3 (ipykernel)",
   "language": "python",
   "name": "python3"
  },
  "language_info": {
   "codemirror_mode": {
    "name": "ipython",
    "version": 3
   },
   "file_extension": ".py",
   "mimetype": "text/x-python",
   "name": "python",
   "nbconvert_exporter": "python",
   "pygments_lexer": "ipython3",
   "version": "3.11.4"
  }
 },
 "nbformat": 4,
 "nbformat_minor": 2
}
