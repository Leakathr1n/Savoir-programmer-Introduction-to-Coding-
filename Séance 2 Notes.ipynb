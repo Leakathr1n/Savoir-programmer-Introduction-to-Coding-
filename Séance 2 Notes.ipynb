{
 "cells": [
  {
   "cell_type": "markdown",
   "id": "61e186a6",
   "metadata": {},
   "source": [
    "# Séance 2 des notes\n",
    "\n",
    "1. identifier un problème (d'affaires)\n",
    "- externe, via fichiers .csv, .json\n",
    "--> Environment and Climate Change Canada; Ville De Montréal etc. \n",
    "- externe, via l'API\n",
    "--> GitHub, LinkedIn, Spotify, Amazon, etc.\n",
    "\n",
    "2. Exploration de données\n",
    "3. L'anaylse de données\n",
    "4. Présentation des résultalts\n",
    "\n",
    "\n",
    "\n",
    "\n",
    "\n"
   ]
  },
  {
   "cell_type": "markdown",
   "id": "3859dac6",
   "metadata": {},
   "source": [
    "# Retour sur la séance 1\n",
    "la déclartion d'une variable, par ex. \n",
    "x = 10 --> integer\n",
    "y= \"du texte!\" --> string variable \n",
    "flot = can contain whole numbers and fractions \n",
    "bool = \n"
   ]
  },
  {
   "cell_type": "code",
   "execution_count": 1,
   "id": "6f2ee9fa",
   "metadata": {},
   "outputs": [
    {
     "ename": "SyntaxError",
     "evalue": "invalid syntax (2437445389.py, line 2)",
     "output_type": "error",
     "traceback": [
      "\u001b[1;36m  Cell \u001b[1;32mIn[1], line 2\u001b[1;36m\u001b[0m\n\u001b[1;33m    Print (type(y))--> #prints type of y, so in that case string\u001b[0m\n\u001b[1;37m                    ^\u001b[0m\n\u001b[1;31mSyntaxError\u001b[0m\u001b[1;31m:\u001b[0m invalid syntax\n"
     ]
    }
   ],
   "source": [
    "print (y)\n",
    "Print (type(y))--> #prints type of y, so in that case string"
   ]
  },
  {
   "cell_type": "code",
   "execution_count": null,
   "id": "8bed00f8",
   "metadata": {},
   "outputs": [],
   "source": [
    "print(type(a) is int); print(type(a) is str) \n",
    "print (a==6)"
   ]
  },
  {
   "cell_type": "code",
   "execution_count": null,
   "id": "58a4f191",
   "metadata": {},
   "outputs": [],
   "source": [
    "#travailler avec les entrées et sorties\n",
    "user_name = input(\"Entrez votre nom:\")\n",
    "print (\"Bonjour{0} \".format(user_name))"
   ]
  },
  {
   "cell_type": "code",
   "execution_count": null,
   "id": "4abb170f",
   "metadata": {},
   "outputs": [],
   "source": [
    "#ou à partir d'un fichier with\n",
    "with open(\"fichier_simple.txt\",\"r\") as text_file\n",
    "#r --> just reading\n",
    "file_contents = text_file.read()\n",
    "#une variable intermediare \n",
    "print(file_contents)\n",
    "\n",
    "#or other way but I still have to close it!\n",
    "with open(\"fichier_simple.txt\",\"r\") as text_file:\n",
    "        print(text_file.read())\n",
    "    \n"
   ]
  },
  {
   "cell_type": "markdown",
   "id": "e9bbf6de",
   "metadata": {},
   "source": [
    "# Séance 2 "
   ]
  },
  {
   "cell_type": "markdown",
   "id": "6a42d061",
   "metadata": {},
   "source": [
    "# Quand une valeur simple ne suffit pas: listes et compagnies\n",
    "- Jusqu'à maintenant, nous avons stocké des valeurs dans des variables simples: un entier, une chaîne de caractères, etc.\n",
    "- Il arrive parfois (ou souvent) que l'on veuille stocker non pas une valeur, mais plusieurs valeurs ensemble. Par exemple: le contenu d'une commande, un carnet d'adresses, etc.\n",
    "- Il est possible de créer une variable par *item*, mais on peut à la place créer une seule variable qui va contenir un ensemble de valeurs.\n",
    "- En Python, il existe quatre grands types qui permettent de gérer cette situation: \n",
    "    - Les listes\n",
    "    - Les tuples\n",
    "    - Les sets\n",
    "    - Les dictionnaires\n",
    "- __Important__: Les séquences sont souvent utilisées pour stocker des valeurs dites scalaires (par exemple des entiers etc.) mais aussi souvent pour stocker d'autres séquences. Par exemple, une liste d'étudiants ayant chacun(e) sa liste de notes à ses cours.    \n",
    "\n",
    "## Tableau comparatif\n",
    "- Nous verrons ces différentes structures de données en détail mais voici un tableau récapitulatif qui peut aider à déterminer laquelle utiliser dans différentes situations.\n",
    "- L'idée est ici, une fois de plus, de déterminer ce que vous voulez faire et ensuite de déclarer le bon type de variables plutôt que l'inverse.\n",
    "\n",
    "| Condition | `Liste` [...] | `Tuple` (...) | `Dictionnaire` {...:...} | `Set` {...} |\n",
    "| --- | --- | --- | --- | --- |\n",
    "| Mise à jour (mutabilité) | __OUI__ | __NON__ | __OUI__ | __OUI__ |\n",
    "| Items ordonnés par défaut | __NON__ | __NON__ | __NON__ | __NON__ |\n",
    "| Items uniques | __NON__ | __NON__ | __OUI__ | __OUI__ |\n",
    "| Indexation | __OUI__ | __OUI__ | __OUI__ | __NON__ |\n",
    "| Slicing (découpage) | __OUI__ | __OUI__ | __NON__ | __NON__ |\n",
    "| Fonctions d'ensembles mathématiques | __NON__ | __NON__ | __NON__ | __OUI__ |\n",
    "\n",
    "## Les listes\n",
    "- Une liste comprend un ou plusieurs items arangés dans ce que l'on appelle une __séquence__ (*sequence*) qui est __indexée__.\n",
    "- Les valeurs d'une liste sont comprises entre des crochets, `[]`.\n",
    "- __Attention__: Les items d'une liste ne sont pas obligatoirement uniques, c'est-à-dire qu'on peut avoir plusieurs items avec la même valeur (ce sont quand même des items *différents*).\n",
    "- On acccède aux items par leur __index__ c'est-à-dire leur position dans la liste.\n",
    "\n",
    "### Créer une liste"
   ]
  },
  {
   "cell_type": "code",
   "execution_count": null,
   "id": "77258e13",
   "metadata": {},
   "outputs": [],
   "source": [
    "#le plus utilisé\n",
    "# cette liste est vide lors de sa création\n",
    "my_empyt_list = []\n",
    "\n",
    "\n",
    "# celle-ci ne l'est pas.\n",
    "my_list = [\"pomme\", \"poire\", \"banane\", \"pomme\"]\n",
    "#             0       1         2         3 \n",
    "#le premiere pomme est a la place 0 "
   ]
  },
  {
   "cell_type": "markdown",
   "id": "cad8de02",
   "metadata": {},
   "source": [
    "# Lire les valeurs d'une liste"
   ]
  },
  {
   "cell_type": "code",
   "execution_count": null,
   "id": "d2409216",
   "metadata": {},
   "outputs": [],
   "source": [
    "# une table a n elements; la derniere elemet est n-1 parce qu'on commence par 0\n",
    "\n",
    "# voir la liste complète\n",
    "print(my_list)\n",
    "\n",
    "# aller chercher un item la liste.\n",
    "# Attention, on démarre toujours à 0! L'index \"1\" est le deuxième élément!\n",
    "print(my_list[1])\n",
    "\n",
    "# la dernière valeur de la liste\n",
    "print(my_list[-1])\n",
    "\n",
    "# l'avant-dernière valeur de la liste\n",
    "print(my_list[-2])\n",
    "\n",
    "\n",
    "#dernier element\n",
    "print(my_list[len(my_list)-1])\n",
    "\n",
    "print(my_list[-1])\n",
    "\n",
    "# next exercise - just take a random value out of that list\n",
    "\n",
    "import random\n",
    "rn= random.randrange (len(my_list))\n",
    "my_list[rn]\n",
    "print(my_list[rn])"
   ]
  },
  {
   "cell_type": "code",
   "execution_count": null,
   "id": "01268c97",
   "metadata": {},
   "outputs": [],
   "source": [
    "import random\n",
    "ma_liste = [10,30,60,5,26]\n",
    "rn= random.randrange (len(ma_liste))\n",
    "print(ma_liste[rn])"
   ]
  },
  {
   "cell_type": "code",
   "execution_count": 2,
   "id": "f34f55a7",
   "metadata": {},
   "outputs": [
    {
     "name": "stdout",
     "output_type": "stream",
     "text": [
      "2 60\n"
     ]
    }
   ],
   "source": [
    "#get a value and corresponding \"element number - meaning where it is located in the table \"\n",
    "import random\n",
    "ma_liste = [10,30,60,5,26]\n",
    "#           0  1  2  3  4 \n",
    "rn= random.randrange (len(ma_liste))\n",
    "print(str(rn) + \" \"+ str(ma_liste[rn]))"
   ]
  },
  {
   "cell_type": "markdown",
   "id": "73a9b366",
   "metadata": {},
   "source": [
    "# Voir la structure d'une liste"
   ]
  },
  {
   "cell_type": "code",
   "execution_count": 3,
   "id": "c32d6fc1",
   "metadata": {},
   "outputs": [
    {
     "ename": "NameError",
     "evalue": "name 'my_list' is not defined",
     "output_type": "error",
     "traceback": [
      "\u001b[1;31m---------------------------------------------------------------------------\u001b[0m",
      "\u001b[1;31mNameError\u001b[0m                                 Traceback (most recent call last)",
      "Cell \u001b[1;32mIn[3], line 2\u001b[0m\n\u001b[0;32m      1\u001b[0m \u001b[38;5;66;03m# Renvoie le nombre d'items contenus dans la liste.\u001b[39;00m\n\u001b[1;32m----> 2\u001b[0m \u001b[38;5;28mprint\u001b[39m(\u001b[38;5;124m\"\u001b[39m\u001b[38;5;124mla liste contient \u001b[39m\u001b[38;5;132;01m{0}\u001b[39;00m\u001b[38;5;124m items.\u001b[39m\u001b[38;5;124m\"\u001b[39m\u001b[38;5;241m.\u001b[39mformat(\u001b[38;5;28mlen\u001b[39m(my_list)))\n\u001b[0;32m      5\u001b[0m \u001b[38;5;66;03m# Renvoie le nombre de fois où 'pomme' apparaît dans la liste. COUNT!\u001b[39;00m\n\u001b[0;32m      6\u001b[0m \u001b[38;5;28mprint\u001b[39m(\u001b[38;5;124m\"\u001b[39m\u001b[38;5;124mla liste contient le mot \u001b[39m\u001b[38;5;124m'\u001b[39m\u001b[38;5;124mpomme\u001b[39m\u001b[38;5;124m'\u001b[39m\u001b[38;5;124m \u001b[39m\u001b[38;5;132;01m{0}\u001b[39;00m\u001b[38;5;124m fois.\u001b[39m\u001b[38;5;124m\"\u001b[39m\u001b[38;5;241m.\u001b[39mformat(my_list\u001b[38;5;241m.\u001b[39mcount(\u001b[38;5;124m\"\u001b[39m\u001b[38;5;124mpomme\u001b[39m\u001b[38;5;124m\"\u001b[39m)))\n",
      "\u001b[1;31mNameError\u001b[0m: name 'my_list' is not defined"
     ]
    }
   ],
   "source": [
    "# Renvoie le nombre d'items contenus dans la liste.\n",
    "print(\"la liste contient {0} items.\".format(len(my_list)))\n",
    "\n",
    "\n",
    "# Renvoie le nombre de fois où 'pomme' apparaît dans la liste. COUNT!\n",
    "print(\"la liste contient le mot 'pomme' {0} fois.\".format(my_list.count(\"pomme\")))"
   ]
  },
  {
   "cell_type": "markdown",
   "id": "7a3df693",
   "metadata": {},
   "source": [
    "### Changer le contenu d'une liste\n",
    "- Une liste est dite __mutable__, c'est-à-dire que ses valeurs peuvent changer."
   ]
  },
  {
   "cell_type": "code",
   "execution_count": null,
   "id": "4559d768",
   "metadata": {},
   "outputs": [],
   "source": [
    "# ancienne valeur\n",
    "print(my_list[1])\n",
    "\n",
    "# assignation de la nouvelle valeur qui ***remplace*** l'ancienne valeur, soit 'poire'\n",
    "my_list[1] = \"fraise\"\n",
    "\n",
    "# afficher la nouvelle valeur\n",
    "print(my_list[1])\n",
    "\n",
    "# ajouter une ***seule*** nouvelle valeur (item) à la fin de la liste\n",
    "my_list.append(\"prune\")\n",
    "\n",
    "print(my_list)\n",
    "\n",
    "# ajouter une ***seule*** nouvelle valeur (item) à un endroit précis de la liste; at elment number 2, you put mandarine and the old one gets lost\n",
    "my_list.insert(2, \"mandarine\")\n",
    "\n",
    "# voir la liste complète\n",
    "print(my_list)\n",
    "\n",
    "# ajouter ***plusieurs*** valeurs (items) à la liste existante d'un seul coup\n",
    "my_list.extend([\"kiwi\", \"ananas\",\"pamplemousse\"]) --> #in squared brakets means that we are creating a list!\n",
    "\n",
    "# afficher la liste complète\n",
    "print(my_list)"
   ]
  },
  {
   "cell_type": "markdown",
   "id": "2bcc1bf2",
   "metadata": {},
   "source": [
    "### Récupérer plusieurs items de la liste (`slicing`) \n",
    "- On peut utiliser `:` à l'intérieur des crochets pour aller chercher une \"tranche\" de valeurs."
   ]
  },
  {
   "cell_type": "code",
   "execution_count": null,
   "id": "352ee801",
   "metadata": {},
   "outputs": [],
   "source": [
    "# tout depuis la deuxième valeur\n",
    "print(my_list[1:])\n",
    "\n",
    "# les valeurs comprises entre la deuxième (incluse) et la quatrième (excluse)... donc la deuxième et la troisième (only 1st and 2nd one)\n",
    "print(my_list[1:3])\n",
    "\n",
    "# une tranche \"spéciale\", écrite par erreur... elle ne retournera rien.\n",
    "# Soyez donc prudent lors de l'écriture de code et du débogage.--> code does not make sense\n",
    "print(my_list[5:3])\n",
    "\n",
    "# une autre tranche \"spéciale\" mais qui marche cette fois-ci...\n",
    "# la troisième avant-dernière valeur jusqu'à l'avant-dernière valeur. --> you get elements for -1 and -2\n",
    "print(my_list[-3:-1])"
   ]
  },
  {
   "cell_type": "markdown",
   "id": "b8841cd1",
   "metadata": {},
   "source": [
    "# Valeurs non existantes\n",
    "Que se passe-t-il si on essaie d'accéder à des items non existants?"
   ]
  },
  {
   "cell_type": "code",
   "execution_count": null,
   "id": "e0ec1fb2",
   "metadata": {},
   "outputs": [],
   "source": [
    "# le 30ème item --> is not in my range, so it cannot extract a value\n",
    "print(my_list[30])"
   ]
  },
  {
   "cell_type": "markdown",
   "id": "f19373da",
   "metadata": {},
   "source": [
    "# Opérations sur une liste (avec des valeurs numériques)\n",
    "- Si on additionne deux listes, elles sont concaténées dans l'ordre d'addition.\n",
    "- Si on multiplie une liste par un chiffre, on répète la liste plusieurs fois."
   ]
  },
  {
   "cell_type": "code",
   "execution_count": null,
   "id": "a2edb0df",
   "metadata": {},
   "outputs": [],
   "source": [
    "# addition de listes\n",
    "my_numbers = [10, 20, 30, 40]\n",
    "my_other_numbers = [2, 3]\n",
    "print(my_numbers + my_other_numbers)\n",
    "\n",
    "# multiplication d'une liste. Il ne multiplie pas les valeurs dans la liste mais imprime le contenu de la liste plusieurs fois.\n",
    "my_numbers = [10, 20, 30, 40]\n",
    "print(my_numbers * 2)"
   ]
  },
  {
   "cell_type": "markdown",
   "id": "196ac8fa",
   "metadata": {},
   "source": [
    "### Trier une liste\n",
    "- On peut prendre une liste (ou d'autres types de séquences) et la trier en utilisant les fonctions `sort()` et `sorted()`. Voir la __[documentation](https://docs.Python.org/3/howto/sorting.html?highlight=sort#sorting-how-to)__.\n",
    "- __Attention__: \n",
    "    - Quand on utilise `sort()`, la liste est triée et sauvegardée __triée__ (l'ordre original est donc perdu).\n",
    "    - Si on veut garder la version originale de la liste, on peut utiliser la méthode `sorted()` qui elle retourne une copie de la liste qui est elle triée.\n",
    "    - `sort()` est une fonction sur la liste; `sorted()` est une fonction dans le langage Python. La façon d'utiliser ces deux fonctions diffère donc.\n",
    "- Par défaut le tri est ascendant. "
   ]
  },
  {
   "cell_type": "code",
   "execution_count": null,
   "id": "9193228e",
   "metadata": {},
   "outputs": [],
   "source": [
    "# sort() --> old version is lost however if I use sorted() I only get a copy and the original one is still there\n",
    "# création d'une liste simple\n",
    "my_numbers = [5, 3, 10, 1]\n",
    "\n",
    "# affichage de la liste en ordre ascendant\n",
    "my_numbers.sort()\n",
    "print(\"liste originale triée: {0}\".format(my_numbers))\n",
    "\n",
    "# en ordre descendant\n",
    "my_numbers.sort(reverse = True)\n",
    "print(\"liste originale triée (ordre descendant): {0}\".format(my_numbers))"
   ]
  },
  {
   "cell_type": "code",
   "execution_count": null,
   "id": "28e877f7",
   "metadata": {},
   "outputs": [],
   "source": [
    "# sorted()\n",
    "# création d'une liste simple\n",
    "my_numbers = [5, 3, 10, 1]\n",
    "\n",
    "# affichage de la liste en ordre ascendant\n",
    "my_sorted_numbers = sorted(my_numbers)\n",
    "#just a copy\n",
    "print(\"nouvelle liste triée: {0}\".format(my_sorted_numbers))\n",
    "print(\"liste originale non triée: {0}\".format(my_numbers))\n",
    "\n",
    "# en ordre descendant\n",
    "my_sorted_numbers = sorted(my_numbers, reverse = True)\n",
    "print(\"nouvelle liste triée (ordre descendant): {0}\".format(my_sorted_numbers))\n",
    "print(\"liste originale non triée: {0}\".format(my_numbers))"
   ]
  },
  {
   "cell_type": "markdown",
   "id": "e6da2f6e",
   "metadata": {},
   "source": [
    "### Effacer un item d'une liste"
   ]
  },
  {
   "cell_type": "code",
   "execution_count": null,
   "id": "076b88e6",
   "metadata": {},
   "outputs": [],
   "source": [
    "# enlever la ***première instance*** que l'on trouve d'un item\n",
    "my_list.remove(\"prune\")\n",
    "# you delete all prunes\n",
    "print(\"contenu de my_list après avoir enlevé l'item prune: {0}\".format(my_list))\n",
    "\n",
    "# on peut aussi utiliser l'opération del pour le faire\n",
    "#you delete a value that is at element number 2 (so the third one because you have 0 1 2 )\n",
    "del my_list[2]\n",
    "print(\"contenu de my_list après avoir enlevé l'item avec l'index 2 (mandarine): {0}\".format(my_list))\n",
    "\n",
    "#slicing: you delete a part of the table\n",
    "del my_list[-3:-1]\n",
    "print(\"contenu de my_list après avoir enlevé le 3ième et le 2ième avant-dernièr items (kiwi et ananas): {0}\".format(my_list))"
   ]
  },
  {
   "cell_type": "markdown",
   "id": "a2f0db93",
   "metadata": {},
   "source": [
    "# Tuple"
   ]
  },
  {
   "cell_type": "markdown",
   "id": "e6d1566d",
   "metadata": {},
   "source": [
    "- Un tuple fonctionne comme une liste mais avec une différence importante: un tuple est immutable, c'est-à-dire qu'on ne peut en modifier le contenu une fois qu'il a été créé. On ne peut pas lui ajouter ni enlever des items une fois le tuple défini.\n",
    "- Pourquoi les utiliser dans ce cas? S'ils sont moins pratiques pour l'utilisateur, les tuples sont pratiques pour l'ordinateur qui peut allouer de la mémoire de façon fixe, comparé à une liste dont la taille peut changer avec le temps."
   ]
  },
  {
   "cell_type": "code",
   "execution_count": null,
   "id": "4687e766",
   "metadata": {},
   "outputs": [],
   "source": [
    "# création d'un tuple\n",
    "my_tuple = (1,2,3,)\n",
    "print(my_tuple)\n",
    "\n",
    "# la même chose, sans la virgule à la fin\n",
    "my_tuple = (1,2,3)\n",
    "print(my_tuple)\n",
    "\n",
    "my_tuple_char = (\"Greg\",\"Dan\",\"Marie\")\n",
    "print(my_tuple_char)"
   ]
  },
  {
   "cell_type": "code",
   "execution_count": null,
   "id": "753c43bd",
   "metadata": {},
   "outputs": [],
   "source": [
    "#one ne peut pas le modifier \n",
    "# une erreur... Qu'essayions-nous de faire ici?\n",
    "del my_tuple[1]"
   ]
  },
  {
   "cell_type": "markdown",
   "id": "e5440bcd",
   "metadata": {},
   "source": [
    "# Les dictionnaires (dict)\n",
    "- Un dictionnaire comprend une ou plusieurs associations dites de clé/valeur (key-value pair). Ces associations, comme les entrées d'un vrai dictionnaire, contiennent une clé permettant d'accéder de façon rapide et efficace à une valeur. Le dictionnaire n'est pas indexé puisqu'on accède toujours aux valeurs par les clés qui doivent donc être uniques.\n",
    "- Les valeurs d'un dictionnaire sont comprises entre des accolades, {}.\n",
    "- Un item d'un dictionnaire se déclare de la façon suivante: key:value.\n",
    "- Attention: Les items d'un dictionnaire sont obligatoirement uniques, c'est-à-dire qu'on ne peut pas avoir plusieurs items avec la même clé.\n",
    "- On acccède aux items par leur clé.\n",
    "\n",
    "un esemble de valuer avec une liste de valuers"
   ]
  },
  {
   "cell_type": "markdown",
   "id": "8fc0d205",
   "metadata": {},
   "source": [
    "# Créer un dictionnaire"
   ]
  },
  {
   "cell_type": "code",
   "execution_count": null,
   "id": "b8301620",
   "metadata": {},
   "outputs": [],
   "source": [
    "# ce dictionnaire est vide lors de sa création\n",
    "my_empyt_dict = {}\n",
    "\n",
    "# celui-ci ne l'est pas.\n",
    "my_dict = {\"github\":\"https://github.com\", \"facebook\":\"https://facebook.com\", \"twitter\":\"https://twitter.com\"}"
   ]
  },
  {
   "cell_type": "markdown",
   "id": "6ad41313",
   "metadata": {},
   "source": [
    "# Lire les valeurs d'un dictionnaire"
   ]
  },
  {
   "cell_type": "code",
   "execution_count": null,
   "id": "11b0761f",
   "metadata": {},
   "outputs": [],
   "source": [
    "# voir le dictionnaire complet\n",
    "print(my_dict)\n",
    "\n",
    "# aller chercher un item d'un dictionnaire en traitant les clés comme une liste. --> use the squared brackets\n",
    "print(my_dict[\"github\"])\n",
    "\n",
    "#   print(my_dict[\"githu\"]) --> I get an error\n",
    "\n",
    "# on peut aussi procéder de cette façon\n",
    "print(my_dict.get(\"github\"))\n",
    "\n",
    "print(my_dict.get(\"githu\"))  #it just returns non\n",
    "\n",
    "# if we are unsure if a value exists, we use .get"
   ]
  },
  {
   "cell_type": "markdown",
   "id": "ae3a594d",
   "metadata": {},
   "source": [
    "# Changer le contenu d'un dictionnaire¶\n",
    "un dictionnaire est mutable, c'est-à-dire que ses valeurs peuvent changer."
   ]
  },
  {
   "cell_type": "code",
   "execution_count": null,
   "id": "fc510f85",
   "metadata": {},
   "outputs": [],
   "source": [
    "# ancienne valeur\n",
    "print(my_dict[\"facebook\"])\n",
    "\n",
    "# assignation de la nouvelle valeur\n",
    "my_dict[\"facebook\"] = \"https://fb.com\"\n",
    "\n",
    "# afficher la nouvelle valeur\n",
    "print(my_dict[\"facebook\"])\n",
    "\n",
    "# ajouter un nouvel item au dictionnaire DEMANDE TOUJOURS 1) la clé et 2) la valeur\n",
    "my_dict[\"instagram\"] = \"https://instagram.com\"\n",
    "\n",
    "# afficher le dictionnaire complet\n",
    "print(my_dict)"
   ]
  },
  {
   "cell_type": "markdown",
   "id": "8cb437ed",
   "metadata": {},
   "source": [
    "### Concaténer deux dictionnaires\n",
    "- On peut adjoindre un dictionnaire à un dictionnaire existant à l'aide de la fonction `update()` exécutée sur le dictionnaire que l'on veut prendre comme combinaison des deux dictionnaires."
   ]
  },
  {
   "cell_type": "code",
   "execution_count": null,
   "id": "8144194b",
   "metadata": {},
   "outputs": [],
   "source": [
    "# concaténation de 2 dictionnaires\n",
    "my_second_dict = {\"google news\":\"https://news.google.com\"}\n",
    "my_second_dict.update(my_dict)\n",
    "print(my_second_dict)"
   ]
  },
  {
   "cell_type": "markdown",
   "id": "ad501715",
   "metadata": {},
   "source": [
    "# Effacer un item d'un dictionnaire\n",
    "On peut généralement le faire de deux façons:\n",
    "- À l'aide de la fonction pop() sur le dictionnaire. Cette fonction retourne la valeur de l'item enlevé, ce qui peut être pratique dans certains cas.\n",
    "- À l'aide de la commande del que nous avons déjà vue pour les listes."
   ]
  },
  {
   "cell_type": "code",
   "execution_count": null,
   "id": "f721c4e5",
   "metadata": {},
   "outputs": [],
   "source": [
    "# avec pop()... ca fait enregistrer dans la variable 'insta' la valeur (soit l'URL) de la clé \"instagram\"\n",
    "#insta = my_dict.pop(\"instagram\")\n",
    "#print(\"contenu de my_dict après avoir enlevé l'item instagram: {0}\".format(my_dict))\n",
    "#print(\"valeur de l'item enlevé: {0}\".format(insta))\n",
    "\n",
    "# on peut aussi utiliser l'opération del pour le faire\n",
    "#del my_dict[\"facebook\"]\n",
    "#print(\"contenu de my_dict après avoir enlevé l'item facebook: {0}\".format(my_dict))"
   ]
  },
  {
   "cell_type": "markdown",
   "id": "931cb173",
   "metadata": {},
   "source": [
    "# Quand une valeur simple ne suffit pas: listes et compagnies (suite)\n",
    "Les sets\n",
    "- Un set comprend des valeurs uniques et non ordonnées.\n",
    "- Un set est mutable, il peut donc être modifié et on déclare ses valeurs se déclarent entre des accolades, {}.\n",
    "- Attention: Les valeurs d'un set sont obligatoirement uniques, même si elles n'ont pas besoin d'être toutes du même type (entier, chaîne de caractères, etc.).\n",
    "- Un set fonctionne de la même manière qu'un ensemble (set) en mathématiques."
   ]
  },
  {
   "cell_type": "code",
   "execution_count": 4,
   "id": "3ece5bb4",
   "metadata": {},
   "outputs": [],
   "source": [
    "# ce set est vide lors de sa création\n",
    "my_empty_set = set()\n",
    "\n",
    "# celui-ci ne l'est pas.\n",
    "my_set = {\"pomme\", \"poire\", \"orange\"}\n",
    "\n",
    "# celui-ci ne l'est pas mais il y a des valeurs en double.\n",
    "my_set_duplicates = {\"pomme\", \"poire\", \"orange\", \"pomme\"}"
   ]
  },
  {
   "cell_type": "code",
   "execution_count": 6,
   "id": "5d6ee1d0",
   "metadata": {},
   "outputs": [
    {
     "name": "stdout",
     "output_type": "stream",
     "text": [
      "{'orange', 'poire', 'pomme'}\n",
      "{'orange', 'poire', 'pomme'}\n"
     ]
    },
    {
     "ename": "TypeError",
     "evalue": "'set' object is not subscriptable",
     "output_type": "error",
     "traceback": [
      "\u001b[1;31m---------------------------------------------------------------------------\u001b[0m",
      "\u001b[1;31mTypeError\u001b[0m                                 Traceback (most recent call last)",
      "Cell \u001b[1;32mIn[6], line 8\u001b[0m\n\u001b[0;32m      5\u001b[0m \u001b[38;5;28mprint\u001b[39m(my_set_duplicates)\n\u001b[0;32m      7\u001b[0m \u001b[38;5;66;03m# aller chercher un item d'un set en traitant les clés comme une liste.\u001b[39;00m\n\u001b[1;32m----> 8\u001b[0m \u001b[38;5;28mprint\u001b[39m(my_set[\u001b[38;5;241m0\u001b[39m])\n",
      "\u001b[1;31mTypeError\u001b[0m: 'set' object is not subscriptable"
     ]
    }
   ],
   "source": [
    "# lire des valeurs d'un set\n",
    "\n",
    "# voir le set complet. Si un ensemble a des valeurs en double, seules les valeurs uniques seront affichées.\n",
    "print(my_set)\n",
    "print(my_set_duplicates)\n",
    "\n",
    "# aller chercher un item d'un set en traitant les clés comme une liste.\n",
    "print(my_set[0])"
   ]
  },
  {
   "cell_type": "code",
   "execution_count": null,
   "id": "0e07d12c",
   "metadata": {},
   "outputs": [],
   "source": [
    "#voir la structure\n",
    "print(\"le set contient {0} items.\".format(len(my_set)))"
   ]
  },
  {
   "cell_type": "markdown",
   "id": "d98190b1",
   "metadata": {},
   "source": [
    "# Changer le contenu d'un set\n",
    "- Un set est mutable, c'est-à-dire qu'on peut le modifier.\n",
    "- Par contre, comme c'est un ensemble et qu'on ne peut pas accéder aux valeurs individuelles, on ne peut que faire des mises à jour via d'autres ensembles à l'aide de fonctions.\n",
    "- Si on ajoute plusieurs valeurs, on peut le faire de plusieurs façons, par exemple, via une liste ou un autre set."
   ]
  },
  {
   "cell_type": "code",
   "execution_count": 7,
   "id": "c436c7f4",
   "metadata": {},
   "outputs": [
    {
     "name": "stdout",
     "output_type": "stream",
     "text": [
      "après l'ajout de la valeur fraise: {'orange', 'poire', 'pomme', 'fraise'}\n",
      "après l'ajout de la liste [prune, citron]: {'poire', 'pomme', 'citron', 'prune', 'orange', 'fraise'}\n",
      "après l'ajout du set [banane, raisin]: {'poire', 'pomme', 'banane', 'citron', 'prune', 'orange', 'raisin', 'fraise'}\n"
     ]
    }
   ],
   "source": [
    "# ajouter une valeur, en utilisant l'opération .add \n",
    "my_set.add(\"fraise\")\n",
    "print(\"après l'ajout de la valeur fraise: {0}\".format(my_set))\n",
    "\n",
    "# ajouter plusieurs valeurs en utilisant l'opération .update. Si certaines existent déjà, elles sont ignorées.\n",
    "my_set.update([\"prune\", \"citron\"])\n",
    "print(\"après l'ajout de la liste [prune, citron]: {0}\".format(my_set))\n",
    "\n",
    "my_set.update([\"banane\", \"raisin\"])\n",
    "print(\"après l'ajout du set [banane, raisin]: {0}\".format(my_set))"
   ]
  },
  {
   "cell_type": "markdown",
   "id": "6889d2a0",
   "metadata": {},
   "source": [
    "# Opération sur les sets\n",
    "En mathématiques, on peut faire différentes opérations sur les sets:\n",
    "- in permet de voir si une valeur est contenue dans un set.\n",
    "- not in permet de voir si une valeur n'est pas contenue dans un set.\n",
    "- a.issubset(b) permet de voir si tous les éléments de a sont présents dans b.\n",
    "- a.issuperset(b) permet de voir si tous les éléments de b sont présents dans a.\n",
    "- a.union(b) combinaison de a et b.\n",
    "- a.intersection(b) éléments communs à a et b.\n",
    "- a.difference(b) éléments de a qui ne sont pas contenus dans b.\n",
    "- a.symmetric_difference(b) éléments contenus dans a ou b mais ne sont pas présents dans les deux.\n",
    "- b = a.copy() crée un set b à partir d'une copie de a.\n",
    "\n",
    "think about circles --> is circule B in circle A? Is x in A or y in A? "
   ]
  },
  {
   "cell_type": "code",
   "execution_count": null,
   "id": "0add662b",
   "metadata": {},
   "outputs": [],
   "source": [
    "# démarrage, on déclare 2 sets simples.\n",
    "my_first_set = {1, 2, 3, 4, 5}\n",
    "my_second_set = {2, 3}\n",
    "print(\"my_first_set: {0}\".format(my_first_set))\n",
    "print(\"my_second_set: {0}\".format(my_second_set))"
   ]
  },
  {
   "cell_type": "code",
   "execution_count": null,
   "id": "b53fe247",
   "metadata": {},
   "outputs": [],
   "source": [
    "# in\n",
    "print(\"est-ce que la valeur 2 est contenue dans my_first_set: {0}\".format(2 in my_first_set))\n",
    "print(\"est-ce que la valeur 6 est contenue dans my_first_set: {0}\".format(6 in my_first_set))\n",
    "\n",
    "# not in\n",
    "print(\"est-ce que la valeur 6 n'est pas contenue dans my_first_set: {0}\".format(6 not in my_first_set))\n",
    "print(\"est-ce que la valeur 2 n'est pas contenue dans my_first_set: {0}\".format(2 not in my_first_set))"
   ]
  },
  {
   "cell_type": "code",
   "execution_count": null,
   "id": "42ef4421",
   "metadata": {},
   "outputs": [],
   "source": [
    "# issubset() - a.issubset(b) permet de voir si tous les éléments de a sont présents dans b\n",
    "print(\"est-ce que les valeurs de my_second_set sont contenues dans my_first_set: {0}\".format(my_second_set.issubset(my_first_set)))\n",
    "print(\"est-ce que les valeurs de my_first_set sont contenues dans my_second_set: {0}\".format(my_first_set.issubset(my_second_set)))\n",
    "\n",
    "# issuperset() - a.issuperset(b) permet de voir si tous les éléments de b sont présents dans a\n",
    "print(\"est-ce que les valeurs de my_second_set contiennent toutes les valeurs de my_first_set: {0}\".format(my_second_set.issuperset(my_first_set)))\n",
    "print(\"est-ce que les valeurs de my_first_set contiennent toutes les valeurs de my_second_set: {0}\".format(my_first_set.issuperset(my_second_set)))"
   ]
  },
  {
   "cell_type": "code",
   "execution_count": null,
   "id": "b5cff2c2",
   "metadata": {},
   "outputs": [],
   "source": [
    "# union()\n",
    "my_second_set = {2, 3, 8}\n",
    "print(\"changement de valeurs pour my_second_set: {0}\".format(my_second_set))\n",
    "print(\"union de my_first_set et my_second_set: {0}\".format(my_first_set.union(my_second_set)))\n",
    "\n",
    "# intersection()\n",
    "print(\"intersection de my_first_set et my_second_set: {0}\".format(my_first_set.intersection(my_second_set))"
   ]
  },
  {
   "cell_type": "code",
   "execution_count": null,
   "id": "f35996b8",
   "metadata": {},
   "outputs": [],
   "source": [
    "# difference()\n",
    "print(\"difference entre les valeurs de my_first_set et celles de my_second_set: {0}\".format(my_first_set.difference(my_second_set)))\n",
    "print(\"difference entre les valeurs de my_second_set et celles de my_first_set: {0}\".format(my_second_set.difference(my_first_set)))\n",
    "\n",
    "# symmetric_difference()\n",
    "print(\"difference symétrique entre les valeurs de my_first_set et celles de my_second_set: {0}\".format(my_first_set.symmetric_difference(my_second_set)))\n",
    "\n",
    "# copy()\n",
    "my_third_set = my_first_set.copy()\n",
    "print(\"nouveau set (my_third_set) créé à partir de my_first_set: {0}\".format(my_third_set))"
   ]
  },
  {
   "cell_type": "code",
   "execution_count": 8,
   "id": "6c2bc75a",
   "metadata": {},
   "outputs": [
    {
     "name": "stdout",
     "output_type": "stream",
     "text": [
      "contenu de my_set après avoir enlevé l'item orange: {'poire', 'pomme', 'banane', 'citron', 'prune', 'raisin', 'fraise'}\n",
      "contenu de my_set après avoir enlevé les items 'prune' et 'poire': {'pomme', 'banane', 'citron', 'raisin', 'fraise'}\n"
     ]
    }
   ],
   "source": [
    "# avec remove()\n",
    "my_set.remove(\"orange\")\n",
    "print(\"contenu de my_set après avoir enlevé l'item orange: {0}\".format(my_set))\n",
    "\n",
    "my_set.difference_update([\"prune\", \"poire\"]) \n",
    "print(\"contenu de my_set après avoir enlevé les items 'prune' et 'poire': {0}\".format(my_set))"
   ]
  },
  {
   "cell_type": "markdown",
   "id": "9fd8f340",
   "metadata": {},
   "source": [
    "# Itérer et convertir"
   ]
  },
  {
   "cell_type": "code",
   "execution_count": 21,
   "id": "e3ccf5cf",
   "metadata": {},
   "outputs": [
    {
     "name": "stdout",
     "output_type": "stream",
     "text": [
      "['pomme', 'poire', 'orange', 'fraise']\n",
      "L'un des druits se rouvant dans la list: pomme\n",
      "L'un des druits se rouvant dans la list: poire\n",
      "L'un des druits se rouvant dans la list: orange\n",
      "L'un des druits se rouvant dans la list: fraise\n",
      "Le fruit #1 dans la liste est pomme\n",
      "Le fruit #2 dans la liste est poire\n",
      "Le fruit #3 dans la liste est orange\n",
      "Le fruit #4 dans la liste est fraise\n"
     ]
    }
   ],
   "source": [
    "# une liste simple...\n",
    "my_list = [\"pomme\", \"poire\", \"orange\", \"fraise\"]\n",
    "print(my_list)\n",
    "\n",
    "# ici on dit à Python d'extraire chaque item de la liste en le nommant comme variable \"fruit\"\n",
    "# noter que chaque item est affiché sur une ligne séparée\n",
    "for fruit in my_list:\n",
    "    print(\"L'un des druits se rouvant dans la list: \" + fruit)   \n",
    "    \n",
    "    \n",
    "for i in range(0,4):\n",
    "  print(f\"Le fruit #{i+1} dans la liste est {my_list[i]}\")   \n",
    "#put th e+1 because it the first element is at the 0 element"
   ]
  },
  {
   "cell_type": "code",
   "execution_count": 22,
   "id": "ca784b65",
   "metadata": {},
   "outputs": [
    {
     "name": "stdout",
     "output_type": "stream",
     "text": [
      "\n",
      "- Avec range() et en incluant une valeur de départ, 0\n",
      "à l'index 0; l'item est pomme\n",
      "à l'index 1; l'item est poire\n",
      "à l'index 2; l'item est orange\n",
      "à l'index 3; l'item est fraise\n"
     ]
    }
   ],
   "source": [
    "print(\"\\n- Avec range() et en incluant une valeur de départ, 0\")\n",
    "# ceci fait la même chose de façon différente; i est la valeur d'index de la liste de fruits\n",
    "for i in range(0, len(my_list)):\n",
    "    print(\"à l'index {0}; l'item est {1}\".format(i, my_list[i]))"
   ]
  },
  {
   "cell_type": "code",
   "execution_count": 23,
   "id": "9ac5d6ab",
   "metadata": {},
   "outputs": [
    {
     "name": "stdout",
     "output_type": "stream",
     "text": [
      "en augmentant: 0\n",
      "en augmentant: 1\n",
      "en augmentant: 2\n",
      "en augmentant: 3\n",
      "en augmentant: 4\n",
      "en augmentant: 5\n",
      "en augmentant: 6\n",
      "en augmentant: 7\n",
      "en augmentant: 8\n",
      "en augmentant: 9\n",
      "\n",
      "\n",
      "en augmentant: 0\n",
      "en augmentant: 1\n",
      "en augmentant: 2\n",
      "en augmentant: 3\n",
      "en augmentant: 4\n",
      "en augmentant: 5\n",
      "en augmentant: 6\n",
      "en augmentant: 7\n",
      "en augmentant: 8\n",
      "en augmentant: 9\n"
     ]
    }
   ],
   "source": [
    "# à l'endroit\n",
    "for i in range(0, 10):\n",
    "    print(\"en augmentant: {0}\".format(i))\n",
    "\n",
    "print(\"\\n\")\n",
    "# toujours à l'endroit\n",
    "for papate in range(10):\n",
    "    print(\"en augmentant: {0}\".format(papate))"
   ]
  },
  {
   "cell_type": "code",
   "execution_count": 30,
   "id": "597a674f",
   "metadata": {},
   "outputs": [
    {
     "name": "stdout",
     "output_type": "stream",
     "text": [
      "en descendant: 10\n",
      "en descendant: 9\n",
      "en descendant: 8\n",
      "en descendant: 7\n",
      "en descendant: 6\n",
      "en descendant: 5\n",
      "en descendant: 4\n",
      "en descendant: 3\n",
      "en descendant: 2\n",
      "en descendant: 1\n",
      "en descendant: 0\n"
     ]
    }
   ],
   "source": [
    "# à l'envers, noter le -1 comme troisième paramètre; Ça pourrait être -2, -3, etc.\n",
    "r = 1\n",
    "for i in range(10, -1, -r):\n",
    "    print(\"en descendant: {0}\".format(i))"
   ]
  },
  {
   "cell_type": "markdown",
   "id": "9bb38634",
   "metadata": {},
   "source": [
    "# while"
   ]
  },
  {
   "cell_type": "code",
   "execution_count": 35,
   "id": "ad8e1804",
   "metadata": {},
   "outputs": [
    {
     "name": "stdout",
     "output_type": "stream",
     "text": [
      "en augmentant: 0\n",
      "en augmentant: 1\n",
      "en augmentant: 2\n",
      "en augmentant: 3\n",
      "en augmentant: 4\n",
      "en augmentant: 5\n",
      "en augmentant: 6\n",
      "en augmentant: 7\n",
      "en augmentant: 8\n",
      "en augmentant: 9\n",
      "en augmentant: 10\n"
     ]
    }
   ],
   "source": [
    "# ici, on aurait très bien pu utiliser un for avec un range()\n",
    "# attention à l'incrémentation de i à la fin de la boucle\n",
    "i = 0\n",
    "while i <= 10:\n",
    "    print(\"en augmentant: {0}\".format(i))    \n",
    "    i = i + 1 #i+=1 renders the same"
   ]
  },
  {
   "cell_type": "code",
   "execution_count": 36,
   "id": "e3bb346a",
   "metadata": {},
   "outputs": [
    {
     "name": "stdout",
     "output_type": "stream",
     "text": [
      "Liste de départ: ['pomme', 'poire', 'orange']\n",
      "Liste convertie en tuple: ('pomme', 'poire', 'orange')\n"
     ]
    }
   ],
   "source": [
    "# création et affichage de la liste\n",
    "my_list = ['pomme', 'poire', 'orange']\n",
    "print(\"Liste de départ: {0}\".format(my_list))\n",
    "\n",
    "# conversion en tuple et affichage\n",
    "my_tuple = tuple(my_list)\n",
    "print(\"Liste convertie en tuple: {0}\".format(my_tuple))"
   ]
  },
  {
   "cell_type": "code",
   "execution_count": 37,
   "id": "f9ba4d0b",
   "metadata": {},
   "outputs": [
    {
     "ename": "ValueError",
     "evalue": "dictionary update sequence element #0 has length 5; 2 is required",
     "output_type": "error",
     "traceback": [
      "\u001b[1;31m---------------------------------------------------------------------------\u001b[0m",
      "\u001b[1;31mValueError\u001b[0m                                Traceback (most recent call last)",
      "Cell \u001b[1;32mIn[37], line 2\u001b[0m\n\u001b[0;32m      1\u001b[0m \u001b[38;5;66;03m# conversion en dictionnaire et affichage\u001b[39;00m\n\u001b[1;32m----> 2\u001b[0m my_dict \u001b[38;5;241m=\u001b[39m \u001b[38;5;28mdict\u001b[39m(my_list)\n\u001b[0;32m      3\u001b[0m \u001b[38;5;28mprint\u001b[39m(\u001b[38;5;124m\"\u001b[39m\u001b[38;5;124mListe convertie en dict: \u001b[39m\u001b[38;5;132;01m{0}\u001b[39;00m\u001b[38;5;124m\"\u001b[39m\u001b[38;5;241m.\u001b[39mformat(my_dict))\n",
      "\u001b[1;31mValueError\u001b[0m: dictionary update sequence element #0 has length 5; 2 is required"
     ]
    }
   ],
   "source": [
    "# conversion en dictionnaire et affichage\n",
    "my_dict = dict(my_list)\n",
    "print(\"Liste convertie en dict: {0}\".format(my_dict))"
   ]
  },
  {
   "cell_type": "code",
   "execution_count": 38,
   "id": "4bfc8dd2",
   "metadata": {},
   "outputs": [
    {
     "name": "stdout",
     "output_type": "stream",
     "text": [
      "Liste convertie en dict: {'pomme': None, 'poire': None, 'orange': None}\n",
      "Liste convertie en dict: {'pomme': ':)', 'poire': ':)', 'orange': ':)'}\n",
      "Liste convertie en dict: {'pomme': 'aime', 'poire': 'aime pas', 'orange': 'aime pas'}\n"
     ]
    }
   ],
   "source": [
    "# conversion en dictionnaire et affichage\n",
    "my_dict = dict.fromkeys(my_list)\n",
    "print(\"Liste convertie en dict: {0}\".format(my_dict))\n",
    "\n",
    "# conversion en dictionnaire avec une valeur par défaut et affichage\n",
    "my_dict = dict.fromkeys(my_list, \":)\")\n",
    "print(\"Liste convertie en dict: {0}\".format(my_dict))\n",
    "\n",
    "# Étant donné une deuxième liste contenant des valeurs (soit mes préférences),\n",
    "# comment convertir les deux listes en un seul dictionnaire.\n",
    "my_list_preferences = ['aime', 'aime pas', 'aime pas']\n",
    "my_dict = {my_list[i] : my_list_preferences[i] for i in range(len(my_list))} \n",
    "print(\"Liste convertie en dict: {0}\".format(my_dict))"
   ]
  },
  {
   "cell_type": "code",
   "execution_count": null,
   "id": "ade420e9",
   "metadata": {},
   "outputs": [],
   "source": []
  }
 ],
 "metadata": {
  "kernelspec": {
   "display_name": "Python 3 (ipykernel)",
   "language": "python",
   "name": "python3"
  },
  "language_info": {
   "codemirror_mode": {
    "name": "ipython",
    "version": 3
   },
   "file_extension": ".py",
   "mimetype": "text/x-python",
   "name": "python",
   "nbconvert_exporter": "python",
   "pygments_lexer": "ipython3",
   "version": "3.11.4"
  }
 },
 "nbformat": 4,
 "nbformat_minor": 5
}
