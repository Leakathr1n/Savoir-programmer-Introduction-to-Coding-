{
 "cells": [
  {
   "cell_type": "markdown",
   "metadata": {},
   "source": [
    "# Séance 3 - Exercices\n",
    "\n",
    "- Avant de faire les exercices suivants, assurez-vous d'avoir bien assimilé la matière présentée en cours.\n",
    "- Il est possible que votre solution soit différente de celle d'un(e) collègue ou de l'enseignant(e).\n",
    "\n",
    "## Exercice 1 - Pair ou impair?\n",
    "- Soit une liste `my_list` contenant `n` items (vous pouvez les créer au choix).\n",
    "    - Si la liste contient un nombre pair d'items, afficher le message suivant: \"Nombre d'entrées pair!\"\n",
    "    - Si la liste contient un nombre impair d'items, afficher le message suivant: \"Nombre d'entrées impair!\"\n",
    "- __Remarque__: Avant de vous lancer dans l'exercice, pensez à développer votre logique avant de commencer à coder.\n",
    "- Une fois la logique comprise, vous devez trouver une façon de développer ce programme en consultant la documentation sur les __[opérations arithmétiques binaires en Python](https://docs.Python.org/3.3/reference/expressions.html#binary-arithmetic-operations)__."
   ]
  },
  {
   "cell_type": "code",
   "execution_count": 31,
   "metadata": {},
   "outputs": [
    {
     "name": "stdout",
     "output_type": "stream",
     "text": [
      "[10, 4, 5, 6, 9, 2, 56, 7, 8, 20, 21]\n",
      "11\n",
      "Nombre d'entrées impair!\n"
     ]
    }
   ],
   "source": [
    "# cellule pour exercice 1\n",
    "\n",
    "my_list = [10,4,5,6,9,2,56,7,8,20,21]\n",
    "\n",
    "print(my_list)\n",
    "\n",
    "length = len(my_list) \n",
    "\n",
    "print (length)\n",
    "\n",
    "if (length % 2 == 0 ):\n",
    "    print(\"Nombre d'entrées pair!\")\n",
    "else: print(\"Nombre d'entrées impair!\")\n",
    "\n"
   ]
  },
  {
   "cell_type": "markdown",
   "metadata": {},
   "source": [
    "## Exercice 2 - Médiane v2\n",
    "- Déclarer une liste, `my_list`, et y stocker les valeurs suivantes: 4, 10, 3, 68, 15, 17.\n",
    "- Implémenter un calcul pour afficher la valeur médiane de la liste.\n",
    "\n",
    "- __Attention__: votre calcul doit fonctionner quelle que soit la taille de la liste.\n",
    "    - Quand une liste contient un nombre impair d'items, on prend l'item qui se situe au milieu de la liste.\n",
    "    - Quand une liste contient un nombre pair d'items, on prend la moyenne des deux items qui se situent de part et d'autre du milieu de la liste."
   ]
  },
  {
   "cell_type": "code",
   "execution_count": 45,
   "metadata": {},
   "outputs": [
    {
     "name": "stdout",
     "output_type": "stream",
     "text": [
      "[3, 4, 10, 15, 17, 68]\n",
      "la médiane est: 15\n"
     ]
    }
   ],
   "source": [
    "# cellule pour exercice 2\n",
    "\n",
    "my_list = [4,10,3,68,15,17]\n",
    "\n",
    "sorted_list = sorted(my_list)\n",
    "\n",
    "print(sorted_list)\n",
    "\n",
    "length = len(sorted_list) \n",
    "\n",
    "if length % 2 == 0: \n",
    "    median = sorted_list[length // 2]\n",
    "    \n",
    "else:\n",
    "    middle1 = sorted_list[length // 2 -1]\n",
    "    middle2 = sorted_list[length // 2]\n",
    "    median = (middle1+middle2) / 2\n",
    "    \n",
    "print(\"la médiane est:\", median)\n",
    "\n"
   ]
  },
  {
   "cell_type": "markdown",
   "metadata": {},
   "source": [
    "## Exercice 3 - Facturation\n",
    "- Imaginons le scénario suivant: votre entreprise doit facturer une liste de clients. Le processus de facturation doit être fait de la façon suivante:\n",
    "    - Si le client habite au Québec, on charge la TPS et la TVQ.\n",
    "    - Si le client habite en dehors du Québec mais toujours au Canada, on ne charge que la TPS.\n",
    "    - Si le client n'habite pas au Canada, on ne charge aucune taxe.\n",
    "    \n",
    "    \n",
    "- Afin de faire cet exercice, procéder de la façon suivante:\n",
    "    - Le fichier `transactions_clients.csv` contient plusieurs lignes correspondant chacune à une transaction.\n",
    "    - Sur chaque ligne, on trouve 3 champs (séparés par des virgules):\n",
    "        - Le nom du client.\n",
    "        - Le montant à payer en dollars canadiens (avant taxes).\n",
    "        - L'abbréviation de la province où habite le client. Si le client habite à l'égranger, le champ de la province est marquée *INTL* pour *international*.\n",
    "    - Afficher les informations suivantes:\n",
    "        - Le nom du client.\n",
    "        - Le montant à payer en dollars canadiens (avant taxes).\n",
    "        - L'abbréviation de la province où habite le client.\n",
    "        - Une mention indiquant si le client paie les taxes:\n",
    "            - Si le client paie les deux taxes, on affichera *TPS/TVQ*.\n",
    "            - Si le client paie seulement une taxe, on affichera *TPS*.\n",
    "            - Si le client ne paie pas de taxe, on affichera *N/D*.\n",
    "        - Le montant à payer en dollars canadiens (avec les taxes).\n",
    "    - Afin de faciliter la mise à jour des taxes dans le futur, déclarer les pourcentages à appliquer à l'aide de variables plutôt qu'en écrivant les chiffres directement dans le coeur de votre programme.\n",
    "- __Hypothèse__: Les noms des clients n'apparaissent qu'une seule fois dans le fichier.\n",
    "- __Astuce__: Dans cet exercice, vous devez arriver à lire une ligne d'un fichier texte et séparer son contenu en 3 champs. Il existe une multitude de façons de procéder en Python. La façon que l'on vous recommande ici est la suivante:\n",
    "    - Lire la ligne comme une chaîne de caractères et y appliquer la fonction `split()`. Voir la __[documentation](https://docs.Python.org/3/library/stdtypes.html#str.split)__ pour plus de détails. La cellule de code ci-dessous vous fournit un exemple.\n",
    "    - Quand on lit une ligne dans un fichier, on lit également les caractères indiquant qu'une nouvelle ligne commence dans le dernier champ, des espaces avant ou après le texte, etc. On appelle ceci un *leading and trailing characters*, par exemple un saut de ligne est représenté par `\\n` dans la valeur lue. Pour enlever ces caractères, on peut utiliser la fonction `strip()` (__[documentation](https://docs.Python.org/3/library/stdtypes.html#str.strip)__) sur la chaîne de caractères comme montré ci-dessous."
   ]
  },
  {
   "cell_type": "code",
   "execution_count": 66,
   "metadata": {},
   "outputs": [
    {
     "name": "stdout",
     "output_type": "stream",
     "text": [
      "Gilbert - QC - $120 - TPS/TVQ - $137.97\n",
      "Gregory - BC - $110.12 - TPS - $115.626\n",
      "Mary - ON - $50 - TPS - $52.5\n",
      "Bogdan - INTL - $75 - INTL - $75.0\n",
      "Georges - QC - $15.25 - TPS/TVQ - $17.5336875\n",
      "Pierre - INTL - $85.25 - INTL - $85.25\n"
     ]
    }
   ],
   "source": [
    "# cellule pour exercice 3\n",
    "\n",
    "#get important information and tax rates: \n",
    "\n",
    "Quebec_tax = 0.09975\n",
    "\n",
    "Canada_tax = 0.05\n",
    "\n",
    "#crete an empty transactions list\n",
    "\n",
    "transactions = []\n",
    "\n",
    "#read the document per single line\n",
    "\n",
    "with open(\"transactions_clients.csv\", 'r') as file:\n",
    "    for line in file:\n",
    "        strip_text = line.strip()\n",
    "        transactions.append(strip_text.split(','))\n",
    "\n",
    "#add tax rates\n",
    "\n",
    "for transaction in transactions:\n",
    "    \n",
    "    #the price is a chain of characters, so we first need to convert it in a float variable\n",
    "    final_price = float(transaction[2])\n",
    "    \n",
    "    if (transaction[1] == \"QC\"):\n",
    "        tax_type = 'TPS/TVQ'\n",
    "        final_price = final_price + (Canada_tax * final_price) + \\\n",
    "                        (Quebec_tax * final_price)\n",
    "    elif (transaction[1] != \"INTL\"):\n",
    "        final_price = final_price + (Canada_tax * final_price)\n",
    "        tax_type = 'TPS'\n",
    "    else:\n",
    "        tax_type = 'INTL'\n",
    "\n",
    "    # affichage de l'information\n",
    "    print(\"{0} - {1} - ${2} - {3} - ${4}\".format(transaction[0], transaction[1], \\\n",
    "                                                transaction[2], tax_type, \\\n",
    "                                               final_price))\n",
    "\n",
    "\n"
   ]
  },
  {
   "cell_type": "markdown",
   "metadata": {},
   "source": [
    "## Exercice 4 - Deviner un nombre v2\n",
    "- Dans le programme suivant, on veut demander à l'ordinateur de générer un nombre aléatoire entre 1 et 20 et donner 5 chances à l'utilisateur de deviner ce nombre.\n",
    "- L'ordinateur demandera les 5 choix et validera, après chaque tentative, si le choix de l'utilisateur est bon en comparant avec la valeur aléatoire générée. \n",
    "    - On affichera une information si le joueur a fourni une valeur trop haute, trop basse, ou s'il a gagné (mais on ne révèlera pas le nombre aléatoire généré).\n",
    "    - On stockera également la valeur jouée.\n",
    "- À la fin du jeu (soit après 5 tours, ou quand l'utilisateur aura gagné), on affichera le nombre qu'il fallait deviner ainsi qu'un récapitulatif des choix du joueur à chaque tour.    \n",
    "    - Si le joueur a perdu, on affichera le message \"Perdu! Better luck next time!\"\n",
    "    - Si l'utilisateur a gagné, on affichera le message \"Bravo! Vous avez trouvé le nombre magique en x tentatives\" où x représente le nombre de tours que le joueur a utilisé avant de gagner.    \n",
    "    - Si l'utilisateur gagne avant la fin des 5 tours, on voudra arrêter de lui demander de choisir un nombre. Pour ce faire, on utilisera la __[commande](https://docs.Python.org/3.3/reference/compound_stmts.html#the-for-statement)__ `break` qui permet de forcer l'arrêt d'une boucle en cours.\n",
    "    - Pour fournir le récapitulatif avec le choix du joueur ainsi que le tour, on peut itérer sur les choix du joueur en utilisant la commande `enumerate()` qui permet de récupérer l'index de la liste et la valeur qui lui est associée. Voir la __[documentation](https://docs.Python.org/3.3/library/functions.html#enumerate)__.\n",
    "\n",
    "\n",
    "- L'exemple ci-dessous vous montre une séquence de jeu où le joueur n'a pas réussi à deviner le nombre magique.\n",
    "\n",
    "\n",
    "![Sample output](images/number_game_sample_output.png)"
   ]
  },
  {
   "cell_type": "code",
   "execution_count": null,
   "metadata": {
    "scrolled": true
   },
   "outputs": [],
   "source": [
    "# we want the computer to generate a random number so we ahve to import random \n",
    "import random\n",
    "\n",
    "# random number(intiger between 1 and including 20 --> so we have to pick 21)\n",
    "random_number = random.randrange(1, 21, 1)\n",
    "\n",
    "# a list to stock the values from the game\n",
    "turns = []\n",
    "\n",
    "#a variable to check if the player won\n",
    "Does_player_win = False\n",
    "\n",
    "#creating a loop for 5 games \n",
    "for turn in range(0, 5):\n",
    "    \n",
    "    \n",
    "    user_input = int(input(\"Entrez un nombre entre 1 et 20: \"))\n",
    "    \n",
    "    #add it to the turns list\n",
    "    turns.append(user_input)\n",
    "    \n",
    "    # varify the input\n",
    "    if (user_input > random_number): #too high\n",
    "        print(\"Trop haut! \")\n",
    "    elif (user_input < random_number): #too low\n",
    "        print(\"Trop bas!\")\n",
    "    else: #right number!\n",
    "        Does_player_win = True\n",
    "        # we are done, so we will end the loop!\n",
    "        break\n",
    "   \n",
    "# show the random generated number\n",
    "print(\"Le nombre magique qu'il fallait deviner était le: {0}\\n\".format(random_number))\n",
    "\n",
    "#end message\n",
    "if (Does_player_win == True):\n",
    "    print(\"Bravo! Vous avez trouvé le nombre magique en {0} tentative(s).\".format(len(turns)))\n",
    "else:\n",
    "    print(\"Perdu! Better luck next time!\")\n",
    "    \n",
    "#recap of the game\n",
    "print(\"Récapitulatif de la séquence de jeu:\")\n",
    "\n",
    "#from solutions: \n",
    "# ENUMERATE() retourne à partir d'une liste 1) l'index et 2) la valeur\n",
    "# on dit start=1 puisque l'index de la liste 'turns' contenant les réponses démarre à 0\n",
    "for turn, value in enumerate(turns, start=1):\n",
    "    print(\"Tour numéro {0}. choix du joueur: {1}\".format(turn, value))"
   ]
  },
  {
   "cell_type": "markdown",
   "metadata": {},
   "source": [
    "## Exercice 5 - Deviner un nombre v3\n",
    "- Modifier le code de l'exercice 4 en ajoutant les fonctionnalités suivantes:\n",
    "- Valider l'input de l'utilisateur: quand un nombre entré par le joueur est en dehors des bornes (de 1 à 20), afficher un message d'erreur et redemander l'input du joueur.\n",
    "- Après chaque partie, demander au joueur s'il veut rejouer. Si le joueur écrit *oui*, recommencez une nouvelle partie. Si le joueur écrit *non*, arrêtez la partie en affichant un message pour dire au revoir au joueur."
   ]
  },
  {
   "cell_type": "code",
   "execution_count": null,
   "metadata": {},
   "outputs": [],
   "source": []
  },
  {
   "cell_type": "code",
   "execution_count": null,
   "metadata": {},
   "outputs": [],
   "source": []
  }
 ],
 "metadata": {
  "kernelspec": {
   "display_name": "Python 3 (ipykernel)",
   "language": "python",
   "name": "python3"
  },
  "language_info": {
   "codemirror_mode": {
    "name": "ipython",
    "version": 3
   },
   "file_extension": ".py",
   "mimetype": "text/x-python",
   "name": "python",
   "nbconvert_exporter": "python",
   "pygments_lexer": "ipython3",
   "version": "3.11.4"
  }
 },
 "nbformat": 4,
 "nbformat_minor": 2
}
