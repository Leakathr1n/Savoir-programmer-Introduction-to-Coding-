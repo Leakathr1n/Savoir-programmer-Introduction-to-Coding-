{
 "cells": [
  {
   "cell_type": "markdown",
   "metadata": {},
   "source": [
    "# Séance 4 - Exercices\n",
    "\n",
    "- Avant de réaliser les exercices suivants, assurez-vous d'avoir bien assimilé la matière présentée en cours.\n",
    "- Il est possible que votre solution soit différente de celle d'un(e) collègue ou de l'enseignant(e).\n",
    "\n",
    "## Exercice 1 - Convertisseur de température\n",
    "- Déclarez une fonction `celsius_a_farenheit()` qui reçoit en paramètre la variable `temperature_celsius` et qui produit la valeur en farenheit.\n",
    "- La formule nécessaire pour la conversion est : `temperature_farenheit` = `temperature_celsius` * 1.8 + 32\n",
    "- Testez votre fonction avec le code Python suivant :\n",
    "\n",
    "```\n",
    "t = -20.0\n",
    "\n",
    "print(\"{0} degrés celsius font {1} degrés farenheit\".format(t, celsius_a_farenheit(t)))\n",
    "\n",
    "```"
   ]
  },
  {
   "cell_type": "code",
   "execution_count": 4,
   "metadata": {},
   "outputs": [
    {
     "name": "stdout",
     "output_type": "stream",
     "text": [
      "-20.0 degrés celsius font -4.0 degrés farenheit\n"
     ]
    }
   ],
   "source": [
    "# cellule pour exercice 1\n",
    "\n",
    "def celsius_a_farenheit(temperature_celsius):\n",
    "    temperature_farenheit = temperature_celsius * 1.8 + 32\n",
    "    return temperature_farenheit\n",
    "\n",
    "\n",
    "t = -20.0\n",
    "print(\"{0} degrés celsius font {1} degrés farenheit\".format(t, celsius_a_farenheit(t)))"
   ]
  },
  {
   "cell_type": "markdown",
   "metadata": {},
   "source": [
    "## Exercice 2 - Aire d'un cercle\n",
    "- Déclarez une fonction `aire()` qui reçoit en paramètre la variable `r` et qui produit l'aire d'un cercle ayant comme rayon `r`.\n",
    "- La formule nécessaire pour trouver l'aire d'un cercle est : `aire` = `pi` * `r` * `r`\n",
    "    - pi = 3.141592\n",
    "- Testez votre fonction avec le code Python suivant :\n",
    "\n",
    "```\n",
    "r = 5\n",
    "\n",
    "print(\"un cercle de rayon {0} a pour aire {1}\".format(r, aire(r)))\n",
    "\n",
    "```"
   ]
  },
  {
   "cell_type": "code",
   "execution_count": 5,
   "metadata": {},
   "outputs": [
    {
     "name": "stdout",
     "output_type": "stream",
     "text": [
      "un cercle de rayon 5 a pour aire 78.5398\n"
     ]
    }
   ],
   "source": [
    "# cellule pour exercice 2\n",
    "\n",
    "pi = 3.141592\n",
    "\n",
    "def aire(r):\n",
    "    aire_calculation = pi * r * r\n",
    "    return aire_calculation\n",
    "\n",
    "r = 5\n",
    "\n",
    "print(\"un cercle de rayon {0} a pour aire {1}\".format(r, aire(r)))"
   ]
  },
  {
   "cell_type": "markdown",
   "metadata": {},
   "source": [
    "## Exercice 3 - Médiane d'une liste\n",
    "- (__Remarque__ : La logique sur la façon de calculer la valeur médiane d'une liste avec un nombre pair ou impair de valeurs a été abordée lors de la _Séance 3 - Exercice 2_).\n",
    "- Déclarez une fonction `mediane()` qui reçoit en paramètre une liste de nombres appelée `liste` et qui détermine la médiane de la liste.\n",
    "    - La liste reçue n'est pas triée.\n",
    "    - Votre fonction __ne doit pas modifier__ la liste reçue.\n",
    "- Testez votre fonction avec les deux listes suivantes :\n",
    "    - 20, 94, 57, 96, 89, 8, 42, 10, 3, 33\n",
    "    - 65, 75, 83, 47, 46, 79, 6, 62, 48, 64, 32"
   ]
  },
  {
   "cell_type": "code",
   "execution_count": 2,
   "metadata": {},
   "outputs": [],
   "source": [
    "#Séance 3 Exercice 2\n",
    "\n",
    "# déclaration de la liste\n",
    "my_list = [4, 10, 3, 68, 15, 8]\n",
    "\n",
    "# my_list = [4, 10, 3, 68, 15]\n",
    "\n",
    "# tri de la liste avant de commencer\n",
    "my_list.sort()\n",
    "print(my_list)\n",
    "\n",
    "# ici on le calcule séparément pour des fins de simplicité\n",
    "# mais on pourrait le faire dans le if qui suit\n",
    "# is_even aura la valeur VRAI ou FAUX après la comparaison à 0.\n",
    "is_even = len(my_list) % 2 == 0\n",
    "\n",
    "if (is_even):\n",
    "    # le signe '/' indique une division, par exemple 5 / 2 retournera 2.5\n",
    "    # le signe '//' indique une 'floor division', par exemple 5 / 2 retournera 2\n",
    "    median = (my_list[len(my_list) // 2] + my_list[(len(my_list) // 2) - 1]) / 2\n",
    "else:\n",
    "    median = my_list[len(my_list) // 2]\n",
    "\n",
    "print(\"La médiane est: {0}\".format(median))\n"
   ]
  },
  {
   "cell_type": "code",
   "execution_count": 12,
   "metadata": {},
   "outputs": [
    {
     "name": "stdout",
     "output_type": "stream",
     "text": [
      "Le mediane est 37.5\n",
      "Le mediane est 62\n"
     ]
    }
   ],
   "source": [
    "# cellule pour exercice 3\n",
    "\n",
    "def median(my_list):\n",
    "\n",
    "    my_list_sorted = sorted(my_list)\n",
    "\n",
    "    is_even = len(my_list) % 2 == 0\n",
    "\n",
    "    if (is_even):\n",
    "        median = (my_list_sorted[len(my_list_sorted) // 2] + my_list_sorted[(len(my_list_sorted) // 2) - 1]) / 2\n",
    "    else:\n",
    "        median = my_list_sorted[len(my_list_sorted) // 2]\n",
    "\n",
    "    return median\n",
    "\n",
    "my_list=[20, 94, 57, 96, 89, 8, 42, 10, 3, 33]\n",
    "\n",
    "my_list_1 = [65, 75, 83, 47, 46, 79, 6, 62, 48, 64, 32]\n",
    "\n",
    "print('Le mediane est {0}'.format(median(my_list)))\n",
    "\n",
    "print('Le mediane est {0}'.format(median(my_list_1)))"
   ]
  },
  {
   "cell_type": "markdown",
   "metadata": {},
   "source": [
    "## Exercice 4 - Évaluation d'étudiants\n",
    "- Voici la liste des étudiants ainsi que les notes obtenues à chacun des 3 devoirs d'un cours :\n",
    "\n",
    "| Étudiant | TP1 | TP2 | TP3 |\n",
    "| --- | --- | --- | --- |\n",
    "| Gregory | 55 | 65 | 80 |\n",
    "| Gilbert | 80 | 90 | 100 |\n",
    "| Bogdan | 70 | 65 | 95 |\n",
    "\n",
    "- Écrivez une fonction `average` qui calcule la moyenne des valeurs dans une liste [].\n",
    "- Par la suite, écrivez une fonction `notes_cours` qui appellera la fonction `average`. Cette fonction :\n",
    "    - reçoit les notes de tous les étudiants dans le paramètre `notes` (donc, un dictionnaire {...:...}),\n",
    "    - affiche la moyenne de chaque étudiant,\n",
    "    - affiche la moyenne de chaque devoir,\n",
    "    - affiche la moyenne du cours (c.-à-d. la somme des moyennes des étudiants divisée par le nombre d'étudiants).\n",
    "\n",
    "__Note__: Pour pouvoir calculer la moyenne de chaque devoir, nous devons _logiquement tourner_ le tableau pour qu'il ressemble à ceci:\n",
    "\n",
    "| TP | Gregory | Gilbert | Bogdan |\n",
    "| --- | --- | --- | --- |\n",
    "| 1 | 55 | 80 | 70 |\n",
    "| 2 | 65 | 90 | 65 |\n",
    "| 3 | 80 | 100 | 95 |\n",
    "\n",
    "Nous pouvons le faire en créant une liste de listes (c.-à-d. `[[55, 80, 70], [65, 90, 65], [80, 100, 95]]`), avec la première liste (à l'index 0) contenant les notes pour le TP1, la deuxième liste (à l'index 1) contenant les notes pour le TP2 et la troisième liste (à l'index 2) contenant les notes pour le TP3.\n"
   ]
  },
  {
   "cell_type": "code",
   "execution_count": 3,
   "metadata": {},
   "outputs": [
    {
     "name": "stdout",
     "output_type": "stream",
     "text": [
      "La moyenne de Gregory est 66.67\n",
      "La moyenne de Gilbert est 90.00\n",
      "La moyenne de Bogdan est 76.67\n",
      "La moyenne du TP1 est 68.33\n",
      "La moyenne du TP2 est 73.33\n",
      "La moyenne du TP3 est 91.67\n",
      "La moyenne du cours est 77.78\n"
     ]
    }
   ],
   "source": [
    "def average(notes_list):\n",
    "    average_calculation = sum(notes_list) / len(notes_list)\n",
    "    return average_calculation\n",
    "\n",
    "def notes_cours(notes_dict):\n",
    "    # Transpose the data to have assignments as rows and students as columns\n",
    "    transposed_notes = list(map(list, zip(*notes_dict.values())))\n",
    "\n",
    "    #affiche la moyenne de chaque étudiant,\n",
    "    for etudiant, etudiant_notes in notes_dict.items():\n",
    "        moyenne_etudiant = average(etudiant_notes)\n",
    "        print(f\"La moyenne de {etudiant} est {moyenne_etudiant:.2f}\")\n",
    "\n",
    "    #affiche la moyenne de chaque devoir,\n",
    "    for tp, tp_notes in enumerate(transposed_notes, start=1):\n",
    "        moyenne_tp = average(tp_notes)\n",
    "        print(f\"La moyenne du TP{tp} est {moyenne_tp:.2f}\")\n",
    "\n",
    "    #Affice la moyenne du cours\n",
    "    overall_average = average([average(etudiant_notes) for etudiant_notes in notes_dict.values()])\n",
    "    print(f\"La moyenne du cours est {overall_average:.2f}\")\n",
    "\n",
    "#reçoit les notes de tous les étudiants dans le paramètre notes (donc, un dictionnaire {...:...}),\n",
    "notes = {\n",
    "    \"Gregory\": [55, 65, 80],\n",
    "    \"Gilbert\": [80, 90, 100],\n",
    "    \"Bogdan\": [70, 65, 95]\n",
    "}\n",
    "\n",
    "#la functionne\n",
    "notes_cours(notes)\n"
   ]
  },
  {
   "cell_type": "markdown",
   "metadata": {},
   "source": [
    "## Exercice 5 - Moyenne d'un nombre indéterminé de valeurs\n",
    "- Écrivez une fonction `moyenne` qui calcule la moyenne des valeurs reçues en paramètre :\n",
    "    - le nombre de paramètres n'est pas connu à l'avance.\n",
    "- Testez votre fonction avec les deux listes suivantes :\n",
    "    - 20, 94, 57, 96, 89, 8, 42, 10, 3, 33;\n",
    "    - 65, 75, 83, 47, 46, 79, 6, 62, 48, 64, 32."
   ]
  },
  {
   "cell_type": "code",
   "execution_count": 34,
   "metadata": {},
   "outputs": [
    {
     "name": "stdout",
     "output_type": "stream",
     "text": [
      "La moyenne est 45\n",
      "La moyenne est 55\n"
     ]
    }
   ],
   "source": [
    "# cellule pour exercice 5\n",
    "\n",
    "def mean(liste):\n",
    "\n",
    "    mean_calculation = sum(liste) // len(liste)\n",
    "\n",
    "    return mean_calculation\n",
    "\n",
    "my_list=[20, 94, 57, 96, 89, 8, 42, 10, 3, 33]\n",
    "\n",
    "my_list_1 = [65, 75, 83, 47, 46, 79, 6, 62, 48, 64, 32]\n",
    "\n",
    "print('La moyenne est {0}'.format(mean(my_list)))\n",
    "\n",
    "print('La moyenne est {0}'.format(mean(my_list_1)))"
   ]
  },
  {
   "cell_type": "code",
   "execution_count": null,
   "metadata": {},
   "outputs": [],
   "source": []
  }
 ],
 "metadata": {
  "kernelspec": {
   "display_name": "Python 3 (ipykernel)",
   "language": "python",
   "name": "python3"
  },
  "language_info": {
   "codemirror_mode": {
    "name": "ipython",
    "version": 3
   },
   "file_extension": ".py",
   "mimetype": "text/x-python",
   "name": "python",
   "nbconvert_exporter": "python",
   "pygments_lexer": "ipython3",
   "version": "3.11.4"
  }
 },
 "nbformat": 4,
 "nbformat_minor": 2
}
