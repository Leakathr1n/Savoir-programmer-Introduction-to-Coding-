{
 "cells": [
  {
   "cell_type": "markdown",
   "metadata": {},
   "source": [
    "## Structures de données imbriquées\n",
    "\n",
    "À la séance 2, nous avons abordé les structures de données de base : listes, tuples, set, dict. Nous avons manipulés ces structures en présumant que les éléments qu'ils contiennent sont des valeurs : entiers, décimales, chaînes de caractères.\n",
    "\n",
    "En programmation, il arrive fréquemment que les données à manipuler soient organisées de façon plus complexe. Prenons l'exemple du catalogue de produits.\n",
    "\n",
    "### Une liste de dictionnaires\n",
    "\n",
    "Dans un premier temps, imaginons que le catalogue soit interprété comme une liste de descripteurs de produit, chaque descripteut étant un dictionnaire."
   ]
  },
  {
   "cell_type": "code",
   "execution_count": 8,
   "metadata": {},
   "outputs": [],
   "source": [
    "cat_liste = [\n",
    "  #premiere element\n",
    "    { 'no_prod' : 'AX1125',\n",
    "      'description' : 'Câble coax',\n",
    "      'prix_unit' : 4.55,\n",
    "    },\n",
    "    #deuxieme element\n",
    "    { 'no_prod' : 'AX1205',\n",
    "      'description' : 'Câble RJ45 Cat5',\n",
    "      'prix_unit' : 6.78,\n",
    "    },\n",
    "    #troisieme element\n",
    "    { 'no_prod' : 'AX1206',\n",
    "      'description' : 'Câble RJ45 Cat6',\n",
    "      'prix_unit' : 10.78,\n",
    "    },\n",
    "]\n",
    "#chroché  = une list"
   ]
  },
  {
   "cell_type": "code",
   "execution_count": 12,
   "metadata": {},
   "outputs": [
    {
     "name": "stdout",
     "output_type": "stream",
     "text": [
      "3\n",
      "\n",
      "\n",
      "{'no_prod': 'AX1205', 'description': 'Câble RJ45 Cat5', 'prix_unit': 6.78}\n"
     ]
    }
   ],
   "source": [
    "#Nombre d'éléments dans le catalogue\n",
    "print(len(cat_liste)) # il va afficher 3 parce qu'il y trois elements\n",
    "\n",
    "print('\\n')\n",
    "\n",
    "#Le 2e élément du catalogue\n",
    "print(cat_liste[1]) #si je changes le numéro, je peux obtenir des informations differents #1= deuxieme element parce que la liste commence par 0"
   ]
  },
  {
   "cell_type": "markdown",
   "metadata": {},
   "source": [
    "Ce catalogue contient trois éléments, chacun de ces éléments étant décrit par un dictionnaire.\n",
    "\n",
    "Cette représentation permet de naviguer à travers le catalogue, un item à la fois, à l'aide d'une boucle."
   ]
  },
  {
   "cell_type": "code",
   "execution_count": 22,
   "metadata": {},
   "outputs": [
    {
     "name": "stdout",
     "output_type": "stream",
     "text": [
      "Produit AX1125 - Câble coax : 4.55 $\n",
      "Produit AX1205 - Câble RJ45 Cat5 : 6.78 $\n",
      "Produit AX1206 - Câble RJ45 Cat6 : 10.78 $\n"
     ]
    }
   ],
   "source": [
    "# nous parcourons la liste 'cat_liste', en extrayant un dictionnaire 'item' à la fois\n",
    "for item in cat_liste:\n",
    "    \n",
    "    # considérant le dictionnaire 'item', pour la clé 'no_prod', donne moi sa valeur, etc. \n",
    "    print(\"Produit {0} - {1} : {2} $\".format(item['no_prod'], item['description'], item['prix_unit']))\n"
   ]
  },
  {
   "cell_type": "code",
   "execution_count": 20,
   "metadata": {},
   "outputs": [
    {
     "name": "stdout",
     "output_type": "stream",
     "text": [
      "Produit AX1125 - Câble coax : 4.55 $\n",
      "Produit AX1205 - Câble RJ45 Cat5 : 6.78 $\n",
      "Produit AX1206 - Câble RJ45 Cat6 : 10.78 $\n"
     ]
    }
   ],
   "source": [
    " # nous parcourons la liste 'cat_liste', en extrayant un dictionnaire 'item' à la fois\n",
    "for item in cat_liste:\n",
    "    \n",
    "    #une dexieme facon de l'écrire  \n",
    "    print(f\"Produit {item['no_prod']} - {item['description']} : {item['prix_unit']} $\")"
   ]
  },
  {
   "cell_type": "markdown",
   "metadata": {},
   "source": [
    "Cependant, elle rend difficile l'accès à un élément spécifique disons à partir du numéro de produit stocké dans `no_prod`. En effet, avec cette approche, il est nécessaire de parcourir la liste en séquence afin de trouver un élément qui nous intéresse. "
   ]
  },
  {
   "cell_type": "code",
   "execution_count": null,
   "metadata": {},
   "outputs": [],
   "source": [
    "prod= input(\"Indiquiez le numero du produit recherché:\")\n",
    "trouvé = False\n",
    "\n",
    "for item in cat_liste:\n",
    "    if (prod == item['no_prod']):\n",
    "        print(\"Produit {0} - {1} : {2} $\".format(item['no_prod'], item['description'], item['prix_unit']))\n",
    "        trouvé = True #changer le flag\n",
    "        \n",
    "        # une fois que nous avons trouvé le numéro de produit recherché, quittez l'itération\n",
    "        break #break = quitter le boucle \n",
    "\n",
    "# si nous avons parcouru la liste complète des produits et que nous n'avons pas trouvé le numéro de produit\n",
    "# souhaité, imprimez un message convivial\n",
    "if not trouvé:\n",
    "     print(\"Produit {0} introuvable\".format(prod))"
   ]
  },
  {
   "cell_type": "code",
   "execution_count": 35,
   "metadata": {},
   "outputs": [
    {
     "name": "stdout",
     "output_type": "stream",
     "text": [
      "Indiquiez le numero du produit recherché:kitkat\n",
      "Produit kitkat introuvable\n"
     ]
    }
   ],
   "source": [
    "prod= input(\"Indiquiez le numero du produit recherché:\")\n",
    "trouvé = False\n",
    "i=0 # je me rends au but de la liste \n",
    "\n",
    "while i < len(cat_liste) and not trouvé:\n",
    "    if cat_liste[i]['no_prod'] == prod: \n",
    "        print(f\"Produit {cat_liste[i]['no_prod']} - {cat_liste[i]['description']} : {cat_liste[i]['prix_unit']} $\")\n",
    "        trouvé = True\n",
    "    i += 1   \n",
    "    \n",
    "if not trouvé:\n",
    "    print(\"Produit {0} introuvable\".format(prod))"
   ]
  },
  {
   "cell_type": "markdown",
   "metadata": {},
   "source": [
    "### Un dictionnaire de dictionnaires\n",
    "\n",
    "On pourrait aussi imaginer une structure de données où le catalogue est un dictionnaire avec comme __clé__ le numéro de produit, par exemple `AX1125`, et avec comme __valeur__ le dictionnaire contenant les données décrivant un produit."
   ]
  },
  {
   "cell_type": "code",
   "execution_count": 39,
   "metadata": {},
   "outputs": [],
   "source": [
    "cat_dict = { #les accolades = dictionaire\n",
    "    'AX1125' : { 'no_prod' : 'AX1125', #une valeur est associée à une valeur\n",
    "      'description' : 'Câble coax',\n",
    "      'prix_unit' : 4.55,\n",
    "    },\n",
    "    'AX1205' : { 'no_prod' : 'AX1205',\n",
    "      'description' : 'Câble RJ45 Cat5',\n",
    "      'prix_unit' : 6.78,\n",
    "    },\n",
    "    'AX1206' : { 'no_prod' : 'AX1206',\n",
    "      'description' : 'Câble RJ45 Cat6',\n",
    "      'prix_unit' : 10.78,\n",
    "    },\n",
    "}"
   ]
  },
  {
   "cell_type": "code",
   "execution_count": 40,
   "metadata": {},
   "outputs": [
    {
     "name": "stdout",
     "output_type": "stream",
     "text": [
      "3\n",
      "\n",
      "\n",
      "{'no_prod': 'AX1205', 'description': 'Câble RJ45 Cat5', 'prix_unit': 6.78}\n"
     ]
    }
   ],
   "source": [
    "#Nombre d'éléments dans le catalogue\n",
    "print(len(cat_dict))\n",
    "\n",
    "print('\\n')\n",
    "\n",
    "#Le 2e élément du catalogue\n",
    "print(cat_dict['AX1205'])\n"
   ]
  },
  {
   "cell_type": "markdown",
   "metadata": {},
   "source": [
    "On peut afficher le contenu du catalogue dans son ensemble à l'aide d'une boucle. Comme chaque __valeur__ est un dictionnaire elle-même, on peut accéder à chaque caractéristique (`no_prod`, `description`, `prix_unit`) d'un produit en spécifiant la clé qui nous intéresse."
   ]
  },
  {
   "cell_type": "code",
   "execution_count": 41,
   "metadata": {},
   "outputs": [
    {
     "name": "stdout",
     "output_type": "stream",
     "text": [
      "Produit AX1125 - Câble coax : 4.55 $\n",
      "Produit AX1205 - Câble RJ45 Cat5 : 6.78 $\n",
      "Produit AX1206 - Câble RJ45 Cat6 : 10.78 $\n"
     ]
    }
   ],
   "source": [
    "# nous parcourons le dictionnaire 'cat_dict', en extrayant un dictionnaire 'item' à la fois\n",
    "for item in cat_dict:\n",
    "    \n",
    "    # cat_dict[item] : c'est un dictionnaire lui-même\n",
    "    print(\"Produit {0} - {1} : {2} $\".format(cat_dict[item]['no_prod'], cat_dict[item]['description'], \\\n",
    "                                             cat_dict[item]['prix_unit']))"
   ]
  },
  {
   "cell_type": "markdown",
   "metadata": {},
   "source": [
    "On constate ici qu'il est assez simple d'accéder à chaque caractéristique d'un produit directement avec la clé `no_prod`."
   ]
  },
  {
   "cell_type": "code",
   "execution_count": null,
   "metadata": {},
   "outputs": [],
   "source": [
    "prod = input(\"Indiquez le numéro du produit recherché: \")\n",
    "\n",
    "# 'prod' : la clé d'un produit contenu dans cat_dict\n",
    "# si get(prod) renvoie une valeur, cela signifie que le produit recherché a été trouvé dans cat_dict\n",
    "# != signifie pas égal\n",
    "if (cat_dict.get(prod) != None):\n",
    "    #get.profd = utiliser si on n'est pas sur si la valeur existe\n",
    "    \n",
    "    # \n",
    "    print(\"Produit {0} - {1} : {2} $\".format(cat_dict[prod]['no_prod'], cat_dict[prod]['description'], \\\n",
    "                                             cat_dict[prod]['prix_unit']))\n",
    "else:\n",
    "    print(\"Produit {0} introuvable\".format(prod))\n",
    "    \n"
   ]
  },
  {
   "cell_type": "markdown",
   "metadata": {},
   "source": [
    "### Autres combinaisons\n",
    "\n",
    "On pourrait imaginer d'autres façons de représenter cette information. Pourriez-vous en imaginer une autre ?"
   ]
  },
  {
   "cell_type": "code",
   "execution_count": null,
   "metadata": {},
   "outputs": [],
   "source": []
  }
 ],
 "metadata": {
  "kernelspec": {
   "display_name": "Python 3 (ipykernel)",
   "language": "python",
   "name": "python3"
  },
  "language_info": {
   "codemirror_mode": {
    "name": "ipython",
    "version": 3
   },
   "file_extension": ".py",
   "mimetype": "text/x-python",
   "name": "python",
   "nbconvert_exporter": "python",
   "pygments_lexer": "ipython3",
   "version": "3.11.4"
  }
 },
 "nbformat": 4,
 "nbformat_minor": 2
}
