{
 "cells": [
  {
   "cell_type": "markdown",
   "metadata": {},
   "source": [
    "# Séance 2 - Exercices\n",
    "\n",
    "- Avant de faire les exercices suivants, assurez-vous d'avoir bien assimilé la matière présentée en cours.\n",
    "- Il est possible que votre solution soit différente de celle d'un(e) collègue ou de l'enseignant(e).\n",
    "- __Attention__: avant de vous lancer dans l'écriture du code, prenez quelques minutes pour réfléchir à la façon dont vous attaqueriez le problème, ce qui veut dire entre autres *quel* type de données vous utiliserez en fonction de ce que vous devez faire (et non pas choisir le premier type qui vous vienne à l'esprit).\n",
    "\n",
    "## Exercice 1 - Médiane\n",
    "- Déclarer une liste, `my_list`, et y stocker les valeurs suivantes: 4, 10, 3, 68, 15.\n",
    "- Afficher la valeur médiane de la liste, en émettant l'hypothèse suivante:\n",
    "    - La liste contient toujours 5 items.\n",
    "    \n",
    "- Si j'ajoute une valeur dans ma liste, suis-je capable de faire le même calcul?\n",
    "    - Comment devrais-je calculer ma valeur médiane?"
   ]
  },
  {
   "cell_type": "code",
   "execution_count": 21,
   "metadata": {},
   "outputs": [
    {
     "name": "stdout",
     "output_type": "stream",
     "text": [
      "10\n",
      "This is my median: 10 \n",
      "10\n",
      "15\n",
      "This is my final median when adding one more number, e.g. 20: 12.5 \n"
     ]
    }
   ],
   "source": [
    "# cellule pour exercice 1\n",
    "\n",
    "my_list=[4,10,3,68,15]\n",
    "\n",
    "my_list.sort()\n",
    "\n",
    "print(my_list[2]) \n",
    "\n",
    "median = my_list[2]\n",
    "\n",
    "print(\"This is my median: {0} \".format(median))\n",
    "\n",
    "#ajouter une valeur, par example 20: \n",
    "\n",
    "ma_liste=[4,10,3,68,15,20]\n",
    "\n",
    "ma_liste.sort()\n",
    "\n",
    "#on a six valeurs maintenant, alors il est plus difficile calculer le median. \n",
    "\n",
    "median1 = ma_liste[2]\n",
    "\n",
    "print(median1)\n",
    "\n",
    "median2 = ma_liste[3]\n",
    "\n",
    "print(median2)\n",
    "\n",
    "median_final= (median1 + median2)/2\n",
    "\n",
    "print(\"This is my final median when adding one more number, e.g. 20: {0} \".format(median_final))"
   ]
  },
  {
   "cell_type": "markdown",
   "metadata": {},
   "source": [
    "## Exercice 2 - String versus List\n",
    "- Déclarer une variable `my_text` et lui assigner la valeur suivante: \"J'aime le Python!\"\n",
    "- Bien qu'une `string` est techniquement un type de données différent d'une liste (__une string est immutable et ne contient que du texte__), on peut la manipuler de la même façon.\n",
    "- Afficher le premier caractère `my_text`.\n",
    "- Afficher les trois premiers caractères de `my_text`.\n",
    "- Afficher le dernier caractère de `my_text`.\n",
    "- Afficher les trois derniers caractères de `my_text`."
   ]
  },
  {
   "cell_type": "code",
   "execution_count": 39,
   "metadata": {},
   "outputs": [
    {
     "name": "stdout",
     "output_type": "stream",
     "text": [
      "J'aime le Python!\n",
      "J\n",
      "J'a\n",
      "!\n",
      "hon\n"
     ]
    }
   ],
   "source": [
    "# cellule pour exercice 2\n",
    "\n",
    "my_text=\"J'aime le Python!\"\n",
    "\n",
    "print(my_text)\n",
    "\n",
    "premier_caractère = my_text[0]\n",
    "\n",
    "print(premier_caractère)\n",
    "\n",
    "trois_premiere_caractères = my_text[0:3]\n",
    "\n",
    "print(trois_premiere_caractères)\n",
    "\n",
    "dernier_caractère = my_text[-1]\n",
    "\n",
    "print(dernier_caractère)\n",
    "\n",
    "trois_dernier_caractères = my_text[-4:-1]\n",
    "\n",
    "print(trois_dernier_caractères)"
   ]
  },
  {
   "cell_type": "markdown",
   "metadata": {},
   "source": [
    "## Exercice 3 - Cours suivis par des étudiants\n",
    "- Soient deux listes de noms d'étudiants ayant suivi deux cours différents:\n",
    "    - Pierre, Sophie, Jacques, Michel.\n",
    "    - Marie, Claude, Roger, Sophie.\n",
    "\n",
    "- Afficher les noms des étudiants ayant pris les deux cours.\n",
    "- L'étudiante Laurence a-t-elle pris l'un ou l'autre de ces cours?\n",
    "- Quel(s) étudiant(s) n'ont pris __que__ l'un ou l'autre de ces cours?\n",
    "- Afficher la liste complète des étudiants des deux cours."
   ]
  },
  {
   "cell_type": "code",
   "execution_count": 65,
   "metadata": {},
   "outputs": [
    {
     "name": "stdout",
     "output_type": "stream",
     "text": [
      "Pierre, Sophie, Jacques, Michel\n",
      "Marie, Claude, Roger, Sophie\n",
      "Students who took both courses: {'Sophie'}\n",
      "Cours 1 contient Laurence 0 fois.\n",
      "Cours 2 contient Laurence 0 fois.\n",
      "Pierre, Sophie, Jacques, MichelMarie, Claude, Roger, Sophie\n",
      "Lex deux courses contient Pierre 1 fois.\n",
      "Lex deux courses contient Sophie 2 fois.\n",
      "Lex deux courses contient Jacques 1 fois.\n",
      "Lex deux courses contient Michel 1 fois.\n",
      "Lex deux courses contient Marie 1 fois.\n",
      "Lex deux courses contient Claude 1 fois.\n",
      "Lex deux courses contient Roger 1 fois.\n",
      "Pierre\n",
      "['Pierre', 'Sophie', 'Jacques', 'Michel', 'Marie', 'Claude', 'Roger', 'Sophie']\n",
      "['Pierre', 'Sophie', 'Jacques', 'Michel', 'Marie', 'Claude']\n"
     ]
    }
   ],
   "source": [
    "# cellule pour exercice 3\n",
    "\n",
    "#deux listes\n",
    "Cours1 = \"Pierre, Sophie, Jacques, Michel\"\n",
    "\n",
    "Cours2 = \"Marie, Claude, Roger, Sophie\"\n",
    "\n",
    "#display lists\n",
    "print(Cours1)\n",
    "print(Cours2)\n",
    "\n",
    "# Find the common students who took both courses\n",
    "common_students = set(students_in_cours1) & set(students_in_cours2)\n",
    "\n",
    "# Display the common students\n",
    "print(\"Students who took both courses: {0}\".format(common_students))\n",
    "\n",
    "# Chercher Laurence \n",
    "# Renvoie le nombre de fois où 'pomme' apparaît dans la liste.\n",
    "print(\"Cours 1 contient Laurence {0} fois.\".format(Cours1.count(\"Laurence\")))\n",
    "print(\"Cours 2 contient Laurence {0} fois.\".format(Cours2.count(\"Laurence\")))\n",
    "\n",
    "#étudiants that only took one course\n",
    "#generate one long list to check how often one student appears!\n",
    "\n",
    "Cours1Cours2 = Cours1 + Cours2\n",
    "\n",
    "print(Cours1Cours2)\n",
    "\n",
    "print(\"Lex deux courses contient Pierre {0} fois.\".format(Cours1Cours2.count(\"Pierre\")))\n",
    "print(\"Lex deux courses contient Sophie {0} fois.\".format(Cours1Cours2.count(\"Sophie\")))\n",
    "print(\"Lex deux courses contient Jacques {0} fois.\".format(Cours1Cours2.count(\"Jacques\")))\n",
    "print(\"Lex deux courses contient Michel {0} fois.\".format(Cours1Cours2.count(\"Michel\")))\n",
    "print(\"Lex deux courses contient Marie {0} fois.\".format(Cours1Cours2.count(\"Marie\")))\n",
    "print(\"Lex deux courses contient Claude {0} fois.\".format(Cours1Cours2.count(\"Claude\")))\n",
    "print(\"Lex deux courses contient Roger {0} fois.\".format(Cours1Cours2.count(\"Roger\")))\n",
    "\n",
    "#afficer une liste complète\n",
    "\n",
    "print(Cours1Cours2 [0:6])\n",
    "# Split the course strings into lists of student names\n",
    "students_in_cours1 = Cours1.split(', ')\n",
    "students_in_cours2 = Cours2.split(', ')\n",
    "\n",
    "Cours = students_in_cours1 + students_in_cours2\n",
    "\n",
    "print(Cours)\n",
    "\n",
    "print(Cours [0:6])\n",
    "\n"
   ]
  },
  {
   "cell_type": "markdown",
   "metadata": {},
   "source": [
    "# Another way of doing it"
   ]
  },
  {
   "cell_type": "code",
   "execution_count": 86,
   "metadata": {},
   "outputs": [
    {
     "name": "stdout",
     "output_type": "stream",
     "text": [
      "{'Jacques', 'Pierre', 'Sophie', 'Michel'}\n",
      "{'Roger', 'Claude', 'Sophie', 'Marie'}\n",
      "intersection de Cours1 et Cours2: {'Sophie'}\n",
      "est-ce que Laurence est contenue dans Cours1: False\n",
      "est-ce que Laurence est contenue dans Cours2: False\n",
      "difference symétrique entre Cours1 et Cours2: {'Jacques', 'Michel', 'Roger', 'Marie', 'Claude', 'Pierre'}\n",
      "{'Jacques', 'Michel', 'Roger', 'Marie', 'Claude', 'Pierre', 'Sophie'}\n"
     ]
    }
   ],
   "source": [
    "Cours1 = {\"Pierre\", \"Sophie\", \"Jacques\", \"Michel\"}\n",
    "\n",
    "Cours2 = {\"Marie\", \"Claude\", \"Roger\", \"Sophie\"}\n",
    "\n",
    "#display lists\n",
    "print(Cours1)\n",
    "print(Cours2)\n",
    "\n",
    "# deux cours\n",
    "print(\"intersection de Cours1 et Cours2: {0}\".format(Cours1.intersection(Cours2)))\n",
    "\n",
    "#chercher Laurence\n",
    "print(\"est-ce que Laurence est contenue dans Cours1: {0}\".format(\"Laurence\" in Cours1))\n",
    "print(\"est-ce que Laurence est contenue dans Cours2: {0}\".format(\"Laurence\" in Cours2))\n",
    "\n",
    "#les etudiants qui ont pris un cours seulement\n",
    "\n",
    "# symmetric_difference()\n",
    "print(\"difference symétrique entre Cours1 et Cours2: {0}\".format(Cours1.symmetric_difference(Cours2)))\n",
    "\n",
    "#liste d'ètudiants\n",
    "\n",
    "Cours1.update([\"Marie\", \"Claude\", \"Roger\", \"Sophie\"])\n",
    "print(Cours1)"
   ]
  },
  {
   "cell_type": "markdown",
   "metadata": {},
   "source": [
    "## Exercice 4 - Valeurs dupliquées\n",
    "- Lire le contenu du fichier `student_list.txt` dans une séquence. Ce fichier contient une liste de noms (un nom par ligne). Pour lire le contenu des lignes du fichier dans une liste (soit, 1 item == 1 ligne du fichier), référez-vous à la __[documentation](https://www.w3schools.com/python/ref_file_readlines.asp)__].\n",
    "- Afficher le nombre de valeurs uniques contenues dans le fichier en formattant le message suivant: \"Nombre de noms: x; nombre de noms uniques: y\" en remplaçant x et y par les valeurs adéquates.\n",
    "- __Attention__: La solution ne doit pas faire itérer sur la ou les séquences que vous utilisez."
   ]
  },
  {
   "cell_type": "code",
   "execution_count": 97,
   "metadata": {},
   "outputs": [
    {
     "name": "stdout",
     "output_type": "stream",
     "text": [
      "['gregory\\n', 'gilbert\\n', 'bogdan\\n', 'michel\\n', 'pierre\\n', 'paul\\n', 'michel\\n', 'robert']\n",
      "Nombre des noms: 7; nombre de noms uniques: 6 .\n"
     ]
    }
   ],
   "source": [
    "# cellule pour exercice 4\n",
    "\n",
    "f = open(\"student_list.txt\", \"r\")\n",
    "print(f.readlines())\n",
    "\n",
    "names= {'gregory', 'gilbert', 'bogdan', 'michel', 'pierre', 'paul', 'michel', 'robert'}\n",
    "\n",
    "#y = needs to be defined as to find out how many values are doubled in the sequence\n",
    "\n",
    "x= (len(names) - 1)\n",
    "\n",
    "print(\"Nombre des noms: {0}; nombre de noms uniques: {1} .\".format(len(names), x))\n"
   ]
  },
  {
   "cell_type": "markdown",
   "metadata": {},
   "source": [
    "## Exercice 5 - Évaluations d'étudiants\n",
    "- Écrire un programme pour stocker les notes des étudiants du cours de programmation dans une variable `notes`.\n",
    "- Voici la liste des étudiants ainsi que les notes obtenues à chacun des 3 devoirs du cours.\n",
    "    - Gregory: 55, 65, 80.\n",
    "    - Gilbert: 80, 90, 100.\n",
    "    - Bogdan: 70, 65, 95.\n",
    "- Afficher, pour chaque étudiant, les notes obtenues."
   ]
  },
  {
   "cell_type": "code",
   "execution_count": 101,
   "metadata": {},
   "outputs": [
    {
     "name": "stdout",
     "output_type": "stream",
     "text": [
      "Liste de départ: ['Gregory Note 1', 'Gregory Note 2', 'Gregory Note 3', 'Gilbert Note 1', 'Gilbert Note 2', 'Gilbert Note 3', 'Bogdan Note 1', 'Bogdan Note 2', 'Bogdan Note 3']\n",
      "Liste convertie en dict: {'Gregory Note 1': None, 'Gregory Note 2': None, 'Gregory Note 3': None, 'Gilbert Note 1': None, 'Gilbert Note 2': None, 'Gilbert Note 3': None, 'Bogdan Note 1': None, 'Bogdan Note 2': None, 'Bogdan Note 3': None}\n",
      "Liste convertie en dict: {'Gregory Note 1': 55, 'Gregory Note 2': 65, 'Gregory Note 3': 80, 'Gilbert Note 1': 80, 'Gilbert Note 2': 90, 'Gilbert Note 3': 100, 'Bogdan Note 1': 70, 'Bogdan Note 2': 65, 'Bogdan Note 3': 95}\n"
     ]
    }
   ],
   "source": [
    "# cellule pour exercice 5\n",
    "\n",
    "# création et affichage de la liste\n",
    "my_list = ['Gregory Note 1', 'Gregory Note 2', 'Gregory Note 3', 'Gilbert Note 1', 'Gilbert Note 2','Gilbert Note 3', 'Bogdan Note 1','Bogdan Note 2','Bogdan Note 3']\n",
    "print(\"Liste de départ: {0}\".format(my_list))\n",
    "\n",
    "# conversion en dictionnaire et affichage\n",
    "my_dict = dict.fromkeys(my_list)\n",
    "print(\"Liste convertie en dict: {0}\".format(my_dict))\n",
    "\n",
    "\n",
    "# Étant donné une deuxième liste contenant des valeurs (soit mes préférences),\n",
    "# comment convertir les deux listes en un seul dictionnaire.\n",
    "notes = [55, 65,80,80,90,100,70,65,95]\n",
    "my_dict = {my_list[i] : notes[i] for i in range(len(my_list))} \n",
    "print(\"Liste convertie en dict: {0}\".format(my_dict))"
   ]
  },
  {
   "cell_type": "markdown",
   "metadata": {},
   "source": [
    "## Exercice 6 - Évaluations d'étudiants - v2\n",
    "- Reprendre le programme de l'exercice 5 en simplifiant la lecture des notes pour accéder en même temps aux listes des étudiants et des notes.\n",
    "- Afficher, pour chaque étudiant, les notes obtenues. Pour otenir de l'aide, consulter la __[documentation](https://docs.Python.org/3/tutorial/datastructures.html?highlight=looping%20techniques#looping-techniques)__"
   ]
  },
  {
   "cell_type": "code",
   "execution_count": 102,
   "metadata": {},
   "outputs": [
    {
     "name": "stdout",
     "output_type": "stream",
     "text": [
      "Liste de départ: ['Gregory Note 1', 'Gregory Note 2', 'Gregory Note 3', 'Gilbert Note 1', 'Gilbert Note 2', 'Gilbert Note 3', 'Bogdan Note 1', 'Bogdan Note 2', 'Bogdan Note 3']\n",
      "Liste convertie en dict: {'Gregory Note 1': None, 'Gregory Note 2': None, 'Gregory Note 3': None, 'Gilbert Note 1': None, 'Gilbert Note 2': None, 'Gilbert Note 3': None, 'Bogdan Note 1': None, 'Bogdan Note 2': None, 'Bogdan Note 3': None}\n",
      "Liste convertie en dict: {'Gregory Note 1': ':)', 'Gregory Note 2': ':)', 'Gregory Note 3': ':)', 'Gilbert Note 1': ':)', 'Gilbert Note 2': ':)', 'Gilbert Note 3': ':)', 'Bogdan Note 1': ':)', 'Bogdan Note 2': ':)', 'Bogdan Note 3': ':)'}\n",
      "Liste convertie en dict: {'Gregory Note 1': 55, 'Gregory Note 2': 65, 'Gregory Note 3': 80, 'Gilbert Note 1': 80, 'Gilbert Note 2': 90, 'Gilbert Note 3': 100, 'Bogdan Note 1': 70, 'Bogdan Note 2': 65, 'Bogdan Note 3': 95}\n",
      "Gregory Note 1 55\n",
      "Gregory Note 2 65\n",
      "Gregory Note 3 80\n",
      "Gilbert Note 1 80\n",
      "Gilbert Note 2 90\n",
      "Gilbert Note 3 100\n",
      "Bogdan Note 1 70\n",
      "Bogdan Note 2 65\n",
      "Bogdan Note 3 95\n"
     ]
    }
   ],
   "source": [
    "# cellule pour exercice 6\n",
    "\n",
    "# création et affichage de la liste\n",
    "my_list = ['Gregory Note 1', 'Gregory Note 2', 'Gregory Note 3', 'Gilbert Note 1', 'Gilbert Note 2','Gilbert Note 3', 'Bogdan Note 1','Bogdan Note 2','Bogdan Note 3']\n",
    "print(\"Liste de départ: {0}\".format(my_list))\n",
    "\n",
    "# conversion en dictionnaire et affichage\n",
    "my_dict = dict.fromkeys(my_list)\n",
    "print(\"Liste convertie en dict: {0}\".format(my_dict))\n",
    "\n",
    "# conversion en dictionnaire avec une valeur par défaut et affichage\n",
    "my_dict = dict.fromkeys(my_list, \":)\")\n",
    "print(\"Liste convertie en dict: {0}\".format(my_dict))\n",
    "\n",
    "# Étant donné une deuxième liste contenant des valeurs (soit mes préférences),\n",
    "# comment convertir les deux listes en un seul dictionnaire.\n",
    "notes = [55, 65,80,80,90,100,70,65,95]\n",
    "my_dict = {my_list[i] : notes[i] for i in range(len(my_list))} \n",
    "print(\"Liste convertie en dict: {0}\".format(my_dict))\n",
    "\n",
    "des_notes = {'Gregory Note 1': 55, 'Gregory Note 2': 65, 'Gregory Note 3': 80, 'Gilbert Note 1': 80, 'Gilbert Note 2': 90, 'Gilbert Note 3': 100, 'Bogdan Note 1': 70, 'Bogdan Note 2': 65, 'Bogdan Note 3': 95}\n",
    "for k, v in des_notes.items():\n",
    "    print(k, v)"
   ]
  },
  {
   "cell_type": "code",
   "execution_count": null,
   "metadata": {},
   "outputs": [],
   "source": []
  }
 ],
 "metadata": {
  "kernelspec": {
   "display_name": "Python 3 (ipykernel)",
   "language": "python",
   "name": "python3"
  },
  "language_info": {
   "codemirror_mode": {
    "name": "ipython",
    "version": 3
   },
   "file_extension": ".py",
   "mimetype": "text/x-python",
   "name": "python",
   "nbconvert_exporter": "python",
   "pygments_lexer": "ipython3",
   "version": "3.11.4"
  }
 },
 "nbformat": 4,
 "nbformat_minor": 2
}
