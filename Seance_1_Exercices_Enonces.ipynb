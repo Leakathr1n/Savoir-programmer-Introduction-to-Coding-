{
 "cells": [
  {
   "cell_type": "markdown",
   "metadata": {},
   "source": [
    "# Séance 1 - Exercices\n",
    "\n",
    "- Avant d'exécuter les exercices suivants, assurez-vous d'avoir bien assimilé la matière présentée en cours.\n",
    "- Il est possible que votre solution soit différente de celle d'un(e) collègue ou de l'enseignant(e).\n",
    "\n",
    "## Exercice 1 - Convertisseur de température\n",
    "\n",
    "- Déclarer une variable `temperature_celsius`, qui sert à stocker une température en degrés Celsius et prend la valeur -20.0.\n",
    "- Écrire une expression permettant de convertir cette température en degrés Fahrenheit que l'on stockera dans une variable appelée `temperature_fahrenheit`.\n",
    "- Afficher le message suivant: \"$x$ degrés Celsius font $y$ degrés Fahrenheit\" où $x$ et $y$ sont les valeurs des températures.\n",
    "- Pour information, la formule permettant de faire cette conversion est la suivante:\n",
    "\n",
    "    - On multiplie la température en degrés Celsius par 1.8 et on ajoute 32 au résultat.\n",
    "    \n",
    "- Vérifier le résultat à l'aide d'un convertisseur sur internet."
   ]
  },
  {
   "cell_type": "code",
   "execution_count": 5,
   "metadata": {},
   "outputs": [
    {
     "name": "stdout",
     "output_type": "stream",
     "text": [
      "-4.0\n",
      "-20.0 degrés Celsius font -4.0 degrés Fahrenheit\n"
     ]
    }
   ],
   "source": [
    "# cellule pour exercice 1\n",
    "\n",
    "temperature_celsius = -20.0\n",
    "\n",
    "temperature_fahrenheit = temperature_celsius*1.8 + 32\n",
    "\n",
    "print (temperature_fahrenheit)\n",
    "\n",
    "print (\"{0} degrés Celsius font {1} degrés Fahrenheit\".format(temperature_celsius,temperature_fahrenheit))\n",
    "\n",
    "#correct and verfied!\n"
   ]
  },
  {
   "cell_type": "markdown",
   "metadata": {},
   "source": [
    "## Exercice 2 - Aire d'un cercle\n",
    "\n",
    "- L'aire d'un cercle est définie par la formule suivante: $aire = \\pi*\\textit{rayon}^2$.\n",
    "- Déclarer une première variable, `rayon`, pour stocker le rayon d'un cercle et lui assigner la valeur 5.\n",
    "- Pour déclarer `pi`, on utilisera une valeur stockée dans Python plutôt que de déclarer la nôtre. Cette valeur est disponible dans un `module` de Python appelé `math` et est accessible en écrivant `math.pi`. \n",
    "\n",
    "    - Pour avoir accès à cette valeur, on demandera d'abord l'accès au module par la commande `import` (voir la cellule ci-dessous). Nous reviendrons plus en détails sur les modules dans les prochaines séances du cours.\n",
    "    \n",
    "- Déclarer une variable `aire` dans laquelle on stocke le résultat du calcul.\n",
    "- Afficher le message suivant: \"un cercle de rayon $x$ a pour aire $y$\" où $x$ et $y$ sont respectivement le rayon du cercle et son aire."
   ]
  },
  {
   "cell_type": "code",
   "execution_count": 10,
   "metadata": {},
   "outputs": [
    {
     "name": "stdout",
     "output_type": "stream",
     "text": [
      "3.141592653589793\n",
      "78.53981633974483\n",
      "un cercle de rayon 5 a pour aire 78.53981633974483\n"
     ]
    }
   ],
   "source": [
    "# cellule pour exercice 2\n",
    "\n",
    "rayon = 5\n",
    "\n",
    "# importation du module de math de Python\n",
    "import math\n",
    "\n",
    "# afficher la valeur pi du module math de Python\n",
    "print(math.pi)\n",
    "\n",
    "aire = math.pi*(rayon*rayon)\n",
    "\n",
    "print(aire)\n",
    "\n",
    "print(\"un cercle de rayon {0} a pour aire {1}\". format(rayon, aire))\n",
    "\n",
    "#correct and verified "
   ]
  },
  {
   "cell_type": "markdown",
   "metadata": {},
   "source": [
    "## Exercice 3 - Aire d'un cercle - v2\n",
    "\n",
    "- Reprendre l'exercice précédent et chercher dans la documentation de Python une façon plus simple de mettre le rayon du cercle au carré plutôt que de faire la multiplication du rayon par lui-même"
   ]
  },
  {
   "cell_type": "code",
   "execution_count": 23,
   "metadata": {},
   "outputs": [
    {
     "name": "stdout",
     "output_type": "stream",
     "text": [
      "25\n",
      "3.141592653589793\n",
      "un cercle de rayon 5 a pour aire 78.53981633974483\n"
     ]
    }
   ],
   "source": [
    "# cellule pour exercice 3\n",
    "\n",
    "rayon = 5\n",
    "rayon_squared = 5**2\n",
    "\n",
    "#if you want to square things, you need the operator (**)\n",
    "\n",
    "print(rayon_squared)\n",
    "\n",
    "import math\n",
    "print(math.pi)\n",
    "\n",
    "aire = math.pi * rayon_squared\n",
    "\n",
    "print (\"un cercle de rayon {0} a pour aire {1}\". format(rayon, aire))"
   ]
  },
  {
   "cell_type": "markdown",
   "metadata": {},
   "source": [
    "## Exercice 4 - Calcul mental\n",
    "\n",
    "- Dans le programme suivant, on demande à l'utilisateur de fournir une réponse et on lui indique si sa réponse est bonne ou mauvaise.\n",
    "- Déclarer une variable `racine` et lui assigner la valeur -12.\n",
    "- Déclarer une variable `calcul` et lui assigner la valeur $\\textit{calcul} = \\textit{racine}^2$.\n",
    "- Demander à l'utilisateur de fournir le résultat du calcul de la façon suivante: \"Que donne $x$ au carré? \" en remplaçant $x$ par la valeur de `racine`. Stocker cette valeur dans la variable `user_input`.\n",
    "- Afficher ensuite le résultat de la comparaison entre la valeur de `calcul` et la valeur de `user_input`.\n",
    "- *Attention*: quand on récupère l'input de l'utilisateur, la valeur est stockée comme une chaîne de caractères. Ici on veut la comparer avec une valeur numérique. Il faudra donc convertir:\n",
    "\n",
    "    - Soit l'input de l'utilisateur en entier à l'aide de la fonction `int(user_input)`.\n",
    "    - Soit le résultat du calcul en chaîne de caractères à l'aide de la fonction `str(calcul)`."
   ]
  },
  {
   "cell_type": "code",
   "execution_count": null,
   "metadata": {},
   "outputs": [],
   "source": [
    "# cellule pour exercise 4\n",
    "\n",
    "racine = -12\n",
    "\n",
    "calcul = racine ** 2\n",
    "\n",
    "user_input = input(\"Que donne {0} au carré? \".format(racine))\n",
    "\n",
    "user_input = int(user_input)\n",
    "\n",
    "if user_input == calcul:\n",
    "    print(\"Bonne réponse!\")\n",
    "else:\n",
    "    print(\"Mauvaise réponse.\")\n",
    "    "
   ]
  },
  {
   "cell_type": "markdown",
   "metadata": {},
   "source": [
    "## Exercice 5 - Deviner un nombre\n",
    "\n",
    "- Dans le programme suivant, on veut demander à l'ordinateur de générer un nombre aléatoire entre 1 et 15 et donner 3 chances à l'utilisateur de deviner ce nombre:\n",
    "\n",
    "    - L'ordinateur demandera les 3 choix et validera si le choix de l'utilisateur est bon en le comparant avec la valeur aléatoire générée. Par contre on n'affichera pas le résultat de cette comparaison. On stockera plutôt le résultat de la comparaison avec l'input de l'utilisateur dans un fichier texte.\n",
    "    - Une fois le jeu terminé, on récapitulera le déroulement du jeu en lisant le texte du fichier.\n",
    "    \n",
    "- Déclarer une variable `random_number` et lui assigner une valeur aléatoire comprise entre 1 et 15. Consulter la documentation de la fonction __[randrange()](https://docs.Python.org/3/library/random.html)__ du module `random` pour le faire.\n",
    "- Demander à l'utilisateur d'entrer un entier entre 1 et 15. Stocker ce choix dans la variable `guess`.\n",
    "- Ouvrir le fichier `jeu_nombre.txt` en mode écriture et y inscrire le choix de l'utilisateur de la façon suivante: \n",
    "\n",
    "    - \"Choix $x$ - résultat $y$\" où $x$ indique le choix de l'utilisateur et $y$ correspond à la comparaison entre `random_number` et `guess`.\n",
    "    \n",
    "- Répéter en copiant/collant le code de cette opération 3 fois.\n",
    "- Après la troisième fois, écrire dans le fichier texte le message suivant: \"Choix de l'ordinateur: $x$\" où $x$ correspond à `random_number`.\n",
    "- Ensuite, afficher à l'écran le message suivant: \"Séquence de jeu. Aviez-vous gagné?\" et afficher le contenu du fichier texte."
   ]
  },
  {
   "cell_type": "code",
   "execution_count": null,
   "metadata": {},
   "outputs": [],
   "source": [
    "#cellule pour exercise 5\n",
    "\n",
    "import random\n",
    "\n",
    "#first time\n",
    "random_number = random.randrange(1,16)\n",
    "\n",
    "guess = int(input(\"What is your guess?\"))\n",
    "\n",
    "comparison = (\"Choix {0} - résultat  {1}\".format(guess, random_number))\n",
    "\n",
    "with open(\"jeu_nombre.txt\",\"w\") as text_file:\n",
    "    text_file.write(comparison + \"\\n\")\n",
    "    \n",
    " #second time\n",
    "\n",
    "random_number = random.randrange(1,16)\n",
    "\n",
    "guess = int(input(\"What is your guess?\"))\n",
    "\n",
    "comparison = (\"Choix {0} - résultat  {1}\".format(guess, random_number))\n",
    "\n",
    "with open(\"jeu_nombre.txt\",\"a\") as text_file:\n",
    "    text_file.write(comparison + \"\\n\")\n",
    "    \n",
    "    \n",
    "#third time\n",
    "\n",
    "random_number = random.randrange(1,16)\n",
    "\n",
    "guess = int(input(\"What is your guess?\"))\n",
    "\n",
    "comparison = (\"Choix {0} - résultat  {1}\".format(guess, random_number))\n",
    "\n",
    "with open(\"jeu_nombre.txt\",\"a\") as text_file:\n",
    "    text_file.write(comparison + \"\\n\")\n",
    "    \n",
    "\n",
    "#choix de l'ordinateur\n",
    "\n",
    "print(\"Choix de l'ordinateur {0}\".format(random_number))\n",
    "\n",
    "#show results\n",
    "\n",
    "print(\"Séquence de jeu. Aviez-vous gagné?\")\n",
    "\n",
    "file_path = \"jeu_nombre.txt\"\n",
    "with open(file_path, \"r\") as file:\n",
    "    contents = file.read()\n",
    "    \n",
    "print(contents)\n"
   ]
  },
  {
   "cell_type": "code",
   "execution_count": null,
   "metadata": {},
   "outputs": [],
   "source": []
  },
  {
   "cell_type": "code",
   "execution_count": null,
   "metadata": {},
   "outputs": [],
   "source": []
  }
 ],
 "metadata": {
  "kernelspec": {
   "display_name": "Python 3 (ipykernel)",
   "language": "python",
   "name": "python3"
  },
  "language_info": {
   "codemirror_mode": {
    "name": "ipython",
    "version": 3
   },
   "file_extension": ".py",
   "mimetype": "text/x-python",
   "name": "python",
   "nbconvert_exporter": "python",
   "pygments_lexer": "ipython3",
   "version": "3.11.4"
  }
 },
 "nbformat": 4,
 "nbformat_minor": 2
}
