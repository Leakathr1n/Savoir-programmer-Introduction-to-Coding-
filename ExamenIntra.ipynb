{
 "cells": [
  {
   "cell_type": "markdown",
   "id": "2a4d28d0",
   "metadata": {},
   "source": [
    "# <center>TECH20704 - Principes de la programmation en gestion</center>\n",
    "## <center>Examen intra - Partie 2 (Automne 2023)</center>\n",
    "## <center>Application des concepts de programmation et ceux relatifs au langage Python</center>\n",
    "\n",
    "## Énoncé\n",
    "\n",
    "Pour cette deuxième partie de l'examen, on vous demande d'écrire un programme en Python pour :\n",
    "1. calculer la note finale obtenue en TECH20704 pour chacun des étudiants des différents groupes-cours et emmagasiner l'ensemble des notes incluant les notes finales calculées (selon les notes maximales et pondérations par évaluation, arrondies à deux décimales), dans un nouveau fichier que vous nommerez `notes_final.csv`.\n",
    "2. lorsque l'étape précédente est terminée, afficher un message pour indiquer à l'utilisateur que cette étape a été réalisée avec succès. Le message à afficher devra donc être __Le fichier \"notes_final.csv\" a été généré avec succès.__\n",
    "2. calculer et afficher la moyenne des notes finales par groupe-cours ainsi que le nombre d'étudiants dans chacun des groupes. \n",
    "  \n",
    "\n",
    "## Indications\n",
    "\n",
    "\n",
    "1. Le fichier de données `notes.csv` est fourni avec cet énoncé et doit être placé dans le même répertoire que ce notebook.\n",
    "2. Le fichier de données `notes.csv` est encodé en `UTF-8`.\n",
    "   \n",
    "3. Ci-dessous, un extrait du contenu du fichier de données `notes.csv`\n",
    "    <pre><code>\n",
    "    Matricule;Groupe;TP1;TP2;Projet;Examen intra;Examen final  \n",
    "    ;;10;10;25;100;100  \n",
    "    ;;10%;10%;25%;25%;30%  \n",
    "    11184917;A01;9,5;9,5;21,65;54,5;54,5  \n",
    "    11256553;A01;11,55;9,75;21,25;57,83;81  \n",
    "    11515489;A01;9,55;9,5;21,35;61;33  \n",
    "    12079704;A01;9,65;9,25;21,25;62,93;68  \n",
    "    10820071;A01;6,9;;21,65;51,17;  \n",
    "    ...  \n",
    "    11379605;A02;8,05;9,75;18,1;58;78  \n",
    "    11359877;A02;10,65;9,55;16,2;59,5;66  \n",
    "    10335072;A02;8;8,85;17,65;52,16;28\n",
    "    </code></pre>\n",
    "    <br />\n",
    "4. L'extrait ci-dessus représente les notes des étudiants pour le cours TECH20704 où chaque rangée du contenu principal (à partir de la rangée numéro 4) représente les notes obetnues par un étudiant dans le cadre des évaluations du cours. \n",
    "   \n",
    "   | Matricule |Groupe | TP1 | TP2 | Projet | Examen intra | Examen final |\n",
    "   |:----------|------:|----:|----:|-------:|-------------:|-------------:|\n",
    "   |11184917   |A01    | 9,5 | 9,5 |   21,65|         54,5 |         54,5 |\n",
    "   |11256553   |A01    |11,55| 9,75|   21,25|         57,83|         81   |\n",
    "   |11515489   |A01    | 9,55| 9,5 |   21,35|         61   |         33   |\n",
    "   |12079704   |A01    | 9,65| 9,25|   21,25|         62,93|         68   |\n",
    "   |10820071   |A01    | 6,9 |     |   21,65|         51,17|              |\n",
    "   | ...       |       |     |     |        |              |              |\n",
    "   |11379605   |A02    | 8,05|9,75 |   18,1 |         58   |         78   |\n",
    "   |11359877   |A02    |10,65|9,55 |   16,2 |         59,5 |         66   |\n",
    "   |10335072   |A02    | 8   |8,85 |   17,65|         52,16|         28   |\n",
    "    <br />\n",
    "5. Noter qu'il existe deux groupes-cours pour le trimestre en question, A01 et A02, mais que votre programme ne devrait pas faire une telle supposition. En effet, votre programme devra réaliser ce qui est demandé en fonction du nombre de groupes se trouvant dans le fichier de données `notes.csv`. il est possible que nous corrigions en utilisant un autre fichier de données mais qui respecte la structure énoncée sur cette page.\n",
    "  \n",
    "6. Dans le fichier `notes.csv`, les éléments dans une rangée sont séparées par un `\";\"`.\n",
    "7. Les évaluations ont été corrigées sur un certain nombre de points selon la grille ci-dessous :\n",
    "   \n",
    "   | Évaluation   | Corrigé sur...|\n",
    "   |:-------------|--------------:|\n",
    "   | TP1          | 10            |\n",
    "   | TP2          | 10            |\n",
    "   | Projet       | 25            |\n",
    "   | Examen intra | 100           |\n",
    "   | Examen final | 100           |\n",
    "   \n",
    "   \n",
    "   - Les informations ci-dessus se trouvent à la deuxième rangée du fichier `notes.csv` : <pre><code>;;10;10;25;100;100</code></pre>    \n",
    "\n",
    "8. Chaque évaluation à une pondération annoncée au plan de cours, à savoir :\n",
    "   \n",
    "   | Évaluation   | Pondération   |\n",
    "   |:-------------|--------------:|\n",
    "   | TP1          | 10%           |\n",
    "   | TP2          | 10%           |\n",
    "   | Projet       | 25%           |\n",
    "   | Examen intra | 25%           |\n",
    "   | Examen final | 30%           |\n",
    "   \n",
    "   \n",
    "   - Les informations ci-dessus se trouvent à la troisième rangée du fichier `notes.csv` : <pre><code>;;10%;10%;25%;25%;30</code></pre>    \n",
    "\n",
    "9. Pour le calcul de la note finale d'un étudiant, il faut bien entendu utiliser les valeurs maximales et pondérations des différents éléments d’évaluation. Vous pouvez utiliser ces valeurs codées à la dure « hard coded » directement dans votre opération de calcul. L'utilisation **dynamique** dans votre opération de calcul de ces valeurs maximales et pondérations provenant du fichier vous méritera un bonus de 10% pour la note de cet examen.\n",
    "\n",
    "10. Noter que certaines notes ne sont pas renseignées dans le fichier `notes.csv`. L'étudiant était alors absent lors d'un examen ou il n'a pas remis son travail. Il faudra comptabiliser la note `0` dans de tels cas.\n",
    "11. Noter le sympbole utilisé `\",\"` pour séparer la partie entière des décimales. il faudra le remplacer par un `\".\"` pour pouvoir effectuer des calculs arithmétiques\n",
    "\n",
    "\n",
    "## Extrait du fichier `notes_final.csv`\n",
    "\n",
    "<pre><code>\n",
    "    Matricule;Groupe;TP1;TP2;Projet;Examen intra;Examen final;Note finale\n",
    "    ;;10;10;25;100;100;100\n",
    "    ;;10%;10%;25%;25%;30%;100%\n",
    "    11184917;A01;9.5;9.5;21.65;54.5;54.5;70.62\n",
    "    11256553;A01;11.55;9.75;21.25;57.83;81;81.31\n",
    "    11515489;A01;9.55;9.5;21.35;61;33;65.55\n",
    "    12079704;A01;9.65;9.25;21.25;62.93;68;76.28\n",
    "    10820071;A01;6.9;0;21.65;51.17;0;41.34\n",
    "    ...  \n",
    "    11379605;A02;8.05;9.75;18.1;58;78;73.8\n",
    "    11359877;A02;10.65;9.55;16.2;59.5;66;71.08\n",
    "    10335072;A02;8;8.85;17.65;52.16;28;55.94\n",
    "</code></pre>\n",
    "\n",
    "## Affichage escompté\n",
    "<pre><code>\n",
    "Le fichier \"notes_final.csv\" a été généré avec succès.\n",
    "La moyenne du groupe A01 est 67.78 (n=38)\n",
    "La moyenne du groupe A02 est 65.68 (n=33)\n",
    "</code></pre>\n"
   ]
  },
  {
   "cell_type": "code",
   "execution_count": 82,
   "id": "31d27e1b",
   "metadata": {},
   "outputs": [
    {
     "name": "stdout",
     "output_type": "stream",
     "text": [
      "['Matricule;Groupe;TP1;TP2;Projet;Examen intra;Examen final\\n', ';;10;10;25;100;100\\n', ';;10%;10%;25%;25%;30%\\n', '11184917;A01;9,5;9,5;21,65;54,5;54,5\\n', '11256553;A01;11,55;9,75;21,25;57,83;81\\n', '11515489;A01;9,55;9,5;21,35;61;33\\n', '12079704;A01;9,65;9,25;21,25;62,93;68\\n', '10820071;A01;6,9;;21,65;51,17;\\n', '10414867;A01;9,35;9,8;21,35;58,33;87\\n', '10351412;A01;11;8,5;18,4;55,83;30\\n', '11150656;A01;8,6;8,85;20,2;62,83;49\\n', '10963712;A01;9,7;9,25;21,25;48,5;67,5\\n', '10758143;A01;10,85;8,9;21,25;47;45\\n', '10952304;A01;5,25;8,9;21,35;44,25;40\\n', '11233439;A01;9,5;7,5;21,35;48,42;21\\n', '10886517;A01;7,35;9,75;21,65;49,83;30,5\\n', '12058352;A01;7,75;10;21,65;57,21;59\\n', '10523637;A01;3,95;9,3;20,65;73;73\\n', '12177762;A01;10;10;22,05;58;55\\n', '10384467;A01;5,7;7,55;22,05;52;30\\n', '11031669;A01;8,85;9,5;21,25;59,33;47\\n', '11502633;A01;11,55;9,5;22,05;71;91,5\\n', '11902393;A01;10;10;21,25;66,5;54,5\\n', '11209406;A01;6,45;9,05;20,2;54,5;59\\n', '11715358;A01;6;8,35;22,05;60,17;32\\n', '10877305;A01;8;9,9;20,65;49,83;80\\n', '11260978;A01;9,65;10;20,6;75,17;58\\n', '11377188;A01;6,75;4,9;21,25;34,66;\\n', '11256489;A01;8,6;9,75;21,25;56;65,5\\n', '12066593;A01;6,95;9,5;21,25;66,83;42\\n', '11404221;A01;8,9;10;18,4;76;64\\n', '11182691;A01;4,75;8,65;21,25;46,93;37,5\\n', '10466032;A01;10,55;9,75;20,65;53,5;62\\n', '11432713;A01;9,1;9,15;20,6;55;50\\n', '12046886;A01;9,9;9,35;21,25;64,5;61\\n', '11283059;A01;7,3;9,75;21,25;45;56\\n', '11950184;A01;7,9;8,95;20,65;64;46\\n', '11435147;A01;8,5;9,75;21,25;64,5;50\\n', '10786661;A01;8,6;9,3;20,2;56,6;32,83\\n', '11265363;A01;6;9,1;21,25;57,33;27,5\\n', '11403341;A01;8,9;10;18,4;60;72,5\\n', '11860858;A02;10;10;16,2;56;62\\n', '10675382;A02;10,65;9,25;16,2;55,16;77,5\\n', '12163128;A02;7,65;8,7;17,65;41,17;24\\n', '12122916;A02;8,5;9,5;17,65;44,5;37\\n', '11626520;A02;9,8;10;18,1;70;59\\n', '10761104;A02;7,85;10;19,6;76;74,5\\n', '11105192;A02;4,2;9,75;19,45;47,75;36\\n', '10368836;A02;8;9,3;16,2;53,5;46\\n', '11350893;A02;9,8;9,4;19,45;79,5;49,5\\n', '12005357;A02;10,65;9,75;20,6;57,5;55\\n', '10492622;A02;8;9,2;15,7;65,5;66\\n', '10536120;A02;4,7;8,55;14,7;59;54\\n', '11241905;A02;9,8;10;18,1;56,5;49\\n', '11133418;A02;6;10;15,7;41,17;31\\n', '10560369;A02;7,75;10;19,6;64,5;70,5\\n', '10560223;A02;8,75;9,01;17,4;47,5;45\\n', '11868936;A02;9,95;9,25;19,6;61,5;40\\n', '10764672;A02;4,25;10;18,1;53;60\\n', '11078027;A02;9,9;9,05;20,6;66,5;69\\n', '10599457;A02;6,5;10;15,7;59,33;31\\n', '10729361;A02;8,3;8,9;17,4;65;44\\n', '12063452;A02;9,5;7,95;17,4;57,33;49\\n', '10810373;A02;8,3;9,35;14,7;51,33;41\\n', '11888927;A02;8,75;9,15;20,6;52,33;69\\n', '11038171;A02;8,25;10;15,7;64,83;63,5\\n', '10556956;A02;8,75;7,9;14,7;69;61,5\\n', '10451795;A02;9,75;9,8;19,45;52,5;34\\n', '11519492;A02;9,4;9,9;14,7;56,5;58\\n', '12227222;A02;7,1;8,3;17,65;50;53\\n', '11720228;A02;8,35;9,15;19,6;56,83;76\\n', '11379605;A02;8,05;9,75;18,1;58;78\\n', '11359877;A02;10,65;9,55;16,2;59,5;66\\n', '10335072;A02;8;8,85;17,65;52,16;28\\n']\n"
     ]
    }
   ],
   "source": [
    "#L'ensemble de votre code dans cette cellule\n",
    "\n",
    "# Création d'une liste vide\n",
    "notes = []\n",
    "\n",
    "# Ouverture du fichier \"Connections.csv\"\n",
    "# encoding=\"utf-8\" : puisque les données contiennent des caractères spéciaux (à, è, ù, etc.)\n",
    "with open(\"notes.csv\", \"r\", encoding=\"utf-8\") as file: #file répresent les variables\n",
    "    \n",
    "    # Lecture des lignes et assignation à la liste 'connexions'\n",
    "    notes = file.readlines()\n",
    "    \n",
    "    file.seek(0)\n",
    "    \n",
    "    print(notes)\n",
    "\n",
    "# row 0: is the header\n",
    "# row 1: corriger sur\n",
    "# row 2: pourcentage "
   ]
  },
  {
   "cell_type": "code",
   "execution_count": 112,
   "id": "ef73b4a5",
   "metadata": {},
   "outputs": [
    {
     "name": "stdout",
     "output_type": "stream",
     "text": [
      "71\n",
      "71\n",
      "71\n",
      "71\n",
      "[9.5, 9.75, 9.5, 9.25, 0.0, 9.8, 8.5, 8.85, 9.25, 8.9, 8.9, 7.5, 9.75, 10.0, 9.3, 10.0, 7.55, 9.5, 9.5, 10.0, 9.05, 8.35, 9.9, 10.0, 4.9, 9.75, 9.5, 10.0, 8.65, 9.75, 9.15, 9.35, 9.75, 8.95, 9.75, 9.3, 9.1, 10.0, 10.0, 9.25, 8.7, 9.5, 10.0, 10.0, 9.75, 9.3, 9.4, 9.75, 9.2, 8.55, 10.0, 10.0, 10.0, 9.01, 9.25, 10.0, 9.05, 10.0, 8.9, 7.95, 9.35, 9.15, 10.0, 7.9, 9.8, 9.9, 8.3, 9.15, 9.75, 9.55, 8.85]\n"
     ]
    }
   ],
   "source": [
    "# Créer des liste pour stocker les valeurs\n",
    "matricule = []\n",
    "groupe = []\n",
    "notes_TP1 = []\n",
    "notes_TP2 = []\n",
    "notes_Projet = []\n",
    "notes_ExamenIntra = []\n",
    "notes_Examenfinal = []\n",
    "\n",
    "# On découpe chaque ligne, sauf les trois premières qui se trouvent à l'index 0, 1 et 2\n",
    "for i in range(3, len(notes)):\n",
    "    # Split each line using '\";\"' as the delimiter\n",
    "    row_data = notes[i].strip().split(';')\n",
    "    \n",
    "    # supprimer des choses qo'on veut pas: '' et \\n\n",
    "    row_data[0] = row_data[0][1:]\n",
    "    row_data[-1] = row_data[-1][:-1]\n",
    "    \n",
    "    # Remplacer , par . et ajouter les valeurs aux liste\n",
    "    matricule.append(row_data[0])\n",
    "    groupe.append(row_data[1])\n",
    "    notes_TP1.append(float(row_data[2].replace(',', '.')))\n",
    "    notes_TP2.append(float(row_data[3].replace(',', '.')) if row_data[3].strip() else 0.0)\n",
    "    notes_Projet.append(float(row_data[4].replace(',', '.')))\n",
    "    notes_ExamenIntra.append(float(row_data[5].replace(',', '.')))\n",
    "    notes_Examenfinal.append(float(row_data[6].replace(',', '.'))if row_data[6].strip() else 0.0)\n",
    "\n",
    "# Afficher pouur verifier si ca a reussi \n",
    "print(len(matricule))\n",
    "print(len(groupe))\n",
    "print(len(notes_TP1))\n",
    "print(len(notes_TP2))\n",
    "\n",
    "#verifier si replacer le virgule par un point a reussi\n",
    "print(notes_TP2)\n"
   ]
  },
  {
   "cell_type": "code",
   "execution_count": 113,
   "id": "d8b60de7",
   "metadata": {},
   "outputs": [],
   "source": [
    "# calculer le notes propres par assignment et multiplies-le avec le pourcentage \n",
    "\n",
    "weighted_TP1 = [(score/10) * 0.1 for score in notes_TP1]\n",
    "weighted_TP2 = [(score/10) *0.1 for score in notes_TP2]\n",
    "weighted_Projet = [(score/25) * 0.25 for score in notes_Projet]\n",
    "weighted_ExamenIntra = [(score/100) * 0.25 for score in notes_ExamenIntra]\n",
    "weighted_Examenfinal = [(score/100) * 0.3 for score in notes_Examenfinal]"
   ]
  },
  {
   "cell_type": "code",
   "execution_count": 114,
   "id": "273edefc",
   "metadata": {},
   "outputs": [
    {
     "name": "stdout",
     "output_type": "stream",
     "text": [
      "['0.70', '0.59', '0.57', '0.58', '0.41', '0.57', '0.53', '0.55', '0.72', '0.54', '0.48', '0.51', '0.60', '0.55', '0.54', '0.58', '0.49', '0.56', '0.88', '0.74', '0.51', '0.52', '0.53', '0.61', '0.42', '0.73', '0.56', '0.58', '0.57', '0.56', '0.54', '0.58', '0.51', '0.55', '0.57', '0.62', '0.59', '0.74', '0.52', '0.73', '0.45', '0.48', '0.57', '0.79', '0.46', '0.48', '0.73', '0.57', '0.51', '0.44', '0.53', '0.43', '0.74', '0.48', '0.55', '0.47', '0.58', '0.48', '0.52', '0.50', '0.46', '0.53', '0.69', '0.67', '0.53', '0.50', '0.47', '0.53', '0.53', '0.53', '0.48']\n"
     ]
    }
   ],
   "source": [
    "# Calculer la note final pour chaque étudiant.e\n",
    "final_notes = [format(weighted_TP1[i] + weighted_TP2[i] + weighted_Projet[i] + weighted_ExamenIntra[i] + weighted_Examenfinal[i], '.2f')  for i in range(len(weighted_TP1))]\n",
    "\n",
    "# Verifier\n",
    "print(final_notes)"
   ]
  },
  {
   "cell_type": "code",
   "execution_count": 115,
   "id": "e1414de1",
   "metadata": {},
   "outputs": [
    {
     "name": "stdout",
     "output_type": "stream",
     "text": [
      "Le fichier notes_final.csv a été généré avec succès\n"
     ]
    }
   ],
   "source": [
    "#écrire dans un nouveau document\n",
    "with open(\"notes_final.csv\", \"w\", encoding=\"utf-8\") as file:\n",
    "    # créer le header\n",
    "    file.write(\"Matricule;Groupe;Weighted_TP1;Weighted_TP2;Weighted_Projet;Weighted_ExamenIntra;Weighted_Examenfinal;Final_Note\\n\")\n",
    "\n",
    "    # ecrire les données par chaque etudiant.e\n",
    "    for i in range(len(matricule)):\n",
    "        line = f\"{matricule[i]};{groupe[i]};{weighted_TP1[i]:.2f};{weighted_TP2[i]:.2f};{weighted_Projet[i]:.2f};{weighted_ExamenIntra[i]:.2f};{weighted_Examenfinal[i]:.2f};{final_notes[i]}\\n\"\n",
    "        file.write(line)\n",
    "        \n",
    "\n",
    "#Afficher quand c'est fini\n",
    "print(\"Le fichier \"\"notes_final.csv\"\" a été généré avec succès\")"
   ]
  },
  {
   "cell_type": "code",
   "execution_count": 116,
   "id": "f287d509",
   "metadata": {},
   "outputs": [
    {
     "name": "stdout",
     "output_type": "stream",
     "text": [
      "Ma moyenne par groupe:\n",
      "Groupe A01: La Moyenne = 0.58, Nombre d'étudiants = 38\n",
      "Groupe A02: La Moyenne = 0.54, Nombre d'étudiants = 33\n"
     ]
    }
   ],
   "source": [
    "#créer des dictionnaires\n",
    "group_totals = {}\n",
    "group_counts = {}\n",
    "\n",
    "#en passant en revue chaque élève\n",
    "for i in range(len(matricule)):\n",
    "    group = groupe[i]\n",
    "\n",
    "    # Calculer le score par groupe\n",
    "    total_score = (\n",
    "        weighted_TP1[i]\n",
    "        + weighted_TP2[i]\n",
    "        + weighted_Projet[i]\n",
    "        + weighted_ExamenIntra[i]\n",
    "        + weighted_Examenfinal[i]\n",
    "    )\n",
    "\n",
    "    #mettre à jour des scores et le décompte par groupe\n",
    "    if group in group_totals:\n",
    "        group_totals[group] += total_score\n",
    "        group_counts[group] += 1\n",
    "    else:\n",
    "        group_totals[group] = total_score\n",
    "        group_counts[group] = 1\n",
    "\n",
    "# Calculer et afficher \n",
    "print(\"Ma moyenne par groupe:\")\n",
    "for group, total in group_totals.items():\n",
    "    mean_score = total / group_counts[group]\n",
    "    print(f\"Groupe {group}: La Moyenne = {mean_score:.2f}, Nombre d'étudiants = {group_counts[group]}\")"
   ]
  }
 ],
 "metadata": {
  "kernelspec": {
   "display_name": "Python 3 (ipykernel)",
   "language": "python",
   "name": "python3"
  },
  "language_info": {
   "codemirror_mode": {
    "name": "ipython",
    "version": 3
   },
   "file_extension": ".py",
   "mimetype": "text/x-python",
   "name": "python",
   "nbconvert_exporter": "python",
   "pygments_lexer": "ipython3",
   "version": "3.11.4"
  }
 },
 "nbformat": 4,
 "nbformat_minor": 5
}
